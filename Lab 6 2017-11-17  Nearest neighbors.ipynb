{
 "cells": [
  {
   "cell_type": "markdown",
   "metadata": {},
   "source": [
    "# 2017-11-17: Nearest Neighbors\n",
    "\n",
    "In this lab, we will apply nearest neighbors classification to the Endometrium vs. Uterus cancer data. For documentation, see:\n",
    "* http://scikit-learn.org/stable/modules/neighbors.html#nearest-neighbors-classification; and \n",
    "* http://scikit-learn.org/stable/modules/generated/sklearn.neighbors.KNeighborsClassifier.html#sklearn.neighbors.KNeighborsClassifier\n",
    "\n",
    "We will implement our own nearest neighbors classifier and compare the results with the in-built classifiers offered by scikit-learn. \n",
    "\n",
    "Let us start by setting up our environment, loading the data, and setting up our cross-validation."
   ]
  },
  {
   "cell_type": "code",
   "execution_count": 1,
   "metadata": {},
   "outputs": [
    {
     "name": "stdout",
     "output_type": "stream",
     "text": [
      "Populating the interactive namespace from numpy and matplotlib\n"
     ]
    }
   ],
   "source": [
    "import numpy as np\n",
    "import pandas as pd\n",
    "%pylab inline"
   ]
  },
  {
   "cell_type": "markdown",
   "metadata": {},
   "source": [
    "Load the data as in the previous labs. We will use `small_Endometrium_Uterus.csv` for this lab."
   ]
  },
  {
   "cell_type": "code",
   "execution_count": 2,
   "metadata": {},
   "outputs": [
    {
     "name": "stdout",
     "output_type": "stream",
     "text": [
      "(183, 3000)\n"
     ]
    },
    {
     "data": {
      "text/plain": [
       "<matplotlib.collections.PathCollection at 0x113b4db70>"
      ]
     },
     "execution_count": 2,
     "metadata": {},
     "output_type": "execute_result"
    },
    {
     "data": {
      "image/png": "iVBORw0KGgoAAAANSUhEUgAAAYcAAAD8CAYAAACcjGjIAAAABHNCSVQICAgIfAhkiAAAAAlwSFlz\nAAALEgAACxIB0t1+/AAAIABJREFUeJzs3Xd4FOX2wPHvme2bSkIRREBUVFRUxK6o2LDcH1YEVGzX\n3q9e9Np7770XxN6xIhbsqNgRGypNkJae7Tvn98dsIJvdkARCNiHv53nyADOzs2eSsGfmLecVVcUw\nDMMw6rNyHYBhGIbR/pjkYBiGYWQwycEwDMPIYJKDYRiGkcEkB8MwDCODSQ6GYRhGBpMcDMMwjAwm\nORiGYRgZTHIwDMMwMrhzHcDK6tq1q/br1y/XYRiGYXQoX3/99RJV7dbUcR02OfTr149p06blOgzD\nMIwORURmN+c406xkGIZhZDDJwTAMw8hgkoNhGIaRwSQHwzAMI0OH7ZA2DANUYxD/CcQH7o0RkVyH\nZKwhTHIwjA5KI++hleMABWyQYujyAOIZkOvQjDWAaVYyjA5IE3PQirNBq0FrQENgz0fLxjpPE4ax\nikxyMIwOSMMvAIkse6IQ/aStwzHWQCY5GEZHZC8me3JQsMvbOhpjDWT6HFbBvN/mM+2d7wkWBNjx\ngK3JK8rLdUitQhN/oeHnIbkE8Q0F/96IeHIdllGP+Iaikbec5qT6NAnerXMTlLFGMclhJagqD4x7\ngol3vw2A5ba487SHuOLV89hy2GY5jm7V2OF3oPJcnLvSBBp5B0KPQcmTiPhyHJ2xjG8PcD8C8V+B\niLNNAuA/GHH3yWloxprBNCuthO8+mM7r971DLBInFokTqYkSqY1y2UE3Eot03M5A1RhUnY/zYVPX\nZBGC+G9o6PkcRmY0JOJBSiZAwTjwDAbvDkjRDUjhxbkOzVhDmOSwEiY9+gGR2mjWfd++P72No2lF\n8R8b2RGByOttGorRNBEfVt4RWKXPYJU8hvj3NvMcjFZjksNKSMSydQQ6kolkG0bSyiQA2I3sC7Zp\nKIZh5JZJDith2OE748/LbH9PJmy2HLZpDiJqJe6NQbpkbpcAEhzd9vEYhpEzJjmshO3234pt99tq\nWYJwe914A17OffhkAvkBVBWNz0Cjn6J2dY6jbT4RQbo8AFICkpd6WvBCYKTTAWoYRqchqprrGFbK\nkCFDNJeL/agqP378M1Nf/5q8ogC7Hz6Utfp1R5Pz0bLjwJ4PuEDjkH8WVv5xOYu1pVTjEPsU7Arw\nDEHcvXMdkmEYrUREvlbVIU0eZ5JD61FVdOm/IDGT9Lb7ANLlHsS3Y65CMwzDAJqfHEyzUmtKzITE\nXDI7dcNo7fhcRGQYhrFSTHJoTVoJ4sq+zy5r21gMwzBWgUkOrcmziVO+IIMP/KZD1zCMjsMkh1Yk\nEoDCC4AAUDcZyQ+utZDg4TmMbNX9Ou0Pzh9+FYeudRxnbH8B0975PtchGYaxGpkO6dVAY9+gofGQ\nXAy+YUjwMMTKz3VYK23G1N8Yt8cVREPLZ4X7gl7OefgUdjvMdLKvSdSuAeKIlWW+i7FGaG6HtCm8\ntxqIdzDiHZzrMFrNg+OeSEsMANFQjPv/8zi7jtzBlGxYA2hyIVr5X4h97fzb1Q8pvgHxbJLjyIxc\nMc1KRpP++G5W1u0VS6oIVYWy7jM6DlUbLTscYl8Bcecr+TtadgSaXJrr8IwcaTI5iMg6IvKBiMwQ\nkZ9E5MzU9hIRmSwiv6f+7JLaLiJyh4jMFJEfRGRwvXMdlTr+dxE5qt72rUTkx9Rr7hBzK9qulPTM\n3sTg8brx5/nbOBqj1cU+B3sp0GAwhSZSK84ZnVFznhwSwDmqOhDYDjhVRAYC5wPvqeoGwHupfwPs\nA2yQ+joBuBecZAJcCmwLbANcWpdQUsccX+91w1f90ozWcsTFh+ALpteS8gW9HHD6PrjcjQzdNTqO\n5N+g2QouRiE5u83DMdqHJpODqi5Q1W9Sf68GfgbWBkYAj6cOexw4IPX3EcB4dUwFikWkJ7A3MFlV\ny1S1HJgMDE/tK1TVqer0jo+vdy6jHdjjiKEce/Uo8oqC+II+fAEv/zp5b46+clSuQzNag2dTINvA\nlADiWXP6zoyWaVGHtIj0A7YEvgB6qOqC1K5/gB6pv68NzK33snmpbSvaPi/L9mzvfwLO0wh9+pjV\nrtrSQWfuz/+dMpzyhZUUlubjC5hV4dYU4hmIerdO9TmkVpXDDa4SCOyXy9CMHGp2h7SI5AMvAmep\nalX9fak7/tU+JlZVH1DVIao6pFu3bqv77YwG3B433XqXmsSwBpIu90L+iWD1BKsUAiOR0heduTtG\np9SsJwdxVpd/EXhSVV9KbV4oIj1VdUGqaWhRavvfwDr1Xt47te1vYNcG26ektvfOcrxhGG1ExIvk\nnwr5p+Y6FKOdaM5oJQEeBn5W1Vvq7ZoI1I04Ogp4td72salRS9sBlanmp0nAXiLSJdURvRcwKbWv\nSkS2S73X2HrnMgzDMHKgOU8OOwJHAj+KyHepbRcA1wHPichxwGxgZGrfm8C+wEwgBBwDoKplInIl\n8FXquCtUta4a3SnAYzh1J95KfRmGYRg5YspnGIZhdCJmPQfDMAxjpZnkYBiGYWQwycEwDMPIYJKD\nYRiGkcEkB8MwDCODSQ6GYRhGBpMcDMMwjAwmORiGYRgZTHIwGhWujbDk76XYdrZa/4ZhrMnMGtJG\nhmg4yu0nP8iUZz9DLCFYEOC0O45ll5E75Do0wzDaiEkORoYbj7mbzydOIx6NAxALx7jx2HvoslYx\ng4YOzHF0hmG0BdOsZKSpWFzJZ69OIxaJp22PhqI8fe1LjbzKMIw1jUkORpqyBRV4vNkfKBf8uSjr\ndsMw1jwmORhpeq2/FslkZge05bLYdKeNchCRYRi5YJKDkcYf9HH4hQfhDy5fClQswR/0MeaCg3IY\nmWEYbcl0SLczqjYaGg+1j4FWg3cbpGAc4l63zWIYdf6B9OjXnWeue5nyhRVstvPGHHPVaHqtt1ab\nxWAYRm6ZxX7aGbvyMgi/DIRTWwQkH+n6OuLqmcPIDMNYEzR3sR/z5NCOqF0G4ReAWP2toGG09mGk\n8KIcxFSFVt8GkTdBLPD/H5J/OmLltXksxorVVtby7oSPmPXTPAZs1Z/dRu+U1jxoGC1hkkMOqNpg\nLwUrH5HA8h2JmSA+0FiDVyQg9h1tTTWOLj0MknOAOCgQmoDGvoTSFxAxXVbtxbzfF3DmDhcQDceJ\nhqL483yMv/w57vriOkp7dsl1eEYHZP53tzE7/A66eGd08TB04dbYleehGnF2unpnSQwAFrjXa9M4\nAYi+D/YCoP6chxgk/4TY520fj9GoW0+4j+qyWqKhKACR2ijl/1TwwH/H5zgyo6MyyaEZVJWW9M1o\n4i/sykuxlx6OXX0zmnTmB2jsG6g8F+zFQBSIQfhNtOK/AIirF/i2Bxo2BfiQvONa5VpaQuPTQUNZ\ndsQg8XObx2NkF4/Fmf7JLxm/o8mEzecT17x+OaNtmOSwApqYg112LLpwY3ThZtgV/0XtqhW/JvYV\nuuQACD8H8a+g9lF0yb5oYg5acz8QafCKKEQ/QJNLAJDi2yGwH+AF3ODqi3S5D/EMWB2XuELi6gsE\ns+zwOU85RrtgWRZiSdZ9LrerjaMx1hQmOTRC7Wp06aEQ+wywgRhE3kTLjlzhU4RWXoQz0iiZ2hID\nrUGrb0y13WchXrCdpwuRAFbRdUiPb5DuXyBd30F827filbWAfx8nEVD/g8cCyQPfsNzE1IGoKnbt\nM9iL98JeuA12+eloYnarv4/L7WK7/bfC5UlPBB6fmz2OHNrq72d0DiY5NELDL4NGcBJDnTgkZqJl\no7GrrkMTyz/sk4kkf/7wE5qYm+VstpNkvIOBLHdymgBX37RNIl7EKkAk+x1hWxArDyl9BjyDcMYu\nuMGzFVL6LCLenMXVUWj19VBzLSRngVZAdDK69CA0uaDV3+us+06gZ/8eBAr8eANe/Hk++m/ej2Ov\nHt3q72V0Dma0UmMSv7B8rkF9cYh/A/Ef0dDT0OV+vnzXww1H343aUZ7+Jokn2+hByUfyTkQjb4HW\n4gz9AQhA/r/b7dBQca+LlD6P2jXOv638HEfUMahdAaEncfqW6tipYckPIYUXt+r7FXcr4uGfbuW7\n96cz77cF9B/Uh0123CinNxdGx2aSQ2PcmwBvkD1BgDOCJ0586blceVgfoiFnRM9Hrxex836VeP31\nm578EByLuPtA6Qto9S0Q+wqsUsg7HgkcsHqvpRWYpNBCiT+c5kKNNtwBsW9Wy1talsXgPQYxeI9B\nq+X8RudikkMjJDACrb0L7CjpTUsNJMvo0q07/8x2movuPL83Jd0TDBwSwu3143IlILAfkne0c153\nf6TLXav/AozccvVawbDkfm0dTQZN/IlWXQmxL0H8EDgUKTgbETNpznCYPodGiJWPlL4Avt0AD+md\nsvXZ1FYtf0oI17o4/7D1OPuATZn+40lIt3exiq5FxIwa6UzE1RO82+OMOqvPi+Qdn4uQltHk4nqD\nLeJODa/Qk2jFaTmNy2hfTHJYAXGtjdXlXqy1foKCS4BAgyPcVFZuQDyW2V8w93cvvTY+GHGZYnWd\nlRTfBv7hOAnCC1ZPpMudiCe3q+lp6OlUc1f9ps8oRKeiiT9zFZbRzpjk0EwSHA2B4YDPGcopQXD3\no3Dd++jRtxtev2fZsf48H3sfsxs9+nbLXcBGzokVxCq+CenxFdLtQ6TbFMS3S67DgviPpNfvShGP\nU8LFMDB9Ds0mYiFF16N5p0FiOlg9wbM5PhHu+PwaXrnzTaY8+xmBggAjTh3ObqN2zHXIRjshEgBX\nw6fOHPJslCp/0iBBaALc/XMSktH+mJLdq0CTC9CqqyD6EYjbqVhaMK7dDks1DABN/oMu2Sc1pLqO\nD7yDsUoez1lcRttobslu06zUDE5tpUjazGi1a9ClB0P0PSDq/EcLv4iWHb3iGdTJv7Er/4e9aFfs\npYegkXfa4AoMYzlxrYWUPA2ewTgDLXwQOBApvjfXoRntiGlWWgFVRUOPQM19zogOqyuafw5W8EA0\nPBHsWtKHucYg+TvEv03Nhm5wvuQCdMmI1B1bEuz5aMV/0fw5WPn/bqvLMgzEsxFS+oxTPh4xk+WM\nDObJYQW09hGovgO0ErCd+kdVl6KRSU6/Q7YJcmpD4rfs56u5P1XlNFlvaxhq7kS1scl2hrH6iFgm\nMRhZmeTQCFUbau8lMwFE0Opbwb0hmUNbcVZLa6xTL/YFkMjyGhck/soeR/IfNPYdale3IHrDMIxV\nY5JDYzTSoMOunuR8JHBgqmJp/W+hB1zrgGfr7K9z9WrkvWJgdU3fZNdil52ALt4DLT8WXbQDdvWt\nLVpXwjDaC43PwC4/EXvRzthlR6LRL3IdktGEJpODiDwiIotEZHq9bZeJyN8i8l3qa996+/4nIjNF\n5FcR2bve9uGpbTNF5Px629cVkS9S25+V9lLuUwJgNbK8ontdxCpESp8H7zY430YP+PdGSiY0+pgu\neScA/gZbveDdAXF1T9uqVRemZrA6Jb8hCrWPQeSVVbosw2hrGvseXToKolPAXgixL9Dy47HDk3Md\nmrECzXlyeAwYnmX7raq6RerrTQARGQiMAjZJveYeEXGJUzvibmAfYCAwOnUswPWpc60PlANtv+RZ\nFiIC+eeQ+WHuRwrGOce4+2KVjEd6/IT0mI5VfAtiFTV+Tt+2UHg5SJEziQ4v+HZBim9JO07tGoi8\nS+ZEJaeiZ0OqdtYnCk3Mwa66Drv8JOyah5vVNKWaQKOfopFJqF3W5PHGmkntajT+I5pcuurnqr4O\nZ5Gr+r+jEai+yjwJt2NNjlZS1Y9EpF8zzzcCeEZVo8BfIjIT2Ca1b6aq/gkgIs8AI0TkZ2AYMCZ1\nzOPAZUC7GFNnBQ/GFj/U3A7JBeDujxT8F/GlT3BrSd0kK3ggGtgfkn+DVYxYxZkHaQ2N5u16H9ia\nmI1WXZLqy3Ch/uFI4SWIVYTGvkTLjsfp44hD9DM09CiUvoy4ss/c1vjPaNkxOGWmBTSG5p+Nld8u\n8rXRBlQVrb4JQuOdGdMaQ327I8U3rHxRvsSM7NvtRaDh1I2S0d6sylDW00RkLDANOEdVy4G1gan1\njpmX2gYwt8H2bYFSoEJVE1mOzyAiJwAnAPTp02cVQm8+K7AfBPZj1k9zmfH5b5T2DDBkj3lIfCKJ\nyEK+ei/AxIcjlK7dlQNO24cBW63X5DlFPCuuzGl1Bysf7IZLilqpYm6gdpVTPE2rcIbT2hB5G038\njpa8ApXnk96ZHgE7gdbchRRdnvGWqkm0/DjQBk8LNXeg3i2RLENzjTWPhp6B0AScuTupcuPR99Gq\nK5Giq1bupFYpJOdlbhdfqt/OaI9WtkP6XmA9YAtgAXBzq0W0Aqr6gKoOUdUh3bq1Td2iZDLJ1aNv\n5bRtzueesx7lrXsvJzZ/D+zqu3EnnmaLIY8x+uRXmfLMFP6zyyW8++RHq/yeIhYUXI7TpFXXf+EG\nyUPyzwJAwy9lX6kuOQdi70JycZYzJyD6bvY3jU1z7uIyRNDQsyt7KUZHE3qIzBF6UQi/imYtQd4M\neSeRObLPD4EjTLXidmylkoOqLlTVpDozaB5kedPR38A69Q7tndrW2PalQLGIuBtsbzfefvh9Pn/t\na6LhGIlYhLNv+h1fwMYSZ3GfQJ7NBpuH2PPQpURDMe485SFi0fgqv68V2BMpeQJ8e4F7IwiMRrq+\n7iwYBKm5FA2fLABVSM6n0TUoGnuE11qylyVXZ4lLo3OwG/tZ243cPDRNAodC/knO754EAR8ED0UK\nzlrpMI3Vb6WSg4j0rPfPA4G6kUwTgVEi4hORdYENgC+Br4ANUiOTvDid1hPV6Y36ADgk9fqjgFdX\nJqbV5bX73iEach6vNxgUwnJldqAFgsruB5c7/xD48/tZrfLe4t0cq8udWF0nYhVd7KwRUMe9Cdnn\nWYB4BoF3WzJbDQMQPDL7m3mHgGZLagHEv8/KXYDR8Xi2IutNgtUNpHClTikiWPknI92/QEpfRbpP\nxSq8mOX3hEZ71JyhrE8DnwMbisg8ETkOuEFEfhSRH4DdgLMBVPUn4DlgBvA2cGrqCSMBnAZMAn4G\nnksdC3Ae8J9U53Up8HCrXuEqitd7CkjEhcYmk8aizrcymUiSX7z6C+9JYARYQdJ/hF5wDQDPlkjx\nTeBeP3W3lg/4wL8XEjw8+/msQig4H6cpq+6cAfAMBP++WV9jrHmkcFzq7r6uuUcAP1J02SrPpBbx\nIe6+pjBlB2GqsjZhwpXP8/S1LxOLxBFRnvjqZ7r1Sr/DDtda3PKfdfjkzRL6bboO939702qPC0CT\n89GqqyH6oTOyxD8CKTh32XrPqgqJH51mJvcmiHudJs6IM3wx9AzYlYh/b/APdzrQjU5DE3PQ2vsg\n9j24+yH5JzpPo8YaoblVWU1yaEK4JsyZO17Egr8WEamJsMGgMNc+/QeWW3G5ne/dBy934Z6L1qVH\nv+5cN+liuq/TtYmzGoZh5IZJDq0oHovz8Ytf8O37P/L+U5+gdoTt9qyisEuCHz7PZ+5MP3036c2D\nP9yySo/ealc4o4zcvZ0FYgzDMFpZc5OD6RFqBo/Xw7DRO7H18C1494mPSMQsPn49ffLaojlLVyox\nqMadIn9VF0HkrdTEIxvNPwnJO8lUzDQMIydMckhRu9ppuycJvp0RqyTjmGBhAK/fQyKWWVm1V//u\nGdtW+H7RT9CqKyA5G6fzT533rhtLXnufU6gvMKLF12IYhrGqTFVWwA5PRhftiFZdjFZeii7aBTv0\nfMZxLpeLUecfiC+YPqvTF/Ry9JWjm/1+GvsWLT8FkrNwkkKC9DUeAA076z8YRhupXFJF+aLKXIdh\ntBOd/slB7TKoPAeIpNcFq7oC9W67fNJZyqjzDsDtcfH0tS9TU1FL17VLOP6GI9lu/62a/541d5J1\nAltD9mLK/inn7jMf5fOJ0xBL2OmgbTnl1qMp6rpyY84No6G/Zy7gmjG389cPs0FgnQ3X5vwJZ7Du\npm1TosZonzp9h7SGnkOrr84y+9MNeadhFZyS/XWqJOIJPN6WD/O0F+0C9oKM7UsWuFn0t5c+G0TI\nL1Js9y4cNcTF0vnlJBPOk4Xb42Ktdbvz0E+34nKZ0gPGqolFYhze7xQql1ShtvNZIAJ5xXlM+Ose\n8gpNUbw1jemQbi6NOkt7ZkhS/+7+t6//4NnrX2He7wvYdMeNGPnfEfTou5L1ndwbQewf6h5VIiHh\n2lP68vWHBXi9SjwmjPh3BZvtPozqsjeWJQaARDzJ0gXlfPXWdy16WjGMbD579Sui4eiyxABOBZZE\nLMGHz37GvsfvkcPojFwyycG3C1TfkGWHH/HtDsCkxz7g9pMfIB51OqJnz5jHe09+zF1fXEvvAY2s\n7rYCUnAGunQqdQXO7ji/N998WEA8ahFPFcKc+GgPZv/1J+GazOanWDjO7BnzVktyqFxSxRsPvstv\nX/1B/837sv+Je1KyViOLHjWg8V/R0ARI/gO+oUjgIDMbtp1bNGcJsUhm2ZRIbZQFsxblICKjvej0\nHdLi7gP5dSu0WTjlAgIQGEEsuRGXHngDNx17z7LEAJCMJwlVh3nkwqdW7j09myAlj4JnENGwl49e\n67Ks/EadaCjOb9P+JJDfcLEh8AY8rLNRy5NSU+b/8Q/HbHQmT175Ap++8iXPXv8Kx2x0Jn9Nn9Pk\na+3w204J8fDzEPsQqm9Elx5g1r5u5wYMWQ+PL7NpNJDvZ+NtNshBREZ70emTA4CVfzpSOgGCRzjV\nT0seRAov597/PMZXk77L+hq1le8++CnrvsaoJtDELNQuQ7yDsUpfIJL3KZC936JiUSViCZZr+Y/J\n5XbRpXsR2+7b+usr3HPWo9RU1C67k4xF4oSqwtx+8oMrfJ1qHKouBCLYts2MaUGmTfFQW7EIrX2s\n1eM0Ws/mu27CeoP64vUv/x30+Dz07N+Dbfcza3h0ZqZZKUU8g9LqxyQTSSY//iHxLI/cdQpLC5p9\nfjv8JlRdCsRBE85IqOJbKO5WSHH3IhbPzb4cYyKeZOAOA/j5898RS9hhxNacdudxuNyt3xn9zbs/\nprU915nx+a8kk8nGO8ATvwM2c373ccHo/tRUuhDLKVR40pXv8a9zTm/1WI3WISJcP/linr3hVd55\nbAp20mbY4Tsx5oKDV8vvmNFxmOTQiEQ8QSKebHS/L+hj5Ln/16xzaez71Mps9foPYlPR8lOwSp/k\nzHuO5/JDbk6rAFsnHomxVr/u3DLlCoBGZ0wv+XspYlmU9mxe/0A2Xr8nawxujwvLWsFDpuSTTCQ5\n/7D+lC30oLo8xvsvsRgwdCYbbr3+SsdlrF6+gI+xl45k7KUjcx2K0Y6YZqVG+AI+eg/omXWfiDDi\n1L3Z59+7N3ke1ShafSOZ8xriEP8RTcxh2/224rhrxmC5M38cqlBTXouIZE0Mf3w/i+M2OZujNjid\nI/ufyolbnsucX1ZuvaThxw1La14A8PjcDBuz8wrLeIi7DzO+6U+oxpWWGABiUXjt3kkrFY9hGLlj\nksMKnHnvCfiCvmVt/i6PC1/Qx+2fXsXx1x/ZZN0jO/wOumg7iDcyH0PcYC8EYO9jdsPtznyQ8+f5\nGHro9llfXltZy7m7Xcacn+cRi8SJR+P89cMc/jP0EqLhaAuu1HHsVaPZbOhAfAEvwYIAvqCPDbde\nn1NuO6bJ19YkTs76/VAbKhZXtTgWwzByyzQrrcCgoQO5+6vreOGmifw1fS4bb7cBh/znXyuc3xCL\nxPj+wxlgL2azjf+L17+CpRU1Du4NAcgvzuPEm47kgf8+QSwaR23Fn+djvS36sethO2R9+ZRnPyPe\noM6TqhKLxPj0la8YNnqnFl2v1+/lurcvYtZPc5k1fQ69N+zF+lus26zXbjZ0B+Lxx4H0Zil/no+d\nDtquRXEYhpF7Jjk0oe/GvTnn4eyzpOtociFojK8mL+Hq0bemNsZA1+PCB2YzZNcswzklwKw/9+Kq\nYZewdH4ZGwzuz7+vO5ybP7yCNx6YTHVZDTsftC1DD90etyf7j2nR3KXLljCtLxaJs2Re9g7u5ui3\nyTr026TphYHqKywt4KjLD+OJy58nFo6i6vTLrLPR2gwb07IkZbRfqlE09DxE3gTJQ4JjwLerqR68\nBur05TNWhSbmohVnQOJ3KpZ4GLvtekTD6f9JfAGb8V/OoLi0rnNbwOrFtM/24IojZhANxZYfG/Rx\ny4eXM2Cr9Zr1/lNf/5prxtyWMVHOn+/nqtfOZ/NdNlml61sZP3w0g4n3TqJ6aTVDD9mePcfugtfv\nbfM4jNanGkOXjk6NTqv7nQtA8HCswnG5DM1ogeaWzzB9DitJNYGWHQ6Jn4EYH73mJ3uiVT6aWH/t\nBy/Jgke45pjf0hIDQDQU5dGLnml2DFvvswW9N+yV1onsC3jZYHB/Bg0d2LILaiWDhg7koqfP5vp3\nLmG/E/Y0iWFNEpkEiZmkD64IQ2g8msysFWZ0bCY5rKzYJ6DVgFOXqbbaRSKe+Wgdj1mEaurGiwcg\nOIqKpYUk4plrQgDM/PavZofgcrm4ecrlHHbeAfTs351e66/FmIsO5rpJF5nHfKPVaXQKdSVf0rkh\nltuneKP1mT6HlZVcCLp8HsRWu1Tz9O3diYbTJw55fG622r0feAciwVHg241CTyy9PHg9a63bskWD\nAnl+M0bdaBtWKc7CVA3m/4iAVZztFUYHZp4cVoJqDHUPSNs2YPMwO+9fiT+4vMKrP8/HLofuzIbD\nJmCVPID4hyEi+AI+9j9xT3zB9CYXX9DLkZcc2ibX0BpUFY19h9Y8iIZeQu2aXIdkrEYSHEnWUi8S\nAG/24dZGx2WeHFpA7Rq06lKIvI3TnOTDKdTnPAace9vfDB3h450XdwUR9jpqN7bbfytUYxD/3jnW\nswUibo6/8UhcHhcT755EIpGkoCSfE28ayzb7bJmz62sJ1QRacTpEP8MZvuqF6qug5HHEs1muwzNW\nA3GvjxZdl6qjJYANUoyUPISI+ShZ05jRSi1gLx0D8R+AWCNHWODeFCl9flmbv0Y/RSvOxEkmCniQ\nLncj3q268I0LAAAgAElEQVQBp0xHqDpMfnHeiktUtDN26DmoupqMNmirJ9JtiunzWIOpRp3/BxIE\n90Dzs+5gzGI/rUzjv0F8Oo0nBgAbkjMh/h14t0STS9Dyk2lYOkPLj4duHyNWAW6Pm8ISp4BfMpnk\nize+4eepv9Gjb3d2G7UDeUXtdD2E8PNk7ZzUSkj8Bp4N2zwko22I+CB1c2OsuUxySEkmkiycvZjC\n0gLyi7N8ICfnOOUumnrQUhsSv4J3S4i8QdYXqDrDAoOHLNsUrgnzn10u5e/fFxCuieAP+nj4f09y\n85TL6T+o7ypd22qRdfW8OivaZxhGR9Bx2jFWo0mPfcAh3Y/jxC3OZWTP47lq1C2EaxsUynMPcMpd\nNEUscPcHQO1ysj9pxEEr0rY8c90rzPl53rIJbZFQlJqKWq4ZcxvJRJJ4rBnv3ZYCBwGBzO2Sv6wk\niGEYHVenSQ6qikY/wa68ALvyUjTmLOLzzXs/cudpD1NTUUukNko8GufzidO44ai70l4v7j7g2w1n\nxbjGeMDVGzzOI7f4dnRGcmRwgze9XtJ7T32cdbnGOb/8zb7BMYztfxhXjzqLub/ObcllrzYSHAne\nLZx2ZwD8TjmF4tsR6TS/Vp3eorlLePHW13nm+leY/fO8XIdjtKJO0aykqmjlOIhMBkKAhYZfRvNP\n4OlrM+sTxSJxvnjjGyoWV1LcrWjZdim+Ga19AEJPgYbAvaUzES7xI2CBf0+k8LLlHXSeIU4SiH0K\nWtc+HwD/Xohn+Qxm1TiWZF9OU22byx79i8E715BMziASmkxo6W0ES/dsvW/QShDxQJfHIPY5GvsS\ncXUD/36IGe/eaUx67APuOOVBVMG2bSZc8TwHnb0fx141JtehGa2gUyQH4tMg+g7LO1BtIAI192PH\nts36EhH46u3v2OOIocs+7EU8SP6pkH9q2rGqCcDKuGMWESi+EyJvouGXABcSPBh8e6e/vvJ89jxk\nLs/cWUoskn6OPgMiDNm1GrcHQAnk2STCZ6GJNxB3v5X5brQaEQHfDogve9VYY81VvqiSO055MO1p\nNxlP8tJtb7DTgds2uz6Y0X51iud/jbwL2nCxHQBh+OHutDWa68QicW4/+V5O3vxAqn4dhL3kYDT2\nVdbzi7gbbUoRcSGBf2GVPIpV8hDi3yftWE3+A5F3OPTkBWy4RQh/MInLbePx2bg9ynl3zUklhvpR\nJ9HQU82+fqP51K5Fw6+joWfQxJxch9NuffHGN43+v5ny7Kc5iMhobZ3jyUECONP+G9Yzshiyz/YE\n8t8nXB3GbrB+cjSUZPZvLu66oDvn3/0jWnYclIxHvFu0XmyJP0A8eP1RbnzxD6Z/kccv3waJhoU5\nMwP07JvZoe1y25A07butTWNfoeUnpP6RBBQNjsUq/G9O4zKMXOgUTw4SGIGTHBpSinsfxL1f38Bu\njSyFmYhZfPx6EbYNEEFrbm3x+6vG0NDz2GVHY5efhkbr3Vm5+i4bBSUCm21Xy6EnL+bws8tIxEvw\neDKHwir+jA5to3GqCTQ6FY28j9rZV6VTjTlzUrTW+SICRCE0AY1+3qbxdgTb7T8YO5k5ZNnr97Dr\nYTvmICKjtXWO5OBeFwovBnwgeamvINLlLsQqoGf/Hpw//nQ8/ix1Y4BkUlg2kTzxa4veWzWOlh2J\nVl8Fsc8g+g5afgp29R2p2HqDbycntvoxWx7GTbiSmT9vTiRUrxlKPYirKxI4sEVxdFYan4Eu2gmt\nOBmtPBddtCN27ZOZB8a+JPv8jDAafn51h9nhFHcr4ox7j8cb8OLxeZwldANeDj57f9PfsIboHM1K\ngBUcifr3hOinIB7w7oxYwbRjth6+BZ+/+lVa85KIsuk2tbjqHjxcLZyQFpkE8V9Jn00chtoH0OAo\nxNUdKb4NrboOwi8CUackQeFlBL0D2GT4MxB+GQ2NB61F/HsjeccjVjudOd2OOIn5GNDy9B3V16Pe\nLRBPvcWQVjSHRVc0K77z2vuo3dhy2GZ88uIXxKJxtv+/IfTduHeuwzJaSadJDgBidYHA/o3uP+XW\no/np018J10SIhqL4/E7H8BnX17Xv+5H8M1v0nhp9F2f4bMNgPM7damB/RHxI0aVo4SVAMq2ImYgF\nwYOdUU5Gy8S+IPskxBgaehYpumL5Ju/WaSXYl5EgEvjX6oqww+u+TlcOOmu/XIdhrAadKjk0RpP/\noDUP0jXwGY9MXYt3X96e376z6bfh3+x94HsUdomDa23Iv6DlwzalBKf1LkuThVWUfqgI5kfSirSx\nEuI22JVpW8TKR4uugsoLcNYrSDgT/Lzbgy+3c0oMIxea/CQSkUeA/YFFqrppalsJ8CzQD5gFjFTV\ncnE+3W4H9sW5XT5aVb9JveYo4KLUaa9S1cdT27cCHsOpxfAmcKa2UalYtSvQ0HNQcxdO2ekkef4/\nGDH6azjxQiRwPBreHpJzEO9g1OqNRqeCewPEVdqs95DgYWj4BRoW3wOfqYG/unm3aaS5KID4Mz/w\nrcC/UM8gNPwK2FWIfxh4t18jZnyrHULDr0HiO3CtjwQPcp6kDaMRTZbsFpGhQA0wvl5yuAEoU9Xr\nROR8oIuqnici+wKn4ySHbYHbVXXbVDKZBgzBqUT3NbBVKqF8CZwBfIGTHO5Q1beaCnxVS3Zr9HO0\n4qRUe3KW5gQCOLkzBkRx7v7V6czWGARHIgUXNeuDww69DFWXgbhS58hHujzIl5NDPHjeE/z9+z90\n613KUZcfxu6H77zS12Rksmsegpo7cZKzAgHwbIKUPO7M8u4ENLkIXXow2FU4fV9+EC9S+gziXj/X\n4RltrNVKdqvqRyLSr8HmEcCuqb8/DkwBzkttH5+6858qIsUi0jN17GRVLUsFNxkYLiJTgEJVnZra\nPh44AGgyOawK1ZizUI1mWw+3TsN9qWahuqaK0Iuoaz0k7/Am388KHoj694b4t05ThWdzPn35S649\n/A5iUefOdsGfC7n1xPuJRWLsc9zuzbuO5BK09kGIfgSubkjecYhvl2a9tj1JJpNM/+QXwtURNtt5\no1YtU27l/xv1DkZDz4BWIf59wb9Pp0kMAFp9A9hLWH4TFAGNopX/Q0rNSCwju5Vt4O6hqgtSf/8H\n6JH6+9pA/cpw81LbVrR9Xpbtq1fsW7I/LbREGEKPQjOSA+CMjPLtSCKe4O5TH+aN+9+h4UNbNBTl\nkQufZvixw5pcQEWTS9Cl/0rdDcYh+Qca+x4tOBsr7+iVu6Qc+OP7Wfxv+FVEQzEQSMSTnHzr0ex/\nQuu184t3MOId3Grn63Ci75P5+64Qn45qBJEVFZM0OqtV7v1UVRWRNukjEJETgBMA+vTpswpnUpxl\nDldRIxOqVuSh8ycw+fEpGYmhTtXSaqLhGP6gL/sBKRp6ZHliWCYM1bdgSwEkZyHu/uAfjmStDJt7\nyUSS8/e6korF6d/H+85+jA2HrMcGg/vnKLI1TWNPSUInmepkrISV/c1YmGouIvXnotT2v4F16h3X\nO7VtRdt7Z9melao+oKpDVHVIt27dVjJ0oFXuIq0Wz1JOxBO8fv9kouHGx83nFQXxBbxNnyz6CemJ\nYdkOp3+j9n606nJ08R5ocn6L4mwr330wPWuZ8ng0zhsPvJuDiNZQgYNoOMkS3ODbFZFm/K4ZndLK\nJoeJwFGpvx8FvFpv+1hxbAdUppqfJgF7iUgXEekC7AVMSu2rEpHtUiOdxtY712oj4kWK78BZm8HH\n8juo5n47PM6iNvn/wa59Cnvx7tgLt8IuPwlN/NHoqyK1UZKJFa+SdsBpw5u3Jq/Vo5EditOBjlNW\n3F6KVl7S9PlyoLYyy/wPwLaVqrLsJcyNlpOCM8EzCGeQRcDp93L1RYquynVoRjvWnKGsT+N0KHcV\nkXnApcB1wHMichwwGxiZOvxNnJFKM3GGsh4DoKplInIlUFfW9Iq6zmngFJYPZX2L1dwZXUd8O0G3\nDyDyBhr/ESJvs+xDNYMb8IB3J9DF4NkKyTsarX0UQk+zrPM6+gEa+xJKJzplMRrIKwpS1LWApfPL\nM/YBuDwu9jxq1+bFn3ec817Z1nFOY0PsU1Ttdjckc9AuA0nEGxZDBH+ej50OzF5K3Wg5ET+UTID4\nD5D4xZnl792m3f0+GO1Lk0NZ26tVHcpan111FYTGZ9njAvdG4N8XCR6atpCN2pXoop3ITChuCByK\nVXR5xtlUlY9eeJ9rj3iQZDyzQ7z3gJ488vPtzXtyAOzQs1B9XerkCZxmpmxPJi6kx0/LPgxUlc8n\nTuO1eycRqg6z62E7sO/xe+ALrLifY3V49oZXeOKKF4iFo6g6iWG9Ldblpvcvxe0xEwINo7W12lDW\nTkGKcTrtGrR/i98ZHpqt5EbiTxAvaMPkkIDw09jhl5yV4QouRFylaPRTtOoSdt75HwqeyuPeS3ox\n+1cPaoPH78bj9XDBU2c1OzEAWMHD0MABTtlvqwStuR3CExtchxt8u6XdJT4w7glev+8dIrVO7H98\nP4vJT3zE7Z9ehcfbtkM8Dxt3AJvssCGv3z+Zmopadhm5A7setoNJDIaRY+bJAdDkfHTxcDJmMUs+\n0v3TrKN9NLkQXbwHjTdFAbjB1ROKboeyMWnnV7xUVGzKqxP+j269u7LbqB3JL1618f1qV6JlYyA5\n30la4gOrBCl5FnF1BZw1f4/Z8IyMjmB/no+z7jvRTMIzjDWceXJoAXH1guJb0cpzcTqnFfAhXe5v\nJDEshuQc8G6bKu7WWIJIgL0Uqq+hYQE4IUaX4p845vJbnPdvjeuwiqD0NYh9AonfwbUu+IamFfKb\n/vHPuDwuaJAcIrVRvnjja5McDMMATHJYRvy7g2+qM0FO3ODZEpH0BYJUE2jVxRB+zbkr1yhY3cFe\niDPJKEt7v4adRJJtn3gh+Te0UnKAVBVX31DnK4vCroVIljkeLrdFSU9Ta8cwDIcZrlCPiA/xbYd4\nh2QkBgCtvR/CbwAx0GrnT3sJBEZC4VVAMOM1EAD3xmTNwxoDd/MXRlkyv4ybj7+Xw9Y+gWM2OoNX\n734L217x0NiGthy2Kf48Hw27NtxeN/sev0eLzmUYxprLJIcmqNrYNQ9iL9wOam4ns7pqBLv2efDt\nD1Yx6cuRusHVxVmFTgKkz8oOQHAkSBANvYhd+T/smvvR5JKscVSVVXPKVuOY/PiHlC0oZ95vC3jw\nvCe57cT7W3Q9LreLG9+/jLXW7Y4/z0ewMECwIMC4x06jz0arv3KJYRgdg2lWaoJW3wyhCax4PkGM\n07e7iBsmP05Ab0zVsgF8u0PecVB9I6gNpGajWt0g72jw74cu2Q+SS1Ln96G190HJeMSzWdo7vHH/\nZGqrwiQTy4fARkNR3nvyY4645FC6r9O12dfUZ6O1efz3u/jj+1lEaqMMGLIeXl/nKURntD6NfuGs\nVmiXO6P0AiPNaoUdnEkOK6B2KDX/YUUjkuCvGX7+/PFv7h/3Fv954C6WjQCzl6BL9klVcq1r/vGD\nd2vEuw1afSUk/2H50NOoUy2zYhzSLX0u4PcfziCWpeyG2+tm5rd/tSg5gLOw0PpbrNui1xhGNnbt\nI1B9O8tuoOLT0dCzUPpSxlK8RsdhmpVSNLkEDT2Dhp5Ck6mCs/Y/qTUYskvEIRwS7rqgN4lYgvef\n+gRwPnhFBA1NAI2Q3hkdgcjL6NKREHmLrPWRknPR5NK0Tb0H9MTlzowlmbDp0XcV6kwZxipQuxqq\nbyX9yToCyflo2JQD78hMcgDs0ER08W5o1bVo1XXo4r2wax9z6hdlWVdYFWoqLd59oQunDx/AjGnO\n43P9Jh8AYt+QfQ1jWL74TDbqrDFdzwGn7YPbm/6g5/a46DuwN+tt3q+pSzSM1SP+fcbvqiMCkffa\nPByj9XT65KDJJVB1IU7TURjnQzsK1Tc7Tw7Bw3EK9C0Xj7m48PD1uPWcPsyd6eyzLGHr4Vukn9y9\nPo213NVWW7z1ZAlP3tqdbz/Or1fC2wWewYhVmHZ87wG9uHLieXTv2xWv34Pb62bwnoO49q0Lm3ed\nqs5kP7us6YMNo7msIrKXbBFo5lK6axJVG03MRe3s9dM6EtPnEH2X7Gs7JNHwWxAc69QtCr8CVIF7\nAKHoEew39h4uvG82VeUWEx/rxZfvr81pdx6XdgbJOwqNvJSqe+RQhZk/Bnjunm4c8Z+F9OgdY8Fs\nHw9fvRZjx1XjDZQgxTdmDXXLYZsx4c97WLqgnECer9krpmnsS7RinDMhD0U9myPFtyCuxiq7GkYz\nuTd1Blgk55KeJHxI8MhcRZUTGv0QrbwA7GrARr3bIMU3IVZJrkNbKZ2+fIbWTnCWUcwYoipOs5Jd\nnup38EDBFYh/W3TJfqhdgaRW10okvBA4HG/p/9LPHf0YrboMTTiL4CWTTnK475JeHH/xAvzB5d/7\naFj4euq+7Djq5latlqmJec6IqLQ2YRe4+iBd315hLSe1a0CrwOqRdd7Hiiz4cyFvPDiZRbOXMHiP\nQew2esecFPZrjzQ2DQ2/AhpHAvuBd+cW1dRqbzQxFy3/d2oyqOXcDBWcj5U3JtehtRmN/+6s0532\nOeIG98ZYXV/MVVhZNbd8hkkOyfno4r3JHJEkqa/6d0N+8P8fRF4hsy/Bh3T/cNldgkY/QctPof4v\nSyQk/DA1SN8NYvRYJ7Mj+p+5efTa+ttVvqb67OqboPZRMosKBpEuDyHezN8R1TBaeRFEJgGWM0ej\n4EKs4P816z2nvfM9lx10I8l4kkQ8gT/PR7d1unLn1GvIK+zco1fs6luh9jGW9zkFwL83UnR9x04Q\nqpD4GexK8AzqdMNY7coLIfwSmcuxBpDS5xDPhrkIK6vmJodO3+cgrl5QcDZOv4IL51viTf29YVtq\nDKLvkbWTWTwQ/2XZP7X6Rho+jfiDyvqbRrMmBoBuvbIvfrNKErOpSwyq8NOXQR6/oQcv3teFpfP+\nzPoSrRgHkXdwrjMCWg5VF6PRL5p8u2QyyfVj7yQaii5bqyFSG2XhrEW8eOvrrXRR7Y9qEo3/hibm\nNX5MYg7UPoLzFFd3UxZ2knD867YIc7UREcQzEPFt3+kSAwCJuWRdl15cTt9lB9TpkwOAlXcs0vUl\nyDsZ8k6EgnGQddF1m0bX3dUEuNZa/u/EX1nfq6gkQdmi7E000UhR1u1l/5Tzyp1v8dQ1L/H7N9k/\n0Bvl3Q4IYNtw7cl9uGBMf566vQePXlfC0Zu9wtTX0z+U1C6D6AdkPkmFnfIhTZj7y3wiocx5IbFI\nnA+f+6xlsXcQGp2CLtoBLRuJLtkHe8kBaDLLarfRjxo5QwQ1I3s6Nt92ZC7FSqpEzsA2D6c1mOSQ\nIu71sQrOwCo4G/x7OAXzMvjBvy/LZjov4wHPQMTdf/mmRorphapdTLilB+Ha9CaEWMSFv9u5Gcd/\n/to0xq53Gg+e9wSPX/osZw+9mFtPvI/mNgdK4ACwuvDpWyV88W4hkZALVIhHLaLhONeMuY1ouN6H\neXJRI0MTgWTjd8V1fEEvdjJ7vSd/XraE27FpYhZafobzdKUhIAqJX9Cysag2+D5IkPTyKnVcIJ3w\nbnsNIsExYBWQNsZHAhA8DHF1zHlIJjk0oHYIyo8ncwSTBVYxUnAGieD1xOOFJJM+FA94t0O63Jd2\ntBScRcMhsOGQ8ORt3XljfFcev6E3sWgetm2RSBTi7XYR7sKR6cfXRlIf3jFikTh20iYaivH+U58w\n7Z3vm3U9YuUhXV/ivZc3dRJDxn7hh49+Xr7B3ZfGVpMjS/9EQz3X7cE6G/bCstK/f/48HyNOHd6s\nmDsSDT0FNFzq1Aa7LLOpyL8H2ee2uJBA8/pzjPZJrGKk9FWnCKfVE9wbQsHFSMFFuQ5tpXX65KCx\naU7Ru4qz0chkZ9p/Yi6Z/+EtKH2G76bM5tA+TzNq8405be+NOWLIJrz/5ti0JUQBxD8cCq+gpiqP\nZBKqyl08fv1avPxgN0CY9OzafPX1PbjW+hrP2l9h5R2eEdu37/2I5cr8EUVqo7z7xIfNvkaxSnD5\nN2p0v6vee4gEIO9UnCW9l211vuIzsCsvc9rOV+DSF8+la+9SAgV+Avl+vH4Pu43aiT2OzF5GvENL\nzifzd6Vu36K0f4pViHS5y3mCkLzU04IPCq9A3H1We6jG6iWublhFl2F1/xCr62tYwUM69CCDTj3P\nwa65E2oexGlfV+zwB8yYVsC8PwKsu7EwYPN6TUviJ1r1O5eMeHDZ8po1Fc6u2058gIHbb0iv9Zw+\nB6fJx8YKHsD9187jg2c+IB6tG/1U75RirbDzbsW/WC37pdv76N2YNum7ZbHXf49Nd944bZuVfwLq\n6o3WPpBaVa4aUEjMgMRvaOQVKJmAeDbN+l491+3B+D/u4vspMyhbUM7A7Qcs+96scbw7Q/RjMgoz\nagK8W2YcLr6dodtnzoJMJMG7Y8aER8NoDzptctDkfKh5gLqO15pKi/NGrs28P5Z3Kq2/WZirn/wL\nf9AGtfn+o7lZP7ATiSTvPvERR156iFNVtfZh0GrU1Y8DTjqCj14IEI+mfygnE0m22nPQCmPccvfN\nsrbfe3yeFt+Fb7vfYIYdvjPvPfERyaSN2+M0MV364rlZK7JKYF8ksC/20lEQ/6b+1YIm0KorkNLn\nGn0/l8vF4N03a3T/mkKC/4eGHk49QdSNYgtA4MBGV/gTKwj+vdosRsNYGZ23WSn6WVpRvbsu6M2s\nX/1EQq5lX79+F+SRa9airllliy1v4qEPv2HMWf/g9iz/0LYTSWqrQmj1TVBzf+pOG0jOYr2+N3HU\nRRvgC3hxuV14A158AS//m3AmgfzMJUjr8wd9bLJjZnNQMpHE629ZiW0R4ez7TuTOqddw7NVjOPnW\nY3hqzn1sOayJD/B4I30b8e+b3Sm+JhMJIKUvQt4J4FofPJsjRVcghZfmOjTDWCWd9snBGTniPAXY\nNnz8ehGJuEVRaZz9xy5lwBYh/vo5wHsvdAH+ASJ4vUm69oTDTlvEgM3DXHaMU/LaF/Sx44hBEDqa\nbIsBHfTvPxi8zzV8+eY3+PP97HLo9nTpUUxTaitr+eGjGRnb7aTNU1e/yOa7bJK2XRN/OMuOujdc\nVhpDVSH+g9NB6t2cdTfry7qb9W3Z96ku2TXY3pHbU1uTWAVIwRlQcEauQ1klGnkHrb4N7Png6o8U\nnIv4dsh1WEaOdN7k4Nt12V9VIZkUeq0b5Y43fsfrt/H5lcE71zDi2CWAh/rj/v1BZcuh1fTZIMKi\n+UVsu99gNt2hKyzN/mFZPv9bLJfFqPMPbFGISxdU4Pa4iEcyJ839PXP5xBq1q9HyEyE+3RmGqlE0\ncADknQTlx4K9CKesQRzNPwEr//TmBxEYnVrTon7S80NgVIuuxWjf7NCrUHUxy37Oielo+UnQ5V7E\nt2NOYzNyo9M2K4kVRLo8AJKPy53PJttEOPnyv8krSOLzO80lXr8SCNpkW+xHxM3+x/fhgqfO4oLx\n+0D0bbKNWrFtmDndyzm7Xpo+n6AZevTtip3MbLoRSxgwZPna01p5Qar5J7J8bevwRCgbBck5zvh7\nrXGuo/YhNPJBs2OQgjPAvzvgAylw/vTthhSc3aJrMdovVYWazBn9EEnVHTM6o8775ACId2voPhVi\nn3HsVbNYv/81WA2mAjRWA88X8DDi9H9D5Dkoex1n6ryiCvVbW2IR4Ykb1yIei/P5xGnseljz78J8\nAR+j/3cgz1z3ctooI1/Ay9hLnTkRaodSy5I2fLqIgO2MwkqjYTQ0HvHv1uT7q9oQ+xbxDUUDhyEo\nuPshrp7NvgajI4iCnX3t8sZm+htrvk6dHABEvETt7bn1lKe4v9kVDNzg6gP2YucOvd4Hs4jztGAn\n4c8ZAe6/rBe/fhfE5YlTtqCixfGNueAguvYq4enrXqZ8YQUbbbMBx19/BP02WSd1RMO7vfoa6TC2\nm45Dk4vQsiNSTVKAJlHfLkjxbS2Kv73Q6Mdozd1On4xnEJJ/JuIZkOuw2onUU6FWZu4yZd07rU6f\nHAA+fO5zhuzyF2qTvbpByrLBOeJDim6GynFkW+YzmYD/jVqPH6fmL98WTxKuXdEHeXYiwt7H7Mbe\nxzRypy9dnJpOybkNd+BcTMOmLl+zhlFqxTmpc9YrJhb9CK19HMk/rtHXtUd26BWouoRliTT6Lhr7\nFEqeQTzLR4OpXYOGxkNkMlhFSHAs4h+Wm6DbkIigeSdCzZ2kz9fwQ/6ZuQrLyLFO1+eg8V+wK6/E\nrjgHjbyNaoLfps1k8NAy3E2MDhWBP3/y8c/suPNhk5iV9Ti3B3zBzAqNL932OslEEk3MxC47Dvuf\nQdiLdsCuuQfV7LNsNT4du/IK7MoLnTLgDYaPighSeDXLq8oCeEGKIH9canvdj9kPrrWaXIRF7YrU\n3IaG1xCB8NMrfG17o5qE6mtJf8JSp3mt+pblW+xadOlBUHMvJH6C2Gdo5dnORMnVHWNyPnbVtdhL\nj8Suus6Zg9PGJO84yD811a/kdm46Ci/ECuzf5rEY7UOnenKwQ89D1ZU4k5VsNPoeuDelz8DRVCzx\nk0xU42riO+L1KZcc1Y+bX/qJwpLGc+u83zOLzMUicRbN+pEeBceC1gIKdgRq7kMTs5Hi69PjrXkA\nau5aHm/4dac+T9FNYC9Eq2+G6BRnuGlwNNghSM4C7xAkeATiKkV9W6OhJyC5EHy7IoFDmi6p/P/t\nnXt8VNW1x7/rzDsPEsJbQF7FKmqriEpFEWpFoSrVtoq1Cmovt/eq1Vvfcn1Uq9eqtVSvba8PrLUF\nRYtCfVWqaLUtKqKgIgoiIDE8EwiQyUxmzrp/nJNkkplJAmQyM8z+fj7zmTN79jnnd3ZOzpq99t5r\naZS0K7B1z3s/WcXe5gbEa41Cw/vNn8J/hvhGWkw+0DDsehAtOi9j2by0YSVafS5oBIhBw1I0/CRU\nzGnRq8k0IoKUTEeLf+S0lxR1atIpQ/5RMH99tXdB7a04vyDdBWxaBw0fcPLZtSyc24eGaPvz9vsO\nihv7kDUAABk+SURBVDJzwWrefKEEpCRlnfBui82VrSO3QrQ+yj0X/YpfXNKDlUsTF8DVQ/3zaHxT\ns974Rrebn6CXsOMSqX8F3XYm1D/n+IntKqibA7oDq8fjWKWXI27+XvEdilV2J1bFo1jFUzsWa9/q\nBSkHnb0QyLOVvVbqMOhAS396ZBEpx2/EB9GOBTncG7T2VveHQmPPsQF0N1p7W8bO2RZOSJcSYxgM\nhWMciL6TJhR1mEDDbVx+dyVP/7YPdbssdtdaNEQ92HZzas9GfH4IldgcdsxO0M1JR1OFT5cFse1k\nQ6MKy9+sY9EzZVzz/WG8NKd785cSgNhnzZ8jb6aeKqVh2P0g2Lto6faph8giNLau3aZoDxFByu5y\nFwo2GrmQky609NJ9Pn5XIhKA0HdpHSEXQkjJfzZ/9PQh9b+DDZnMAdwiNElieX4n/zHkP4VjHKSI\ntLN3iDFgaA0/vHIjXq9NoMiHr+8TLF32iLNrq+e8ZcHA4anXLIhAaXlyPCSxQG3n/KpCJGzx2xv7\nEwm7B9eoMwOqaYfEsYJEPKDVpFp7gfggtjK5fC8Q/5FIz5ec5EfB06D0eqTn83mZLF263QChM3CS\nsYScaKilVyLBic11is4nOU+H5eQR97UdA2vfxKUJoZKu3GDoIgrHOPiPImWmptbVguD1WkjsU44+\n9XgaInvWRPG4sO5Tx93kD/k45lt1DB1RT+u8LwCWB1YtL3J0BY5DvAOavwyMI3VeBR/4jnbek88O\nngEpyvcO8fTFKr0Mq/xerOIpTsC4PETEj1X2c6T3YqTnX5Deb2EVX9Cyju9Q6HZbQijtIHiHIxWP\nZjZMSOhsku/LgFtuMGSPghmQFvFCxSNo9YU4kUUVx8ecIu8rDY4vP/oWlseiIar4/M29Dtt2eg+p\n8HiC9B1xAz+YsYs+A4OccsZN3Hh+P9asSB6gjsegpNxyInh2u6GlXqsEyn+Dbr8EEFdvHEqvRYLj\n0MiLoInTaH3gGZa3KQm7ArGKoY0xF6toMhqaCA0fg1XaMrNfpjSVXonG17tuRJ/zNw2cgJRemfFz\nG/ILtXdDZKEzycJ/NJLJHi0g+RpZc9SoUbpkyZI93k81CtF/gr0LlQDsuCpFStAg0mMOuutBiLzo\n7ud8k/wj0kNT7CXvV51onL6REP2Xs3/D26xc6uPa7w+jPty8iMKyYOAhA3ho+T2IpF9coXYdRP/u\nzGYJnNDk1tHo+07YjLg7xhAYh5TdnpR0yJAfaGw9xD8HzxCT+MeQhDZ8iFZPBY3jzF70Oc+D8l+3\n+fxIhYi8q6rtpnUsmJ5DIyL+5qB7qqh/DET/kWAgiiB4MuI7FE1YMZrWsyBlzi9230FI8YXgGYjW\nzoD655uOefDIGLfPWcN15wzD51fsOPQ8IMDtz93Q7h/Wif2fnF5T/EcgvV5A7R0gfieDmyFvEe+B\nYIyCIQWqitZc0io6csxJMhWeD0VnZeS8+2QcRGQtsBPHNxNT1VEiUgE8CQwG1gJnq2qNOI7bXwOT\ngDpgmqoudY8zFWhMtvpzVX1sX3TtgX4ovx/qX0DD8wAPUvRdCJziVAhMhOh7tM7ypTSvAlC7GtFq\niL2H1j8DJTdA+PmkfQ47po4nln3EyqXFlFV4GD72Pqzgvicel7amahoMhvwntjJ1aBPCaPhJJBeN\ng8t4VU2M2nUd8Iqq3iki17mfrwUmAsPd17HAb4FjXWNyMzAK57n7rogsUNWaTtDWLiIeCJ2OhE5P\n/q7oO2h4LsRXg4Z584Uyfv+Lvmz+wk//oREumlHF0eMbrbmTIY1dvyJdvKOSbhajxkWh6AKs4OjM\nXZTBYNiPsEmfFjjVmGnnkInZSpOBxl/+jwHfSSj/gzosBspFpB9wCrBQVatdg7AQSPajZAGRANJj\nDtLtFl79yxjuumwQX6wKEqm3WLMixM1TB3PT1MFuoiB3J91G6gBNfghORHo+j9Xt6i68CoPBkNd4\nD3antrcmCMHM9Bpg342DAi+LyLsiMt0t66OqVe72RqBxGWp/IDE63Aa3LF15xqit3smSl5exZvm6\ndlNdiviR0Jk8cqu/eU2CSzxm8dbCMu75r4H85NvDqa+zcAanUxkHC+l2Y7uDjWrvcgahDQaDAce7\nIeX3uWu1XCMhReA/Ein6XsbOu69upeNVtVJEegMLRaTFCixVVRHptOlQrgGaDnDggXs3ePfYLXOZ\ne9ez+AI+4rE4Bwzryx0vzqBHv+5p94k1xNj2ZXXa7+t3e/hiVZB5D/XmB9eNcdYh1N4M0ti8NlI2\ns82ZRBpbjW6/FmIfO5/9xyJldzal+zQYDIWL+I+GXq9C+DnU3oL4R4P/GxkNc7JPxkFVK933zSLy\nDHAMsElE+qlqles2aowxUQkMTNh9gFtWCYxrVf5amvM9CDwIzlTWPdX7j2ff5ulfLiBa30DUTb25\nbsUX3HLW3dz/rzta1F370RfMmjGblW9/wlnTaygpF3bWpJ9ZFI1YLHq2N+fdfiNiFaHBk5zZBOIF\n/wltxjRSewe6bYo7G8G9rOhiJyBbz4V7PFXNYDDsf4hVAcUXpB196Gz22jiISDFgqepOd3sCcCuw\nAJgK3Om+z3d3WQBcKiJP4AxI73ANyF+BO0Sk8af7BOD6vdXVFvNmPtcioxpAPGazZvk6Nq7dTJ9+\nq9DdD9MQruS9+fV8srgH02+q5LhTd+D3VjDrf/oRCbdOFaeMPW0Ho0/egXi6o+G5aP1C0FoITECK\np7Ub7E7D891IqIn2Lg52DUTfhMCJndMABoPB0EH2pefQB3jGDS3gBWar6ksi8g4wV0QuBtYBjXEA\nXsCZxroaZyrrhQCqWi0itwHvuPVuVdX0Ppx9oHbbrpTl0XCUP95yO5fc/DqBUB0+D0z6IYz/zhYC\nRXECQZh88TZsFWb/qg87tzsGQizlnj+vYeihYYpKbFS3w86EHkhsLVo/H3rMb9tAxD4n5QwnjUF8\nwz5c8Z5h2zbrVmzA5/fSf3i/zIaNMBgMOc1eGwdVXQN8PUX5NuCkFOUKXJLmWLOAWXurpaN844xR\nVK6uoiHihEcecfRuzrl0EwcMirLi3fXcd20FV9/nDAb7/CDd4tjuTDEROOvftnLmj7byxWd+rjrz\nYE44rYZhh4cJFdlNdVoSgfhmNDwPKU6fYEf8X3PWSLTOOyAe8B7SGZfeLste+4g7fjCTul1h1FZ6\nDejBLfOuZtCIge3vbDAY9jsKKnxGbfVO/mPkNWz9sprjJlRz9X3r8QcVy4JYA0TqLbZv9dB/SHPM\nItXUq6MbvN9j19ZP6F7+Qfsn9o/Fqng47deqEXTrRCchT1Pa0QD4DkMqZmf8F/y2qhqmHXRZC5eb\nCHTr2Y3Z63+HP9BOijyDwZA3dDR8RuFEZQW6VZTy4LJ7GHhQXy65o5JgkTYF0PP6IFhk4/d3zFj6\nvEL3Ps0JcWwb/vZ0dy4/7Sv8+KSDeOL+Xu7UVk+axDnNOOspnobQWSDlYPWE4mmZjwjqsvAPr2HH\nW0aAVYWG+ihvv5Am34DBYNivKbjYSsVlxUyYehjFpS8lfefxQPc+zbmcoxHBtiEYSmEwtAYpOg+N\nvAGEmXnVAF5fUE59nTMeUfl5gNee7c59L3xBoMd57eoSqwIpuw3Kuj4D2NYN25pmbyUSi8Wp2bi9\ny/UYDIbsU1A9h0a+df6klEnWALxN5tKDr/wSAsFULpUQ+EcjgTFQfCGVa4p5dV73JsMAEK23qFoX\n4M1X/61LcwHvDV8ffzihkuQVmCLCYcfntnaDwZAZCtI4VPTtT1S/SUO05eU3Dr+owodLj2P+74ex\n+JWvEo8l1vKAVY6EnGXrVukVLHr5Mhoakpuyvs7i3dczdBGdyHFnjGLgwf3xh5ozoQWKAnzj9FEM\nOXxQFpUZDIZsUXBupUZKB92LVl+IRh2fuojzioTh+nOH8dlHu4nH/oDXq5SUH8K9z66md/8GQKHk\nMicZD1BfF+GpX76aMgOpx2fRe2CPLryqvcPj9XDv6z9j/gMv8cqf3sAX8HHa9JM5eapZX2EwFCoF\naxxEQqh/DNIqwfvsmX1ZtayIaMSZw9oQ8RCpF+6+/EDufvozwIbam1HfCMQ3gn8++3Ybg8bCxIuT\nZvV2Oa8/9S9mzZjNprWb6X1gLy66/VzGnTOmRZ1AKMDZV03m7KsmZ0mlwWDIJQrSrdSIszCtZVL5\nhU9VEG2VN9qOW6x4p4i6XY3lDWj1D1F7B9s31xKLtvA7NTFm8jH0Hdw7A8o7zutz/8ndF/4vX67e\nSDxmU7VmE/dc/BtenfNGVnUZDIbcpqCNgwYmJZXFUz/nAZoWxDk7x6D+OQ4fewiWNzn2UbAkyKkX\nje8ElfvGIzfMJlIXbVEWqYsy64Y5WVJkMBjygYI1Dqph2NE6ibtw8jm1eP0tm0VEGXxwPSVliWsB\n6tHYBoaPHMqx3x5JsCjQ9E2gyM9XjxrKUROSFpB3ORvXbk5Zvmn9lnbDlRsMhsKlYMccdOevoWE5\nTrLuRiym/vdX+OfLQaqragjvqidQZOHzRbn6vvUtDyDFiP9IAG6YfTmv/PENXnj4b8Qb4px8wTgm\n/uibWFb2bW+vAT3YvH5rUnnP/hUmdpLBYEhLwRoHwvOASKvCOD59k4eWL+HNZ95j5durOGBYH8ZP\nmkNJKPFBGgDPQAh8EwCPx8OEqeOYMHVcF4nvOBf+fAozf/wQkbrmaw0UBZh225QsqjIYDLlO4RoH\nklcEO9h4/R7GTxnD+CnOjB7Vk9Ddj0L4adC4k3O6eDoiud983/rhidi28uiMOWytrKbHAd2ZdtsU\nTpma/fEQg8GQuxRU4L1E7O0/hfoXaZmgW8B3BFaPJ/dZXy5i23ZOuLoMBkP2MIH32kFKrwWrAgi5\nJUGQUqTs9r06nsY2oOHn0eg7qNrt75AFCs0wxGNx4vF4+xUNBkMSue8XyRDi6QM9X3aysMWWg2c4\nUnQWYqXPJZ0KVUVrb4TwfMALgmN0Kh5HPAdkRLuhbarWbOLe6b9j+esrEBGO/fZIrvi/f6d777Js\nSzMY8oaCdSu1RlWhYRnodvAdiVgde5BoeB5a+zPQcEKpBd4RWD3ndZo+Q8cI7wpz/rBL2bltJ7bt\n3Nser4c+g3sx6+OZeDwmH7ehsOmoW6lgew6JaGw9WjMN7GrAAo2iJVdglfwouV54LsSrnIiswW+j\nu//YyjAA2BBbhca/NL2HLmbRnH8QqYs0GQZw3Es1m7az5K/LOHbSyCyqMxjyh4I1DqrqPMDtOqi9\nCuJfAgljBbvvR32HIYHRTv3I62jNZUAMiKGRV2D3LNBoqsM7KT5bp/00ZJx1H29okdGukVg0TuWq\nqiwoMhjyk4I0Dhr7HK35dzctpwL1KSqF0brHkcBoVOPo9mta1tM6iK0D39ddw9LKSEgIPEMzdxGG\nlHzliCEES4LU72r5N/X6PAw5/MAsqTIY8o/Cmr4CzoO++gKIrwPCpDQMjdg1znvsU5Ie/gBEHFeU\npx/Ns568QBApuwtJl1HIkDHGfn803SpK8CTEu/IFvPQf3o8jxh+WRWUGQ35ReE+v6GLQXaRMwNCC\nIARPcTYl5Cx+S4VVivRcAKXXQ+AUKLoA6fkXJHBCZ6o2dJBAKMD9i+/gxLOPI1gcoLisiFOmjeee\nRbeYcCEGwx5QeG4lu6Z9u0AIvAOQ0PcBEO9g1DMQ4m4+h4R6UnQeIiGkeAoUm5AUuUBF3+5c/8ef\nZFuGwZDXFJ5x8I8kdegMH/gOBymCwEnOmgcJNX0r3X+DVp8PuhNQN4zGZAie3lXKDQaDocsoPONg\nNY4PNI8hrF8VYO4DvVn9cW+GHTGcc64cwKCDFjvZ3jx9ABDvIOi1yHFL2VudtRBeM8BpMBj2TwrP\nODQsJdEwfPJ+iGu+N4xoRLDjVaxb8SVvPP0ad879khFH7URD30O63YyIIOKBwJj0xzYYDIb9hMIb\nkI5/CQmziH7z3/2pr/Ngx50yOy5EwhYP3FABRCH8DBp+KktiDQaDITsUnnHwHeqk+HT5dFlRymqf\nfRjCiSwShrrHukabwWAw5AgFZxzEOxQ8Q5o+F5emnqIaKrFpmvlo7+wCZQaDwZA7FJxxUI2A3Zzy\nc/LFWwkEWxqIQMjmjGmNqTW9TRnfOnyOyFvY1VOxN5+IXXMp2vDJvso2GAyGLqXwBqRj63Diajv8\n4PJNbK3y8cqfu+PzQ0MUxp62g/Ov2ggE2Flbxt/mHMIXn/wfB436CuPPHUOoOJj28Hb4r7DjappW\nXkc2opE3oMccxDcio5dmMBgMnUXBhexWuxrdPJbW4TC2b/NQVXkU/Q67ivLiZyC+nvVrD+e/Tl5G\nQyRGpC5KsDhASXkx//v2nfTol5z3QVXRLWPB3pR8Yv83sCrM2IXBYMguJhNcGsSqgMA4INCivLyH\nnxEn/icVBxyBVfYzrIpHmfmTanZvryNS5xiS+t0RajZt58FrHk99cN3phv1OQcMHnXcRBoPBkGEK\nzjgASNldEBgP+J0V0dINut2EBI5rqhOtj/LxW6to3bGKx2wWL0jTY5EQkCaZjNWzU7QbDAZDV1B4\nYw6AWEVI9/tQewfY28FzACK+VnUEsQRSTGby+FIbABEfWjQF6p6gZbTXEBT/uPMuwGAwGDJMQfYc\nGhGrDPEOSjIMAD6/j2MnjUwyBL6AjwlTT0x/zNKrnZhLBNxeSRGU/AcSOrOz5RsMBkPGKLgB6T1h\n+5Yd/PTEm9lauQ07biMiDDtiMHf+9UaCRYE291V7F9hb3F5J23UNBoOhq8i7HNIicirwaxyn/cOq\nemeWJVHeq4yHP7yX9xd9xJerNzL0awdyyOiDOpQXQKwSsEq6QKXBYDB0PjlhHETEAzwAnAxsAN4R\nkQWquiK7ysCyLEaedDgjTzo821IMBoOhy8iVMYdjgNWqukZVo8ATwOQsazIYDIaCJVeMQ3/gi4TP\nG9wyg8FgMGSBXDEOHUJEpovIEhFZsmXLlmzLMRgMhv2WXDEOlcDAhM8D3LIWqOqDqjpKVUf16tWr\ny8QZDAZDoZErxuEdYLiIDBERPzAFWJBlTQaDwVCw5Mw6BxGZBMzEmco6S1Vvb6f+FmBdBw/fE9ja\nbq3cIt8055teyD/NRm/myTfNe6N3kKq263rJGeOQSURkSUcWfeQS+aY53/RC/mk2ejNPvmnOpN5c\ncSsZDAaDIYcwxsFgMBgMSRSKcXgw2wL2gnzTnG96If80G72ZJ980Z0xvQYw5GAwGg2HPKJSeg8Fg\nMBj2gP3eOIjIqSLyiYisFpHrsq2nNSIyUEQWicgKEflIRC53y28RkUoRed99Tcq21kREZK2IfOBq\nW+KWVYjIQhFZ5b4nJ9rOAiLy1YR2fF9EakXkilxrYxGZJSKbReTDhLKUbSoO97n39XIRGZkjeu8W\nkZWupmdEpNwtHywi4YS2/l2O6E17D4jI9W77fiIip3S13jY0P5mgd62IvO+Wd24bq+p++8JZM/EZ\nMBTwA8uAEdnW1UpjP2Cku10KfAqMAG4Brsq2vjZ0rwV6tiq7C7jO3b4O+EW2daa5JzYCg3KtjYGx\nwEjgw/baFJgEvAgIMBp4K0f0TgC87vYvEvQOTqyXQ+2b8h5w/weX4SSbH+I+Rzy5oLnV978EbspE\nG+/vPYecj/aqqlWqutTd3gl8TP4GHZwMPOZuPwZ8J4ta0nES8JmqdnQBZZehqn8HqlsVp2vTycAf\n1GExUC4i/bpGqUMqvar6sqrG3I+LcULh5ARp2jcdk4EnVDWiqp8Dq3GeJ11KW5rFSSxzNjAnE+fe\n341DXkV7FZHBwJHAW27RpW73fFauuGgSUOBlEXlXRKa7ZX1Utcrd3gj0yY60NplCy3+mXG5jSN+m\n+XBvX4TTu2lkiIi8JyKvi8gJ2RKVglT3QD607wnAJlVdlVDWaW28vxuHvEFESoA/A1eoai3wW2AY\ncARQhdN9zCWOV9WRwETgEhEZm/ilOv3cnJoK58btOgN4yi3K9TZuQS62aTpEZAYQA/7kFlUBB6rq\nkcBPgdki0i1b+hLIq3ugFefS8odOp7bx/m4cOhTtNduIiA/HMPxJVecBqOomVY2rqg08RBa6tG2h\nqpXu+2bgGRx9mxpdG+775uwpTMlEYKmqboLcb2OXdG2as/e2iEwDTgPOcw0arntmm7v9Lo4P/6Cs\niXRp4x7I2fYFEBEvcBbwZGNZZ7fx/m4ccj7aq+s3fAT4WFXvTShP9B+fCXzYet9sISLFIlLauI0z\nCPkhTttOdatNBeZnR2FaWvzSyuU2TiBdmy4ALnBnLY0GdiS4n7KGOLngrwHOUNW6hPJe4qQDRkSG\nAsOBNdlR2Uwb98ACYIqIBERkCI7et7taXxt8C1ipqhsaCzq9jbt69L2rXzizOj7FsaIzsq0nhb7j\ncVwFy4H33dck4HHgA7d8AdAv21oTNA/FmcmxDPiosV2BHsArwCrgb0BFtrUmaC4GtgFlCWU51cY4\nhqsKaMDxcV+crk1xZik94N7XHwCjckTvahxffeO9/Du37nfde+V9YClweo7oTXsPADPc9v0EmJgr\n94Rb/nvgx63qdmobmxXSBoPBYEhif3crGQwGg2EvMMbBYDAYDEkY42AwGAyGJIxxMBgMBkMSxjgY\nDAaDIQljHAwGg8GQhDEOBoPBYEjCGAeDwWAwJPH/spZtZj5qlAcAAAAASUVORK5CYII=\n",
      "text/plain": [
       "<matplotlib.figure.Figure at 0x1131b2be0>"
      ]
     },
     "metadata": {},
     "output_type": "display_data"
    }
   ],
   "source": [
    "from sklearn import preprocessing\n",
    "\n",
    "# load the endometrium vs. uterus tumor data\n",
    "endometrium_data = pd.read_csv('data/small_Endometrium_Uterus.csv', sep=\",\")  # load data\n",
    "endometrium_data.head(n=5)  # adjust n to view more data\n",
    "\n",
    "# Create the design matrix and target vector\n",
    "X_clf = endometrium_data.drop(['ID_REF', 'Tissue'], axis=1).values\n",
    "y_clf = pd.get_dummies(endometrium_data['Tissue']).values[:,1]\n",
    "\n",
    "print(X_clf.shape)\n",
    "plt.scatter(X_clf[:,0], X_clf[:,1], c=y_clf)"
   ]
  },
  {
   "cell_type": "markdown",
   "metadata": {},
   "source": [
    "Recall functions we had used to create cross validation folds in the previous labs. Redefine them here. \n",
    "\n",
    "*Note* : We shall call this *m*-fold cross validation, unlike *k*-fold, which we used in our previous labs, to distinguish it from *k*-nearest neighbors classification. This emphasizes that the two parameters are indeed different from each other."
   ]
  },
  {
   "cell_type": "code",
   "execution_count": 3,
   "metadata": {},
   "outputs": [],
   "source": [
    "from sklearn import model_selection\n",
    "\n",
    "def stratifiedMFolds(y, num_folds):\n",
    "    kf = model_selection.StratifiedKFold(n_splits=num_folds)\n",
    "    folds_regr = [(tr, te) for (tr, te) in kf.split(np.zeros(y.size), y)]\n",
    "    return folds_regr"
   ]
  },
  {
   "cell_type": "markdown",
   "metadata": {},
   "source": [
    "Now create 10 cross validate folds on the data. "
   ]
  },
  {
   "cell_type": "code",
   "execution_count": 4,
   "metadata": {},
   "outputs": [],
   "source": [
    "cv_folds = stratifiedMFolds(y_clf, 10)"
   ]
  },
  {
   "cell_type": "markdown",
   "metadata": {},
   "source": [
    "Import the previously written cross validation function."
   ]
  },
  {
   "cell_type": "code",
   "execution_count": 5,
   "metadata": {},
   "outputs": [],
   "source": [
    "# let's redefine the cross-validation procedure with standardization\n",
    "from sklearn import preprocessing\n",
    "def cross_validate(design_matrix, labels, regressor, cv_folds):\n",
    "    \"\"\" Perform a cross-validation and returns the predictions. \n",
    "    Use a scaler to scale the features to mean 0, standard deviation 1.\n",
    "    \n",
    "    Parameters:\n",
    "    -----------\n",
    "    design_matrix: (n_samples, n_features) np.array\n",
    "        Design matrix for the experiment.\n",
    "    labels: (n_samples, ) np.array\n",
    "        Vector of labels.\n",
    "    classifier:  Regressor instance; must have the following methods:\n",
    "        - fit(X, y) to train the regressor on the data X, y\n",
    "        - predict_proba(X) to apply the trained regressor to the data X and return predicted values\n",
    "    cv_folds: sklearn cross-validation object\n",
    "        Cross-validation iterator.\n",
    "        \n",
    "    Return:\n",
    "    -------\n",
    "    pred: (n_samples, ) np.array\n",
    "        Vectors of predictions (same order as labels).\n",
    "    \"\"\"\n",
    "    \n",
    "    n_classes = np.unique(labels).size\n",
    "    pred = np.zeros((labels.shape[0], n_classes))\n",
    "    for tr, te in cv_folds:\n",
    "        scaler = preprocessing.StandardScaler()\n",
    "        Xtr = scaler.fit_transform(design_matrix[tr,:])\n",
    "        ytr =  labels[tr]\n",
    "        Xte = scaler.transform(design_matrix[te,:])\n",
    "        regressor.fit(Xtr, ytr)\n",
    "        pred[te, :] = regressor.predict_proba(Xte)\n",
    "    return pred"
   ]
  },
  {
   "cell_type": "markdown",
   "metadata": {},
   "source": [
    "# 1. *k*-Nearest Neighbours Classifier"
   ]
  },
  {
   "cell_type": "markdown",
   "metadata": {},
   "source": [
    "A k-neighbours classifier can be initialised as `knn_clf = sklearn.neighbors.KNeighborsClassifier(n_neighbors=k)`\n",
    "\n",
    "Cross validate 20 *k*-NN classifiers on the loaded datset using `cross_validate`. "
   ]
  },
  {
   "cell_type": "code",
   "execution_count": 7,
   "metadata": {},
   "outputs": [],
   "source": [
    "from sklearn import neighbors\n",
    "from sklearn import metrics\n",
    "\n",
    "aurocs_clf = []\n",
    "# Create a range of values of k. We will use this throughout the lab.\n",
    "k_range    = range(1,40,2) \n",
    "\n",
    "for k in k_range:\n",
    "    clf    = neighbors.KNeighborsClassifier(n_neighbors=k)\n",
    "    y_pred = cross_validate(X_clf, y_clf, clf, cv_folds)\n",
    "    \n",
    "    fpr, tpr, thresholdss = metrics.roc_curve(y_clf, y_pred[:,1])\n",
    "    aurocs_clf.append(metrics.auc(fpr,tpr))"
   ]
  },
  {
   "cell_type": "markdown",
   "metadata": {},
   "source": [
    "Now plot the AUC as a function of the number of nearest neighbours chosen."
   ]
  },
  {
   "cell_type": "code",
   "execution_count": 8,
   "metadata": {},
   "outputs": [
    {
     "data": {
      "text/plain": [
       "<matplotlib.text.Text at 0x1135d7390>"
      ]
     },
     "execution_count": 8,
     "metadata": {},
     "output_type": "execute_result"
    },
    {
     "data": {
      "image/png": "iVBORw0KGgoAAAANSUhEUgAAAYsAAAEWCAYAAACXGLsWAAAABHNCSVQICAgIfAhkiAAAAAlwSFlz\nAAALEgAACxIB0t1+/AAAIABJREFUeJzt3XmYU+XZx/Hvj00UF1RwAxRQKKJ1A/cNq1bUqvWtCxY3\nRK11r9W32tbWYrW2tmpdWgW17lLcqfoWUcHdCiiiwAwgioALKCgIqMDc7x/Pk3IImSQzk0wyk/tz\nXbmSnHNyzp2T5Nx5lvMcmRnOOedcNi1KHYBzzrny58nCOedcTp4snHPO5eTJwjnnXE6eLJxzzuXk\nycI551xOniyaGUn/J+mUPJcdK+n0WuZ1lWSSWhU2wuKR9IGkg4q07n0lVSeef0fSREmLJZ0v6VZJ\nlxdhu7+UdHuh11sp0r/H2X4fjf2dL+b3tRiaTbKIO36epHaJaadLGlvCsNYg6VRJLxdr/WZ2qJnd\nXaz1Vyoze8nMvpOY9L/AGDNbz8xuNLOzzOzKhmxDUj9Jc9K2e7WZZUzoru4K9fvI9FkVg6QrYgLb\nPcP0+zIsb5K2STw/RNKL8U/NfEkvSDqyPrE0m2QRtQQuKPZGmtK/7aZAUstSx1APWwGTSx1EOWii\nn1/ZkyTgZGBBvK/r648BHgLuAToDmwK/AY6oV0Bm1ixuwAfApXHHto/TTgfGJpbpBYyOy1QDxyXm\nHQ68BSwCZgNXJOZ1BQwYDHwIvBin7wG8CnwBvA30S7zmVGAmsBh4HxgIbAt8DawEvgK+qOW9jAWu\nBF6Jr38G6JCYn227Y4HT4+OWwF+Az2IM58b30SrXdhLv+UzgI+Bj4OLEdtYCbojzPoqP10q895fT\n3pMB28THdwF/B54GlgAHAYcBU2Icc5PbyrB/zgCmxmWnALskvgMHxce7Aa/FffQxcDPQJs4TcD0w\nL37e7wDbx3kZ4wD6AXPi4+fjZ/h1/Bx7xvf0+0SMRwET4/rfA/rH6YMSsc8EfhKntwOWATVxnV8B\nWwBXAPcl1nskIUl9ET+/bdN+AxcDk4AvgX8CbRvwm9qHVd+z2cCpWT6/DQgHpfnALODXQIu4/DbA\nCzGmz4B/5voc0uI4HhifNu1nwMg6/HaT3/nk7+PPMaaZwDlpy9b1s2pBOAa9B3wOjAA2SsRyUtw3\nnwO/IvF9rWX/7xe3MzC+pk1i3mrfi/TfWdy3HwKXFOwYW6gVlfqW2vHAo8QfLYlkET/g2fEL0ArY\nOX5JeicOBt+NH/gOwKfAD9O+cPfE9awNdIof4GHxNQfH5x3jMouA78TXbw5sFx+fStqBNMN7GRu/\ncD3jtsYC18R5tW43w4/hLMKBrzOwIfAsa/5wattO6j0/GN/PdwkHgtTBeAjwOrBJfM+vAlfW9h5Z\nM1l8Cewd30NbwgF93zh/Q2ICyLBvjiUcxHcl/CC2AbZKfgfi4z6EpNoqvpepwIVx3iHABKB9XMe2\nwOZxXsY4SCSL9P2ceE+p791u8f0dHN9fJ6BXnHc4sHXc7v7A0tq2kX5QiJ/Tkrje1oSqsBmsSoIf\nAG8QDlwbxfd8Vj1/T1sRDpInxG1tDOyU5fO7B3gCWC/u72nA4Lj8g4SDY2rZfXJ9DmmxrBNj6ZGY\nNg4YUIffbqZkcRZQBXSJ+2tM2rJ1/awuIPwmOhP+TN0GPBjn9SYklf3ivOuAFWRPFncQEk5rwm/8\nR5m+F5l+Z4Q/xgZ0K9QxtrlVQ0EoZp0nqWPa9B8AH5jZP8xshZm9BTxCOPhgZmPN7B0zqzGzSYQv\n+P5p67jCzJaY2TLgROBpM3s6vmY0MJ5wEIfwr2N7SWub2cdmVtcqi3+Y2bS4rRHATnF6ru0mHQf8\n1czmmNlC4Jo6bCfld/E9vwP8g3DwgPBvZ4iZzTOz+cDvCP+c8vWEmb0S38PXwHKgt6T1zWyhmb1Z\ny+tOB/5kZuMsmGFms9IXMrMJZvZ6/Kw/IPxwU5/ncsJBrRcgM5tqZh8n5uUTRzaDgTvNbHR8f3PN\nrCrG9ZSZvRdjf4FQmts3z/UeDzwV17uc8K94bWCvxDI3mtlHZrYA+Bdrfp75+jHwrJk9aGbLzexz\nM5uYmP/fz4+wzwYAl5nZ4ri//8Kq78NyQvLZwsy+NrOXE9Nr+xz+y8yWEhLRCQCSesTXjIzz8/nt\nZnIccIOZzY776w9p263rZ3UW8Kv4e/uGcEA/JlZbHwM8aWYvxnmXE44RGUlah3BseiB+1g9Tt6qo\njeP9GvuzvppdsjCzd4EnCcXBpK2A3SV9kboRDnibAUjaXdKY2Aj0JeGD75C2jtlp6zs2bX37EP4Z\nLSH8sM8CPpb0lKRedXwrnyQeLwXWzbXdDOvYIi3m2RmWqW07mV4zK64zte5ZtczLR3osPyIkvFmx\nEW7PWl7XhVAaykpST0lPSvpE0iLgauLnaWbPE6qlbgHmSRoqaf06xpFNrTFKOlTS65IWxM/uMNb8\nntVmtX0eD9SzCSWXlFyfZyqOyZK+irdMB8Bc+zn5+XUg/PtN/z6k4vpfwr/zN+J2T4vxZ/sc0j3A\nqj8qPwYej0kk399uJum/j9X+dNTjs9oKeCzxu5xKqK7cNH1b8RjxeZZ1HU0oeTwdn98PHJr4E7yC\nsM+T8aaeL0+sO9NxoV6aXbKIfkuo107+iGYDL5hZ+8RtXTP7aZz/AOGfShcz2wC4lfAFT7K09d2b\ntr52ZnYNgJmNMrODCR9WFTAswzrqI+t203xMKBKndKnH9pKv2ZLQPkG836qWeUsIVQcASNosw3pX\n2w+xpHAUoVrrcUIpJ5PZhKqBXP5O2O89zGx94JckPk8LPZj6EKoHegKX1DGObDLGKGktQmn2z8Cm\nZtaecDBIxZXru7HaPo8NoF0I1XJ1Ymbbxe//umb2Ur7vIbmKxOPPWFV6SNkyFZeZfWJmZ5jZFsBP\ngL+leuzU9jlkMBroKGknQtJ4IDEvn99uJh+z5vcbqPdnNRs4NO232dbM5qZvK5YcNs6wjpRTCIn+\nQ0mfEBqqWxMSJYT2iK5pr+lGSCJzCW2yswl/fgqiWSYLM5tBaNw7PzH5SaCnpJMktY63XSVtG+ev\nBywws68l7caqD6U29wFHxK5pLSW1jd3pOkvaVNJRsRvvN4S6ylSR81Ogs6Q29Xx7tW43w7IjgAsk\ndZLUHvhFPbZ3uaR1JG1HaO/5Z5z+IPBrSR0ldSBU/6W68r0NbCdpJ0ltCcXxWklqI2mgpA1ikXsR\ntRfRbwcultRHwTaStsqw3HpxPV/FUl3qTwHxc989/hNbQmiorqljHNncAQySdKCkFnH/9wLaEOqr\n5wMrJB0KfD/xuk+BjSVtUMt6RwCHx/W2Bn5O+H69Wo8Yc7kfOEjScZJaSdo4HqjXYGYrY2xXSVov\nfh4XEb8Pko5NfD8XEg60NbV9DrVsYznhgHktoX1hdGJ2XX+7KSOA8+NvdkNWr42oz2d1a9wHW8X3\n3VHSUXHew8APJO0Tf/tDqOX4K6kTcCCh6nyneNsR+COrqqL+DfRKHM82IpSeH4lVr0b4DC6XNEjS\n+vG7uI+koXnun9U0y2QRDSE0zAJgZosJH/YAwj+0Twg7f624yNnAEEmLCQe+rP8ozWw2ocfLLwlf\nqNmEf0Ut4u2iuJ0FhPrT1MHqeUJvlk8kfVbXN5Vju+mGEepZJxF6izxN+Oexsg6bfIHQiPoc8Gcz\neyZO/z2hrWQSoRfLm3EaZjaNsP+fBaYD+ZxXchLwQawyOotQRbgGM3sIuIrwb3Ix4d//RhkWvZhw\n0FhM2A//TMxbP05byKreKdfWJY5szOwNQmK9ntAQ/AKhEX4x4Q/MiLjtHxPr3ePrqghJeGasytgi\nbb3VhDarmwj/5o8AjjCzb+saYx7v4UNCtcvPCd/hiYQDVm3OIxzwZxI+7weAO+O8XYH/SPqK8H4v\nMLOZZP8cMnmA0InlITNbkZhep99uwjBgFOHPzZuEzjHAf48Xdf2s/hqXeSbG8jqwe1x+MqG31QOE\nUsZCoLbzNE4CJprZM7FU9omZfQLcCOwgaXszmwccSiipzQPeJfRa+++fIjN7mFAdfhrhWPQp4Tf6\nBPz3RNOv8txXKCQgVwniv6NbzSzTP3HnnKtVcy5ZVDxJa0s6LFYjdCK05TxW6ricc02PlyyasdiI\n9gKhm+Ey4ClCFcCikgbmnGtyPFk455zLyauhnHPO5dRsBsTr0KGDde3atdRhOOdckzJhwoTPzCx9\nxIs1NJtk0bVrV8aPH1/qMJxzrkmRtMZwOZl4NZRzzrmcPFk455zLyZOFc865nDxZOOecy8mThXPO\nuZw8WTjnnMvJk4VzzrmcPFk450rq3/+Gf/4Tli4tdSQuG08WzrmSWLECLrwQDj0UBgyAzTaD00+H\nl16CpjRkXVUVTJ9e6iiKz5OFc67Rff459O8Pf/0rXHABPP88/OhHoYSx336w9dZwxRUwc2apI83u\n3/+GXXaBffaBz+p8KbOmxZOFc65RvfMO7LprKEH84x9www1wwAHh8SefwD33hGQxZEi4328/uOMO\nWFRmA+s/9BAceSR07w4LF8LZZ5c6ouLyZOGcazSPPAJ77glffw0vvginnrr6/Hbt4KSTYPRomDUL\nrr4a5s0L1VObbQYDB8Izz8DKulwYuAjuuCNUne2+O7zyCvzudyF5/POfuV/bVDWb61n07dvXfCBB\n58pTTU2oVrryynCAffRR2GKLnC8DQvvFG2/A3XfD8OHhX3ynTnDiiXDKKbDttkUNfQ3XXw8XXQSH\nHBLexzrrhPaXffYJbReTJ4fE1lRImmBmfXMt5yUL51xRLVoERx8dEsWgQTB2bP6JAkAKCeZvf4OP\nP4aHHw7tBH/+M/TuDbvtBg88UPxGcTP47W9DojjmGBg5MiQKgFatQjJbuhTOOKNpNdDny5OFc65o\nZswI1U5PPQU33hiqb9q2rf/61lorNISPHAkffRT+5X/9daieOuQQeP/9wsWeVFMTem4NGQKnnRZK\nOG3arL7Md74Df/gDPPlkSBzNjScL51xRjBoVGrI/+SS0M5x3XiglFMomm4QD+MSJcMst8PrrsP32\n8Je/hGqhQlmxAgYPDsnuwgth2DBo2TLzsuefHxrkL7gAZs8uXAzlwJOFc66gzMIB+7DDoEsXGD8e\nvve94m2vRYvQE2nKFDjwQLj4Ythjj5BEGuqbb+D44+Guu0Ij9nXXhe1li+Uf/wgN8Ked1ryqozxZ\nOOcKZtkyOPnkcMA++mh49VXo1q1xtt25MzzxBIwYAXPmQN++cOmlIab6WLIkdI199NHQvfc3v8mv\nZNS9e2hPefZZuPXW+m27LJlZ0W5Af6AamAFcmmH+9cDEeJsGfJE2f31gDnBzrm316dPHnHOlM3u2\nWZ8+ZmB25ZVmNTWli2XBArPBg0MsW29t9txzdXv9woVme+1l1qKF2Z131n37NTVmBx9s1q6d2YwZ\ndX99YwLGWx7H86KVLCS1BG4BDgV6AydI6p2WqH5mZjuZ2U7ATcCjaau5EnixWDE65wrjlVfCP/lp\n08K/+1//urDtE3W14YZw++3hzHApVE+ddhosWJD7tfPmhZMEx40LpZRBg+q+fSk05rdsGV5fU1P3\ndZSbYlZD7QbMMLOZZvYtMBw4KsvyJwAPpp5I6gNsCjxTxBhdE7d8eWjU/MMfSh1JZVq2LPRIOuAA\nWG+90Mh85JGljmqVAw6ASZPgssvCmeHbbhtOnKutLWH2bNh3X6iuhn/9K/S8qq8uXUKj+EsvhWFN\nmrpiJotOQLI/wJw4bQ2StgK6Ac/H5y2AvwAXZ9uApDMljZc0fv78+QUJ2jUtI0eGk6CuvTbUMbvG\nsWABXHUVdO0azjs48MBw4lzv3jlf2ujWXjucCT5hAmy5ZTjz+sgj1+ytNG1aOLEu1XvrkEMavu2T\nT4YjjgjJqqqq4esrpXJp4B4APGxmqZP4zwaeNrM52V5kZkPNrK+Z9e3YsWPRg3Tl59Zbwz/ahQtD\nLxRXXB9+CD/7WTjo/vrX0KcPjBkDTz8dqn7K2Y47wmuvhR5Nzz8fEtvNN4eeS2+/HUoUy5aFkwb3\n2acw25Rg6NAwjMkppxS2S2+jy6dhoz43YE9gVOL5ZcBltSz7FrBX4vn9wIfAB8BnwCLgmmzb8wbu\nyjN9emjAHDLEbPfdzbp3N1uxotRRNU8TJ5oNHGjWsqVZq1ZmJ51k9vbbpY6q/mbONDvkkPD92W03\ns/btzTp3NquqKs72hg8P27rqquKsvyHIs4G7mMmiFTCTUL3UBngb2C7Dcr1iUlAt6zkV7w3lMrjk\nknDwmjvXbMSI8G1+5JFSR9V81NSEXkSpg+q665pddJHZhx+WOrLCqKkxu/des403NttmG7MPPiju\n9o47zqx16/JLsvkmi6JVQ5nZCuBcYBQwFRhhZpMlDZGUbAIbAAyPQTuXl2++CdVORx0Vxhk6+uhQ\nf37ddaWOrOlbsSI0AvftG9oiJk4Mdf4ffhhOtuvSpdQRFoYUBiOcNSs0gm+1VXG3d8stoaru5JPh\n22+Lu62iyCejNIWblywqywMPhH+7o0atmnbDDWHa66+XLq6mbMkSs5tvNuvWLezHnj3Nhg0zW7as\n1JE1H088Efbt5ZeXOpJVKHXJwrliuu22cKbsQQetmnbaabDBBuHfb1OyeDF8+WVptm0Gc+eG4cO3\n3BLOPTcMr/3YYzB1ariOREMG/nOrO/LIULK4+upwHkdT0qrUAThXV1OnwgsvwB//uPo4PeutB2ee\nGZLF++833jATDbFsWThP5MMPw3AVvXvDdtutfr/BBg3fjhl8+mnoZjxlyur3qRPVjjwS/vd/Ye+9\nG749V7u//hWeey70jnrzzaaTjD1ZuCZn6FBo3XrNq6xBGPXz+uvDD/KGGxo9tDobNmxVd9T588MB\n/NZbVx/PqFOnNRNI797Qvv2a6zML13xITwhTpoTuxSkbbhjWdeyxYV3f/z706lX89+vC53bHHeEa\n5JdfHs4Ragr8SnmuSVm2LDRo9+8PDz6YeZkTTwxDTsyenfmAWi6WLQvXmP7Od8K5CikrV4ZG1/SD\n/ZQpqyeRLbYIB/xttw3TU8t98cWqZTbaKCyTnmw23bS0w3E4OOus8MfnpZdKW5rL90p5nixck3L3\n3aFEMWYM9OuXeZm33gpXUvvTn+CSSxozurq58cZw3YNs7yWppmZVEkkmkqlTw1nKmZLCJpt4UihX\nixfDDjuE8aPefjucuFcKnixcs7TXXqGOferU7AfB730vXA955sxQZVVuaitV1EfqJ+xJoel54YXw\nR+HQQ8OQIPvs0/ifo1+D2zU7kyaF4Rp+8pPcP6if/zxc02DEiMaJra6GDQttC7/9bcPXJXmiaKr2\n3z+UgF96KVxhr0cP+P3vQztWufGShWsyzjknNAx+9FGoi8+mpiZUxay9dhhArpwOpoUsVbjmYckS\neOSRcEW+MWNWDat+6qnhhNN11inetr1k4ZqVr76Ce+8Nl7jMlSggdKn92c9C+8XYsUUPr04KWapw\nzUO7duH8i+efD1Wnv/0tzJgROmtsvnnoEv7qq6W9TKuXLFyTcPvtcMYZ4SI7e+2V32uWLQtDOOy2\nGzz5ZHHjy5eXKly+amrgxRfDsDYPPwxLl0LPnqG0cfLJoUt1IXjJwjUrt94K3/0u7Lln/q9Ze204\n+2x46qnyuZaAlypcvlq0CI3fd98drrFxxx2hy/MvfxnOtu/fH4YPh6+/bqR4GmczztXf+PGh3SGf\nhu10Z58Na60VTtQrtWXLwhX9+vXLr6uscynrrReGs3nxxdDL75e/DF2nTzghVFP97GfFj8GThSt7\nt90WGvhOPLHur91kk1Bkv+eecIZ0KQ0dGv4heqnCNcQ228CVV8IHH8Do0XDYYaufiFks3mbhytqX\nX4YzlU84IbRb1EdVVTjL+YorSnegXrYsDHzYq5e3VbjCM6t/jz9vs3B5u/32UB86bVppe1tkcv/9\noWHvrLPqv45eveDww8P1BJLDZTQmL1W4YmqMruFesqhwEyaEi9ykbLJJOIt0333D/U47QasSDTdp\nFq6b3KZNaLdoiOefD/3Whw4Nvaoak5cqXDnLt2Tho85WuJtuCn28x4wJV0R76SV4+WV49NEwv127\n0ANp333Dbffdi3uCUNLrr8M774QDfEMdcEBIfNdfD4MHrz60ebGlShW1DXzoXFPgJYsKNm9euETm\n6aeHKpqkOXPCOQ2p5DFpUvin36oV9OmzqvSx997QoUNx4jvllHARno8+gnXXbfj67rsPTjopdKU9\n7LCGry8fXqpw5c7bLFxOw4aFawGfe+6a8zp3DmdL33xzKHEsWBAOspdcEgbmu+km+OEPoWPHMLpp\nof81L1gQxnU68cTCJAoI76dTp8a9kl6qVHHFFY23TeeKwZNFhVq+HP72Nzj44NBTKJf27cO/8auv\nDqWNL78MJY4//CFUS/34x2FAtEIVVO+5J5xs9JOfFGZ9EJLc+eeH9ouJEwu33tosWwbXXBOqwPbf\nv/jbc66YPFlUqFT1zvnn1+/1bduGKqhLLw3VVccdB7/4BVx4YRimoCHMwhnbe+wRGrgL6cwzQztM\nY5QuvAeUa048WVSoG28MdemHHtrwda21VqiGuvDCsN4BAxo2BMGLL0J1dcO6y9amffvQwD18eGiX\nKRYvVbjmpqjJQlJ/SdWSZki6NMP86yVNjLdpkr6I03eS9JqkyZImSTq+mHFWmjffDKWBc88NV+kq\nhBYt4LrrwvWEH3oojFtT37NKb701HNSPO64wsaVLlX5uvrk46wcvVbhmyMyKcgNaAu8B3YE2wNtA\n7yzLnwfcGR/3BHrEx1sAHwPts22vT58+5vJz6qlm66xjtnBhcdZ/331mrVubbb+92Zw5dXvtp5+G\n115wQXFiSznmGLP27c0WLy78upcuNdtsM7MDDij8up0rNGC85XFML2bJYjdghpnNNLNvgeHAUVmW\nPwF4EMDMppnZ9Pj4I2Ae0LGIsVaM+fNDldEpp4R/78UwcCA8/XQYu2bPPcOAZ/m6667Q+F7Ihu1M\nfv7zUPK5887Cr9tLFa45Kmay6ATMTjyfE6etQdJWQDfg+QzzdiOUTN7LMO9MSeMljZ9f6lHimohh\nw+CbbzJ3ly2kgw4KbQ/ffhvOyXj55dyvqakJB9r99suvh1ZD7LFHuC7GDTfAypWFW6+3Vbjmqlwa\nuAcAD5vZaj9bSZsD9wKDzGyNPjZmNtTM+ppZ344dveCRy/Ll8Pe/hwN5797F397OO4drZnfsGLro\nPvZY9uWfew7ee684DduZ/Pzn8P77ueOqCy9VuOaqmMliLtAl8bxznJbJAGIVVIqk9YGngF+Z2etF\nibDCPP546AF03nmNt81u3UJj+o47wo9+FM7tqM1tt4Wzwf/nfxontqOOCj3CCtWN1ksVrjkrZrIY\nB/SQ1E1SG0JCGJm+kKRewIbAa4lpbYDHgHvM7OEixlhRbropHLwPP7xxt9uhQyg1HH44nHMO/OpX\na56899FHIZkNGhS64jaGli1Dz6jXXw9npzf0hEIvVbjmrGjJwsxWAOcCo4CpwAgzmyxpiKQjE4sO\nAIbHVvmU44D9gFMTXWt3KlaslSA1SOA55xSuu2xdtGsXqnsGDw5ngQ8eHKrFUu68M7QdnHlm48Y1\naFC4VOUPfhCGAjnxxHDN4w8/rNt6vFThmjsfSLBCJE9E23DD0sVhFsZJGjIknBA4YkS4Vnb37uFi\n9KNHN35Mn3wSShbPPRdu8+aF6dtsE4Y1P/DAkASyDZj417+GUsrYsZ4sXNOS70CCtSYLSbsCHczs\n/9KmHwZ8amYTChJpgXiyqN1nn4WBAQcNCg3c5WDoUPjpT2GXXUJpZ9AgePjh0K5RSmYweTI8+2xI\nHC+8AIsXh3k77bQqeey776oBDlMjy267bRh3yrmmpBDJ4nlCL6RZadO3Av5hZt8rSKQF4smidtdc\nA5ddBu++C9ttV+poVhk5MowE+/XXsNlmoeqndetSR7W6FStg3LhVpY5XXw3dgVu1Ct1vDzwQFi0K\n18nwUoVrigqRLMaZ2a61zJtkZjs0MMaC8mSR2YoVq6p4nn221NGs6bXX4OijQzfWSy4pdTS5LV0a\nenelkseECaE00q+fX6/CNU2FuFJetprtRrpWmmuoJ56A2bNDT6hytOeeoSdUY1xDuBDWWSecM3Lw\nweH5woUheeyyS2njcq7YsvWGelbSVdKqn7GCIWQ409qVpxtvhK5dQ2+fctWiRdNJFuk23DDs2y22\nKHUkzhVXtpLFz4HbgRmSUpeK2REYD5xe7MBcw739dhhy49prS9Nd1jnXfNSaLMxsCXCCpO5Aqll0\nspnNbJTIXIPddFOoNhk8uNSROOeaulqThaRkLexcwIDltSzuysznn8P998PJJ5f2vArnXPOQrRoq\n04g5G8WhOE4ws0a4irGrr9tvD11SG3McKOdc85WtGuqATNMl9QVuJAzH4crQihVhwL4DDoDtty91\nNM655qDOY0OZ2Xhg3SLE4gpk5Mhwgtv555c6Eudcc1HnZCFpU0L7hStTN90EW20FRxxR6kicc81F\ntgbum1gzKWwE7AVcUMygXP1NmhSGnfjTn7y7rHOucLI1cKePnWHA58BFZjaveCG5hrj55jCKq3eX\ndc4VUrYG7rszTZfURdIlZnZt8cJy9bFgAdx3X7gmw0YblToa51xzklebhaSOks6W9BIwFti0qFG5\nernjjjBctneXdc4VWrY2i/WA/wF+DPQEHgW6mVnnRorN1cHKlXDLLWH00+9+t9TROOeam2xtFvOA\nN4BfAy+bmUk6unHCcnX1r3/BrFnhugrOOVdo2aqhLgPWAv4GXCZp68YJydXHjTfCllt6d1nnXHHU\nmizM7AYz2wM4Kk56HNhC0i8k9WyU6Fxe3nknXHjnnHPCFdycc67QcjZwm9lMM7vazL4L9AXWB54u\nemQubzffDG3bendZ51zx1OkMbjN718x+ZWbb5LO8pP6SqiXNkHRphvnXS5oYb9MkfZGYd4qk6fF2\nSl3irCQffAD33gsDB8LGG5c6Gudcc1W0SgtJLYFbgIOBOcA4SSPNbEpqGTP7WWL584Cd4+ONgN8S\nSjIGTIhJOWwFAAAb90lEQVSvXViseJuimhoYNChUPV1+eamjcc41Z3UeG6oOdgNmxGqsb4HhrGr/\nyOQE4MH4+BBgtJktiAliNNC/iLE2SbfcEob2uP76MBaUc84VSzGTRSdgduL5nDhtDZK2Arqx6tre\neb1W0pmSxksaP3/+/IIE3VRMnw6/+AUceiicdlqpo3HONXfZTsp7hyyjy5rZDgWMYwDwsJmtrMuL\nzGwoMBSgb9++FTMS7sqVofpprbVg2DCQSh2Rc665y9Zm8YN4f068vzfeD8xz3XOBLonnneO0TAYk\ntpN6bb+0147Nc7vN3g03wCuvwD33QKeMZTXnnCssmWX/Qy7pLTPbOW3am2a2S22vicu0AqYBBxIO\n/uOAH5vZ5LTlegH/JgwlYnHaRsAEILWNN4E+Zragtu317dvXxo9PHyi3+Zk6FXbeGfr3h8ce81KF\nc65hJE0ws765lsunzUKS9k482Suf15nZCuBcYBQwFRhhZpMlDZF0ZGLRAcBwS2StmBSuJCSYccCQ\nbImiUqxYAaecAuuuC7fd5onCOdd48uk6Oxi4U9IG8fkXQF5Nqmb2NGkn8JnZb9KeX1HLa+8E7sxn\nO5Xi2mth3DgYPhw29XF/nXONKGeyMLMJwI6pZGFmXxY9KreGd96B3/4Wjj0Wjj++1NE45ypNzuok\nSZtKuoNQVfSlpN6SfGCJRrR8eah+2nBD+NvfSh2Nc64S5dNmcReh3WGL+HwacGGxAnJruuoqeOst\nuPVW6NCh1NE45ypRPsmig5mNAGrgvw3XdTofwtXfm2+GZDFwIBztVxNxzpVIPsliiaSNiSfoSdoD\n8HaLRvDNN6H6qWNHuOmmUkfjnKtk+fSGuggYCWwt6RWgI3BsUaNyAPzud/Duu/DUU6G9wjnnSiWf\nZDEZ2B/4DiCgmuKOKeWA//wH/vjHMO7TYYeVOhrnXKXL56D/mpmtMLPJ8XoWy4HXih1YJVu2DE49\nNQzlcd11pY7GOeeyDyS4GWGk17Ul7UwoVUC4Ut46jRBbxbr8cqiqgmeegQ02yL28c84VW7ZqqEOA\nUwmD+CX/3y4GflnEmCrayy+H0sRZZ8HBB5c6GuecC/IZSPBHZvZII8VTb81hIMElS2DHHcMQ5O+8\nE8aAcs65Ysp3IMF8hvt4RNLhwHZA28T0IQ0L0aW77DJ47z0YM8YThXOuvOQz3MetwPHAeYR2i2MB\nv4hngY0ZE86lOP986Nev1NE459zq8ukNtZeZnQwsNLPfAXsCPYsbVtPyzTewdCnkqNGr1eLFoYts\njx7whz8UNjbnnCuEfM6zWBbvl0raAvgc2Lx4ITUtS5bAllvCggXh+hLt2oUqpEz3tc177jmYNSs0\nbq/j/cycc2Uon2TxpKT2wLWEK9YZcHtRo2pCpk4NieKUU6BLF/jqq5BAlixZ9fjLL+Gjj1aftnTp\n6uu57DLYa6/SvAfnnMslnwbuK+PDRyQ9CbT1a1qsUl0d7n/xC9h22/xfV1MTEsaSJWEI8s6dixOf\nc84VQraT8v4nyzzM7NHihNS0VFVBy5aw9dZ1e12LFqEKyns9OeeagmwliyPi/SbAXsDz8fkBwKuA\nJwtCsujeHdq0KXUkzjlXPLUmCzMbBCDpGaC3mX0cn29OuCCSIySLXr1KHYVzzhVXPl1nu6QSRfQp\nsGWR4mlSVq6E6dM9WTjnmr98ekM9J2kU8GB8fjzwbPFCajpmzQrnWHznO6WOxDnniitnycLMzgVu\nA3aMt6Fmdl4+K5fUX1K1pBmSLq1lmeMkTZE0WdIDiel/itOmSrpRkjK9vpSqqsK9lyycc81dPiWL\nVM+nOjVoS2oJ3AIcDMwBxkkaaWZTEsv0AC4D9jazhZI2idP3AvYGdoiLvky4ANPYusRQbKlus54s\nnHPNXa0lC0kvx/vFkhYlboslLcpj3bsBM8xsppl9CwwHjkpb5gzgFjNbCGBm8+J0Iwxa2AZYC2hN\naCspK1VVsPHG4eacc81ZrcnCzPaJ9+uZ2fqJ23pmtn4e6+4EzE48nxOnJfUEekp6RdLrkvrHbb4G\njAE+jrdRZjY1fQOSzpQ0XtL4+fPn5xFSYXlPKOdcpch2Ut5G2V5oZgsKtP0eQD/CRZZelPRdoAOw\nbZwGMFrSvmb2UloMQ4GhEK5nUYB46qSqCo44IvdyzjnX1GVrs5hAqA7K1LBsQPcc654LdEk87xyn\nJc0B/hOv6/2+pGmsSh6vm9lXAJL+jzDa7UuUiYULYd48L1k45ypDtmqobmbWPd6n33IlCoBxQA9J\n3SS1AQYAI9OWeZyQGJDUgVAtNRP4ENhfUitJrQmN22tUQ5VSqnHbu8065ypBXr2hJG1I+MefvFLe\ni9leY2YrJJ0LjAJaAnea2WRJQ4DxZjYyzvu+pCnASuASM/tc0sPA94B3CKWYf5vZv+r+9orHu806\n5ypJzmQh6XTgAkI10kRgD+A1wsE8KzN7Gng6bdpvEo8NuCjeksusBH6SO/zSqaqC1q2hW7dSR+Kc\nc8WXz3AfFwC7ArPM7ABgZ+CLokbVBFRXwzbbQKu8ymbOOde05ZMsvjazrwEkrWVmVUDF19R7t1nn\nXCXJJ1nMiVfKe5zQhfUJYFZxwypvy5fDjBmeLJxzlSOfK+UdHR9eIWkMsAHw76JGVebefx9WrPBk\n4ZyrHPk0cN8IDDezV83shUaIqeylekJ5t1nnXKXIpxpqAvBrSe9J+rOkvsUOqtx5snDOVZp8hii/\n28wOI/SIqgb+KGl60SMrY1VVsNlm0L59qSNxzrnGkU/JImUboBewFVBVnHCahupqb69wzlWWnMki\nXoRoOjAEeBfoa2YVO3yeGUyd6lVQzrnKks8pZe8Be5rZZ8UOpin47LMwiKCXLJxzlSSfNovbUolC\n0hVFj6jM+dXxnHOVqC5tFgBHFiWKJsR7QjnnKlFdk0Wma1tUlKoqaNsWttyy1JE451zjqWuy6FOU\nKJqQqiro2RNatix1JM4513jy7Q21frwI0WhJ8yWd2AixlSXvNuucq0T5lCy+b2aLgB8AHxDOt7ik\nmEGVq2++gZkzvb3COVd58kkWqe61hwMPmdmXRYynrM2YATU1XrJwzlWefM6zeFJSFbAM+KmkjsDX\nxQ2rPHm3WedcpcrnPItLgb0IZ24vB5YARxU7sHKU6jbbs2dp43DOucaWTwP3scByM1sp6dfAfcAW\nRY+sDFVVQefOsO66pY7EOecaVz5tFpeb2WJJ+wAHAXcAfy9uWOXJL6XqnKtU+SSLlfH+cGComT0F\ntMln5ZL6S6qWNEPSpbUsc5ykKZImS3ogMX1LSc9Imhrnd81nm8Vi5t1mnXOVK58G7rmSbgMOJlzL\nYi3yq75qCdwSXzcHGCdppJlNSSzTA7gM2NvMFkraJLGKe4CrzGy0pHWBmrzfVRF88gksWuTdZp1z\nlSmfksVxwCjgEDP7AtiI/M6z2A2YYWYzzexbYDhrNoyfAdxiZgsBzGwegKTeQCszGx2nf2VmS/N5\nQ8WSatz2koVzrhLl0xtqKWGY8kMknQtsYmbP5LHuTsDsxPM5cVpST6CnpFckvS6pf2L6F5IelfSW\npGtjSWU1ks6UNF7S+Pnz5+cRUv15snDOVbJ8qpMuAO4HNom3+ySdV6DttwJ6AP2AE4BhktrH6fsC\nFxMu59odODX9xWY21Mz6mlnfjh07FiikzKqroV076JSe7pxzrgLk02YxGNjdzJYASPoj8BpwU47X\nzQW6JJ53jtOS5gD/iedvvC9pGiF5zAEmmtnMuM3HgT0IPbFKoqoqtFeo4sfddc5VonzaLMSqHlHE\nx/kcMscBPSR1k9QGGACMTFvmcUKpAkkdCNVPM+Nr28ezxQG+B0yhhLzbrHOukuVTsvgH8B9Jj8Xn\nPySPf/hmtiK2cYwCWgJ3mtlkSUOA8WY2Ms77vqQphCR0iZl9DiDpYuA5SQImAMPq+N4KZulS+PBD\nGDy4VBE451xp5UwWZnadpLHAPnHSIDN7K5+Vm9nTwNNp036TeGzARfGW/trRwA75bKfYpk8P51l4\nt1nnXKXKmixiD6TJZtYLeLNxQio/3hPKOVfpsrZZmNlKoFpSRV9EtKoqNGz36FHqSJxzrjTyabPY\nEJgs6Q3CiLMAmNmRRYuqzFRXQ9eusPbapY7EOedKI59kcXnRoyhzqW6zzjlXqWpNFpK2ATY1sxfS\npu8DfFzswMpFTU0oWey/f6kjcc650snWZnEDsCjD9C/jvIowd27oOuuN2865SpYtWWxqZu+kT4zT\nuhYtojLjPaGccy57smifZV7FNPWmkoW3WTjnKlm2ZDFe0hnpEyWdTjijuiJUVcEGG8Cmm5Y6Euec\nK51svaEuBB6TNJBVyaEv4Sp5Rxc7sHKRujqeDyDonKtktSYLM/sU2EvSAcD2cfJTZvZ8o0RWJqqq\n4MADSx2Fc86VVj5jQ40BxjRCLGVn8eLQG8obt51zlS6fIcorVnV1uPdk4ZyrdJ4ssvBk4ZxzgSeL\nLKqqoGVL2HrrUkfinHOl5ckii6oq6N4d2rQpdSTOOVdaniyySHWbdc65SufJohYrV8K0aZ4snHMO\nPFnUatYs+OYbH+bDOefAk0WtfABB55xbxZNFLbzbrHPOreLJohZVVbDxxuHmnHOVrqjJQlJ/SdWS\nZki6tJZljpM0RdJkSQ+kzVtf0hxJNxczzkyqqrxU4ZxzKflcg7teJLUEbgEOBuYA4ySNNLMpiWV6\nAJcBe5vZQkmbpK3mSuDFYsWYTXU1/OAHpdiyc86Vn2KWLHYDZpjZTDP7FhgOHJW2zBnALWa2EMDM\n5qVmSOoDbAo8U8QYM1q4ED791EsWzjmXUsxk0QmYnXg+J05L6gn0lPSKpNcl9QeQ1AL4C3Bxtg1I\nOlPSeEnj58+fX7DAU43b3m3WOeeCUjdwtwJ6AP2AE4BhktoDZwNPm9mcbC82s6Fm1tfM+nbs2LFg\nQXm3WeecW13R2iyAuUCXxPPOcVrSHOA/ZrYceF/SNELy2BPYV9LZwLpAG0lfmVnGRvJCq66G1q2h\nW7fG2JpzzpW/YpYsxgE9JHWT1AYYAIxMW+ZxQqkCSR0I1VIzzWygmW1pZl0JVVH3NFaigFCy2GYb\naFXMVOqcc01I0ZKFma0AzgVGAVOBEWY2WdIQSUfGxUYBn0uaQrga3yVm9nmxYsqXd5t1zrnVycxK\nHUNB9O3b18aPH9/g9SxfDu3awcUXw9VXFyAw55wrY5ImmFnfXMuVuoG77Lz/fkgYXrJwzrlVPFmk\nSfWE8m6zzjm3iieLNJ4snHNuTZ4s0lRXw2abQfv2pY7EOefKhyeLNN4Tyjnn1uTJIsEMpk71Kijn\nnEvnySLhs8/CIIJesnDOudV5skjwq+M551xmniwSvCeUc85l5skioaoK2raFLbcsdSTOOVdePFkk\nVFdDz57QsmWpI3HOufLiySLBu80651xmniyib76BmTO9vcI55zLxZBHNmAE1NV6ycM65TDxZRN5t\n1jnnaufJIkp1m+3Zs7RxOOdcOfJkEVVVQefOsO66pY7EOefKjyeLqLraq6Ccc642niwIAwh6t1nn\nnKudJwvgk09g0SLvNuucc7XxZMGqxm0vWTjnXGZFTRaS+kuqljRD0qW1LHOcpCmSJkt6IE7bSdJr\ncdokSccXM07vNuucc9m1KtaKJbUEbgEOBuYA4ySNNLMpiWV6AJcBe5vZQkmbxFlLgZPNbLqkLYAJ\nkkaZ2RfFiLWqCtq1g06dirF255xr+opZstgNmGFmM83sW2A4cFTaMmcAt5jZQgAzmxfvp5nZ9Pj4\nI2Ae0LFYgVZVhfYKqVhbcM65pq2YyaITMDvxfE6cltQT6CnpFUmvS+qfvhJJuwFtgPcyzDtT0nhJ\n4+fPn1/vQL3brHPOZVfqBu5WQA+gH3ACMExS+9RMSZsD9wKDzKwm/cVmNtTM+ppZ344d61fwWLoU\nZs3yZOGcc9kUM1nMBboknneO05LmACPNbLmZvQ9MIyQPJK0PPAX8ysxeL1aQX30FAwbAnnsWawvO\nOdf0FTNZjAN6SOomqQ0wABiZtszjhFIFkjoQqqVmxuUfA+4xs4eLGCObbAIPPAAHHVTMrTjnXNNW\ntGRhZiuAc4FRwFRghJlNljRE0pFxsVHA55KmAGOAS8zsc+A4YD/gVEkT422nYsXqnHMuO5lZqWMo\niL59+9r48eNLHYZzzjUpkiaYWd9cy5W6gds551wT4MnCOedcTp4snHPO5eTJwjnnXE6eLJxzzuXk\nycI551xOzabrrKT5wKwsi3QAPmukcOrD42sYj69hPL6GacrxbWVmOcdLajbJIhdJ4/PpS1wqHl/D\neHwN4/E1TCXE59VQzjnncvJk4ZxzLqdKShZDSx1ADh5fw3h8DePxNUyzj69i2iycc87VXyWVLJxz\nztWTJwvnnHM5NftkIam/pGpJMyRdWup40kn6QNI78ZodZTHGuqQ7Jc2T9G5i2kaSRkuaHu83LLP4\nrpA0N3H9k8NKFFsXSWMkTZE0WdIFcXpZ7L8s8ZXL/msr6Q1Jb8f4fhend5P0n/g7/me8QFo5xXeX\npPfL5fo7klpKekvSk/F5w/efmTXbG9ASeA/oDrQB3gZ6lzqutBg/ADqUOo60mPYDdgHeTUz7E3Bp\nfHwp8Mcyi+8K4OIy2HebA7vEx+sRLhXcu1z2X5b4ymX/CVg3Pm4N/AfYAxgBDIjTbwV+Wmbx3QUc\nU+r9l4jzIuAB4Mn4vMH7r7mXLHYDZpjZTDP7FhgOHFXimMqemb0ILEibfBRwd3x8N/DDRg0qoZb4\nyoKZfWxmb8bHiwlXiexEmey/LPGVBQu+ik9bx5sB3wNSl1gu5f6rLb6yIakzcDhwe3wuCrD/mnuy\n6ATMTjyfQxn9MCIDnpE0QdKZpQ4mi03N7OP4+BNg01IGU4tzJU2K1VQlqyZLkdQV2Jnw77Ps9l9a\nfFAm+y9WoUwE5gGjCbUDX1i4VDOU+HecHp+ZpfbfVXH/XS9prVLFB9wA/C9QE59vTAH2X3NPFk3B\nPma2C3AocI6k/UodUC4WyrJl9W8K+DuwNbAT8DHwl1IGI2ld4BHgQjNblJxXDvsvQ3xls//MbKWZ\n7QR0JtQO9CpVLJmkxydpe+AyQpy7AhsBvyhFbJJ+AMwzswmFXndzTxZzgS6J553jtLJhZnPj/Tzg\nMcKPoxx9KmlzgHg/r8TxrMbMPo0/4hpgGCXcj5JaEw7E95vZo3Fy2ey/TPGV0/5LMbMvgDHAnkB7\nSa3irLL4HSfi6x+r98zMvgH+Qen2397AkZI+IFS7fw/4KwXYf809WYwDesSeAG2AAcDIEsf0X5La\nSVov9Rj4PvBu9leVzEjglPj4FOCJEsayhtSBODqaEu3HWD98BzDVzK5LzCqL/VdbfGW0/zpKah8f\nrw0cTGhXGQMcExcr5f7LFF9V4o+ACO0BJdl/ZnaZmXU2s66E493zZjaQQuy/UrfaF/sGHEbo8fEe\n8KtSx5MWW3dCD623gcnlEh/wIKEqYjmhfnMwod7zOWA68CywUZnFdy/wDjCJcGDevESx7UOoYpoE\nTIy3w8pl/2WJr1z23w7AWzGOd4HfxOndgTeAGcBDwFplFt/zcf+9C9xH7DFVyhvQj1W9oRq8/3y4\nD+ecczk192oo55xzBeDJwjnnXE6eLJxzzuXkycI551xOniycc87l5MnC1Yskk/SXxPOLJV1RoHXf\nJemY3Es2eDvHSpoqaUyxt1UfktpLOruA6ztL0sk5ljlV0s21zPsq03RXGTxZuPr6BvgfSR1KHUhS\n4izVfAwGzjCzA4oVT1IdYwNoDxQsWZjZrWZ2T6HWVwj12CeuRDxZuPpaQbiu78/SZ6SXDFL/SCX1\nk/SCpCckzZR0jaSB8foA70jaOrGagySNlzQtjneTGsDtWknj4oBtP0ms9yVJI4EpGeI5Ia7/XUl/\njNN+QzhB7Q5J16Yt30/SWEkPS6qSdH88MxdJfeJ7mCBpVOLM3TNiXG9LekTSOol9cauk/wB/imft\n3xnf81uSjorLbRenTYzvrQdwDbB1nJYeY9dYKhqmcF2FZ+IZxUjaWtK/Y4wvSeoVp18h6eL4eNe4\nnYlxnybPON4ivn66pD+lbff6uL3nJHWM03aS9Hpc32OKgxDGfdg3Pu6gMARFqvQyUtLzwHOSNpf0\nYozlXUn7pn+GrgyU+ixDvzXNG/AVsD7hehwbABcDV8R5d5EY2x/4Kt73A74gXFNhLcL4NL+L8y4A\nbki8/t+EPzM9CGdptwXOBH4dl1kLGA90i+tdAnTLEOcWwIdAR6AV4UzbH8Z5Y4G+GV7TD/iSMIZO\nC+A1QmJpDbwKdIzLHQ/cGR9vnHj974HzEu/lSaBlfH41cGJ83J4wukA74CZgYJzeBlgb6Erimh1p\nMXYlJOyd4vMRifU+B/SIj3cnDPkAiWtWEM403jM+via1HeBUYGb8TNsCs4AucZ4lYvwNcHN8PAnY\nPz4ekvgc/7t/gQ7AB4ltzCGexQ78nDh6AeEaNOuV+vvttzVvXgR09WZmiyTdA5wPLMvzZeMsDtUt\n6T3gmTj9HSBZHTTCwqB20yXNJIzo+X1gh0SpZQNCMvkWeMPM3s+wvV2BsWY2P27zfsLFkx7PEecb\nZjYnvmYi4eD8BbA9MDoWNFoShh0B2F7S7wkJYF1gVGJdD5nZyvj4+4SB3i6Oz9sCWxIS0q8UrkXw\nqJlNj9vI5n0zmxgfTwC6KowmuxfwUOL1qw2XrTC20Xpm9lqc9ADwg8Qiz5nZl3HZKcBWhKH+a4B/\nxmXuAx6VtAHQ3sxeiNPvJgwnkctoM0tdk2QccKfCAIePJ96TKyOeLFxD3QC8SRhpM2UFsYpTUgvC\nP+WUbxKPaxLPa1j9+5g+Do0RrlJ2npklD8RI6kcoWRRSMs6VMTYBk81szwzL30Uosbwt6VRC6SQl\nGZuAH5lZddrrp8aqqsOBp2MV28w6xrg2Yb9/YWEI7frK9N4zyTVW0H+/B4SkmPTffWJmLyoMzX84\ncJek66zM2lact1m4Bor/DkcQGotTPgD6xMdHEqpv6upYSS1iO0Z3oJrwb/2n8R8oknoqjNabzRvA\n/rHOvCVwAvBCjtfUphroKGnPuP3WkraL89YDPo6xDcyyjlHAeYk2kJ3jfXdgppndSBgRdAdgcVxv\n3ixcm+J9ScfG9UrSjmnLfAEslrR7nDQgz9W3YNXIpT8GXo4lkIWJdoaTWLV/P2DV96DW3m2StgI+\nNbNhhKu77ZJnPK4RebJwhfAXQp10yjDCAfptwrUI6vOv/0PCgf7/gLPM7GvCgWQK8GZskL2NHKXj\nWOV1KWGI5reBCWZWr+GtLVya9xjgj/G9TSRU+QBcTrji3CtAVZbVXElInpMkTY7PAY4D3o1VXtsD\n95jZ58ArsdH32syry2ggMDjGOJnMlxIeDAyL22tHaKPJZQnhYj/vEq6TMCROPwW4VtIkwsWTUtP/\nTEjub7H69yNdP+DtuNzxhOsvuDLjo846V4EkrWvxWtKSLiUMSX5BicNyZczbLJyrTIdLuoxwDJhF\n6KHkXK28ZOGccy4nb7NwzjmXkycL55xzOXmycM45l5MnC+ecczl5snDOOZfT/wMKumoq+M0BawAA\nAABJRU5ErkJggg==\n",
      "text/plain": [
       "<matplotlib.figure.Figure at 0x1102d3978>"
      ]
     },
     "metadata": {},
     "output_type": "display_data"
    }
   ],
   "source": [
    "plt.plot(k_range, aurocs_clf, color='blue')\n",
    "plt.xlabel('Number of nearest neighbours')\n",
    "plt.ylabel('Cross-validated AUC')\n",
    "plt.title('Nearest neighbours classification - cross validated AUC.')"
   ]
  },
  {
   "cell_type": "markdown",
   "metadata": {},
   "source": [
    "**Question.** Find the best value for the parameter `n_neighbors` by finding the one that gives the maximum value of AUC."
   ]
  },
  {
   "cell_type": "code",
   "execution_count": 13,
   "metadata": {},
   "outputs": [
    {
     "name": "stdout",
     "output_type": "stream",
     "text": [
      "29\n"
     ]
    }
   ],
   "source": [
    "best_k = aurocs_clf.index(max(aurocs_clf))\n",
    "print (k_range[best_k])"
   ]
  },
  {
   "cell_type": "markdown",
   "metadata": {},
   "source": [
    "Let us now use `sklearn.model_selection.GridSearchCV` do to the same. The parameter to be cross-validated is the number of nearest neighbours to choose. Use an appropriate list to feed to `GridSearchCV` to find the best value for the nearest neighbours parameter."
   ]
  },
  {
   "cell_type": "code",
   "execution_count": 26,
   "metadata": {},
   "outputs": [
    {
     "name": "stdout",
     "output_type": "stream",
     "text": [
      "{'n_neighbors': range(1, 40, 2)}\n"
     ]
    },
    {
     "data": {
      "text/plain": [
       "GridSearchCV(cv=[(array([ 19,  20, ..., 181, 182]), array([ 0,  1,  2,  3,  4,  5,  6,  7,  8,  9, 10, 11, 12, 13, 14, 15, 16,\n",
       "       17, 18, 25])), (array([  0,   1, ..., 181, 182]), array([19, 20, 21, 22, 23, 24, 26, 27, 28, 29, 30, 31, 32, 33, 34, 35, 36,\n",
       "       37, 44])), (array([  0,   1, ..., 181, 182]), a...[165, 166, 167, 168, 169, 170, 171, 172, 173, 174, 175, 176, 177,\n",
       "       178, 179, 180, 181, 182]))],\n",
       "       error_score='raise',\n",
       "       estimator=KNeighborsClassifier(algorithm='auto', leaf_size=30, metric='minkowski',\n",
       "           metric_params=None, n_jobs=1, n_neighbors=39, p=2,\n",
       "           weights='uniform'),\n",
       "       fit_params=None, iid=True, n_jobs=1,\n",
       "       param_grid={'n_neighbors': range(1, 40, 2)},\n",
       "       pre_dispatch='2*n_jobs', refit=True, return_train_score=True,\n",
       "       scoring=None, verbose=0)"
      ]
     },
     "execution_count": 26,
     "metadata": {},
     "output_type": "execute_result"
    }
   ],
   "source": [
    "from sklearn import model_selection\n",
    "from sklearn import metrics\n",
    "\n",
    "classifier = clf\n",
    "\n",
    "param_grid = {'n_neighbors': k_range}\n",
    "print(param_grid)\n",
    "clf_knn_opt = model_selection.GridSearchCV(classifier, param_grid=param_grid, cv=cv_folds)\n",
    "clf_knn_opt.fit(X_clf, y=y_clf)"
   ]
  },
  {
   "cell_type": "code",
   "execution_count": 24,
   "metadata": {},
   "outputs": [
    {
     "name": "stdout",
     "output_type": "stream",
     "text": [
      "{'n_neighbors': 25}\n"
     ]
    }
   ],
   "source": [
    "# Find the best parameter\n",
    "print (clf_knn_opt.best_params_)"
   ]
  },
  {
   "cell_type": "markdown",
   "metadata": {},
   "source": [
    "Try choosing different scoring metrics for GridSearchCV, and see how the result changes. You can find scoring metrics [here](http://scikit-learn.org/stable/modules/model_evaluation.html#scoring-parameter)."
   ]
  },
  {
   "cell_type": "markdown",
   "metadata": {},
   "source": [
    "Now compare the performance of the *k*-nearest neighbours classifier with logistic regularisation (both, non-regularised, and regularised).\n",
    "NB: regularised and non-regularised names have been exchanged with each other."
   ]
  },
  {
   "cell_type": "code",
   "execution_count": 40,
   "metadata": {},
   "outputs": [],
   "source": [
    "from sklearn import linear_model\n",
    "\n",
<<<<<<< HEAD
    "clf_logreg = linear_model.LogisticRegression()\n",
    "logreg_params = {'C':np.logspace(-5,1,20)}\n",
=======
    "clf_logreg_l2 = linear_model.LogisticRegression()\n",
    "logreg_params = {'C':#TODO\n",
>>>>>>> ab0ed4614930e28cffcb8f05d3716ff5c1152b70
    "                \n",
    "clf_logreg_opt = model_selection.GridSearchCV( clf_logreg,\n",
    "                                               param_grid=logreg_params,\n",
    "                                               cv=cv_folds\n",
    "                                             )\n",
    "clf_logreg_opt.fit(X_clf, y_clf)\n",
    "ypred_clf_logreg_opt = cross_validate(X_clf, y_clf, clf_logreg_opt.best_estimator_, cv_folds)\n",
    "fpr_clf_logreg_opt, tpr_clf_logreg_opt, thresh = metrics.roc_curve(y_clf, ypred_clf_logreg_opt[:,1])"
   ]
  },
  {
   "cell_type": "code",
   "execution_count": 41,
   "metadata": {},
   "outputs": [
    {
     "ename": "ValueError",
     "evalue": "bad input shape (183, 2)",
     "output_type": "error",
     "traceback": [
      "\u001b[0;31m---------------------------------------------------------------------------\u001b[0m",
      "\u001b[0;31mValueError\u001b[0m                                Traceback (most recent call last)",
      "\u001b[0;32m<ipython-input-41-dadb10002e40>\u001b[0m in \u001b[0;36m<module>\u001b[0;34m()\u001b[0m\n\u001b[1;32m      2\u001b[0m \u001b[0mclf_logreg_l2\u001b[0m\u001b[0;34m.\u001b[0m\u001b[0mfit\u001b[0m\u001b[0;34m(\u001b[0m\u001b[0mX_clf\u001b[0m\u001b[0;34m,\u001b[0m \u001b[0my_clf\u001b[0m\u001b[0;34m)\u001b[0m\u001b[0;34m\u001b[0m\u001b[0m\n\u001b[1;32m      3\u001b[0m \u001b[0mypred_clf_logreg_l2\u001b[0m \u001b[0;34m=\u001b[0m \u001b[0mcross_validate\u001b[0m\u001b[0;34m(\u001b[0m\u001b[0mX_clf\u001b[0m\u001b[0;34m,\u001b[0m \u001b[0my_clf\u001b[0m\u001b[0;34m,\u001b[0m \u001b[0mclf_logreg_opt\u001b[0m\u001b[0;34m.\u001b[0m\u001b[0mbest_estimator_\u001b[0m\u001b[0;34m,\u001b[0m \u001b[0mcv_folds\u001b[0m\u001b[0;34m)\u001b[0m\u001b[0;34m\u001b[0m\u001b[0m\n\u001b[0;32m----> 4\u001b[0;31m \u001b[0mfpr_clf_logreg_l2\u001b[0m\u001b[0;34m,\u001b[0m \u001b[0mtpr_clf_logreg_l2\u001b[0m\u001b[0;34m,\u001b[0m \u001b[0mthresh\u001b[0m \u001b[0;34m=\u001b[0m \u001b[0mmetrics\u001b[0m\u001b[0;34m.\u001b[0m\u001b[0mroc_curve\u001b[0m\u001b[0;34m(\u001b[0m\u001b[0my_clf\u001b[0m\u001b[0;34m,\u001b[0m \u001b[0mypred_clf_logreg_l2\u001b[0m\u001b[0;34m[\u001b[0m\u001b[0;34m:\u001b[0m\u001b[0;34m]\u001b[0m\u001b[0;34m)\u001b[0m\u001b[0;34m\u001b[0m\u001b[0m\n\u001b[0m",
      "\u001b[0;32m/Library/Frameworks/Python.framework/Versions/3.6/lib/python3.6/site-packages/sklearn/metrics/ranking.py\u001b[0m in \u001b[0;36mroc_curve\u001b[0;34m(y_true, y_score, pos_label, sample_weight, drop_intermediate)\u001b[0m\n\u001b[1;32m    508\u001b[0m     \"\"\"\n\u001b[1;32m    509\u001b[0m     fps, tps, thresholds = _binary_clf_curve(\n\u001b[0;32m--> 510\u001b[0;31m         y_true, y_score, pos_label=pos_label, sample_weight=sample_weight)\n\u001b[0m\u001b[1;32m    511\u001b[0m \u001b[0;34m\u001b[0m\u001b[0m\n\u001b[1;32m    512\u001b[0m     \u001b[0;31m# Attempt to drop thresholds corresponding to points in between and\u001b[0m\u001b[0;34m\u001b[0m\u001b[0;34m\u001b[0m\u001b[0m\n",
      "\u001b[0;32m/Library/Frameworks/Python.framework/Versions/3.6/lib/python3.6/site-packages/sklearn/metrics/ranking.py\u001b[0m in \u001b[0;36m_binary_clf_curve\u001b[0;34m(y_true, y_score, pos_label, sample_weight)\u001b[0m\n\u001b[1;32m    302\u001b[0m     \u001b[0mcheck_consistent_length\u001b[0m\u001b[0;34m(\u001b[0m\u001b[0my_true\u001b[0m\u001b[0;34m,\u001b[0m \u001b[0my_score\u001b[0m\u001b[0;34m)\u001b[0m\u001b[0;34m\u001b[0m\u001b[0m\n\u001b[1;32m    303\u001b[0m     \u001b[0my_true\u001b[0m \u001b[0;34m=\u001b[0m \u001b[0mcolumn_or_1d\u001b[0m\u001b[0;34m(\u001b[0m\u001b[0my_true\u001b[0m\u001b[0;34m)\u001b[0m\u001b[0;34m\u001b[0m\u001b[0m\n\u001b[0;32m--> 304\u001b[0;31m     \u001b[0my_score\u001b[0m \u001b[0;34m=\u001b[0m \u001b[0mcolumn_or_1d\u001b[0m\u001b[0;34m(\u001b[0m\u001b[0my_score\u001b[0m\u001b[0;34m)\u001b[0m\u001b[0;34m\u001b[0m\u001b[0m\n\u001b[0m\u001b[1;32m    305\u001b[0m     \u001b[0massert_all_finite\u001b[0m\u001b[0;34m(\u001b[0m\u001b[0my_true\u001b[0m\u001b[0;34m)\u001b[0m\u001b[0;34m\u001b[0m\u001b[0m\n\u001b[1;32m    306\u001b[0m     \u001b[0massert_all_finite\u001b[0m\u001b[0;34m(\u001b[0m\u001b[0my_score\u001b[0m\u001b[0;34m)\u001b[0m\u001b[0;34m\u001b[0m\u001b[0m\n",
      "\u001b[0;32m/Library/Frameworks/Python.framework/Versions/3.6/lib/python3.6/site-packages/sklearn/utils/validation.py\u001b[0m in \u001b[0;36mcolumn_or_1d\u001b[0;34m(y, warn)\u001b[0m\n\u001b[1;32m    581\u001b[0m         \u001b[0;32mreturn\u001b[0m \u001b[0mnp\u001b[0m\u001b[0;34m.\u001b[0m\u001b[0mravel\u001b[0m\u001b[0;34m(\u001b[0m\u001b[0my\u001b[0m\u001b[0;34m)\u001b[0m\u001b[0;34m\u001b[0m\u001b[0m\n\u001b[1;32m    582\u001b[0m \u001b[0;34m\u001b[0m\u001b[0m\n\u001b[0;32m--> 583\u001b[0;31m     \u001b[0;32mraise\u001b[0m \u001b[0mValueError\u001b[0m\u001b[0;34m(\u001b[0m\u001b[0;34m\"bad input shape {0}\"\u001b[0m\u001b[0;34m.\u001b[0m\u001b[0mformat\u001b[0m\u001b[0;34m(\u001b[0m\u001b[0mshape\u001b[0m\u001b[0;34m)\u001b[0m\u001b[0;34m)\u001b[0m\u001b[0;34m\u001b[0m\u001b[0m\n\u001b[0m\u001b[1;32m    584\u001b[0m \u001b[0;34m\u001b[0m\u001b[0m\n\u001b[1;32m    585\u001b[0m \u001b[0;34m\u001b[0m\u001b[0m\n",
      "\u001b[0;31mValueError\u001b[0m: bad input shape (183, 2)"
     ]
    }
   ],
   "source": [
<<<<<<< HEAD
    "clf_logreg_l2 = linear_model.LogisticRegression(C=1e12)\n",
    "clf_logreg_l2.fit(X_clf, y_clf)\n",
    "ypred_clf_logreg_l2 = cross_validate(X_clf, y_clf, clf_logreg_opt.best_estimator_, cv_folds)\n",
    "fpr_clf_logreg_l2, tpr_clf_logreg_l2, thresh = metrics.roc_curve(y_clf, ypred_clf_logreg_l2[:])"
=======
    "clf_logreg = linear_model.LogisticRegression(C=1e12)\n",
    "ypred_clf_logreg = # TODO\n",
    "fpr_clf_logreg, tpr_clf_logreg, thresh = # TODO"
>>>>>>> ab0ed4614930e28cffcb8f05d3716ff5c1152b70
   ]
  },
  {
   "cell_type": "code",
   "execution_count": 31,
   "metadata": {},
   "outputs": [],
   "source": [
    "ypred_clf_knn_opt = cross_validate(X_clf, y_clf, clf_knn_opt.best_params_, cv_folds)\n",
    "fpr_clf_knn_opt, tpr_clf_knn_opt, thresh = metrics.roc_curve(y_clf, ypred_clf_knn_opt[:])"
   ]
  },
  {
   "cell_type": "code",
   "execution_count": 34,
   "metadata": {},
   "outputs": [
    {
     "data": {
      "image/png": "iVBORw0KGgoAAAANSUhEUgAAAgIAAAEWCAYAAAAU6v/cAAAABHNCSVQICAgIfAhkiAAAAAlwSFlz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\nJoBZImCMMcYEMEsEjDHGmAD2f9HtmCjD5+AeAAAAAElFTkSuQmCC\n",
      "text/plain": [
       "<matplotlib.figure.Figure at 0x110266f60>"
      ]
     },
     "metadata": {},
     "output_type": "display_data"
    }
   ],
   "source": [
    "logreg_l2_h,  = plt.plot(fpr_clf_logreg_opt, tpr_clf_logreg_opt, 'b-')\n",
    "logreg_h,     = plt.plot(fpr_clf_logreg, tpr_clf_logreg, 'g-')\n",
    "knn_h,        = plt.plot(fpr_clf_knn_opt, tpr_clf_knn_opt, 'r-')\n",
    "logreg_l2_auc    = metrics.auc(fpr_clf_logreg_opt, tpr_clf_logreg_opt)\n",
    "logreg_auc = metrics.auc(fpr_clf_logreg, tpr_clf_logreg)\n",
    "knn_auc       = metrics.auc(fpr_clf_knn_opt, tpr_clf_knn_opt)\n",
    "\n",
    "\n",
    "logreg_legend    = 'LogisticRegression. AUC=%.2f' %(logreg_auc)\n",
    "logreg_l2_legend = 'Regularised LogisticRegression. AUC=%.2f' %(logreg_l2_auc)\n",
    "knn_legend       = 'KNeighborsClassifier. AUC=%.2f' %(knn_auc)\n",
    "plt.legend([logreg_h, logreg_l2_h, knn_h], [logreg_legend, logreg_l2_legend, knn_legend])\n",
    "plt.xlabel('False Positive Rate')\n",
    "plt.ylabel('True Positive Rate')\n",
    "plt.title('ROC Curves comparison for logistic regression and k-nearest neighbours classifier.')\n",
    "plt.show()"
   ]
  },
  {
   "cell_type": "markdown",
   "metadata": {},
   "source": [
    "**Setting the distance measure**. You will notice that *k*-nearest neighbours classifiers measure distances between points to determine similarity. By default, we use the Euclidean distance metric. Often, using other distance metrics can prove to be helpful. Try to change the distance metric used here by passing it as an argument to the declaration of the classifier. "
   ]
  },
  {
   "cell_type": "code",
   "execution_count": 38,
   "metadata": {},
   "outputs": [
    {
     "name": "stdout",
     "output_type": "stream",
     "text": [
      "Metric = euclidean    | k =   1 | AUC = 0.619.\n",
      "Metric = euclidean    | k =   3 | AUC = 0.687.\n",
      "Metric = euclidean    | k =   5 | AUC = 0.686.\n",
      "Metric = euclidean    | k =   7 | AUC = 0.702.\n",
      "Metric = euclidean    | k =   9 | AUC = 0.726.\n",
      "Metric = euclidean    | k =  11 | AUC = 0.724.\n",
      "Metric = euclidean    | k =  13 | AUC = 0.714.\n",
      "Metric = euclidean    | k =  15 | AUC = 0.740.\n",
      "Metric = euclidean    | k =  17 | AUC = 0.717.\n",
      "Metric = euclidean    | k =  19 | AUC = 0.714.\n",
      "Metric = euclidean    | k =  21 | AUC = 0.735.\n",
      "Metric = euclidean    | k =  23 | AUC = 0.734.\n",
      "Metric = euclidean    | k =  25 | AUC = 0.735.\n",
      "Metric = euclidean    | k =  27 | AUC = 0.740.\n",
      "Metric = euclidean    | k =  29 | AUC = 0.749.\n",
      "Metric = euclidean    | k =  31 | AUC = 0.745.\n",
      "Metric = euclidean    | k =  33 | AUC = 0.738.\n",
      "Metric = euclidean    | k =  35 | AUC = 0.748.\n",
      "Metric = euclidean    | k =  37 | AUC = 0.732.\n",
      "Metric = euclidean    | k =  39 | AUC = 0.728.\n",
      "Metric = cityblock    | k =   1 | AUC = 0.598.\n",
      "Metric = cityblock    | k =   3 | AUC = 0.690.\n",
      "Metric = cityblock    | k =   5 | AUC = 0.676.\n",
      "Metric = cityblock    | k =   7 | AUC = 0.708.\n",
      "Metric = cityblock    | k =   9 | AUC = 0.731.\n",
      "Metric = cityblock    | k =  11 | AUC = 0.701.\n",
      "Metric = cityblock    | k =  13 | AUC = 0.720.\n",
      "Metric = cityblock    | k =  15 | AUC = 0.698.\n",
      "Metric = cityblock    | k =  17 | AUC = 0.718.\n",
      "Metric = cityblock    | k =  19 | AUC = 0.742.\n",
      "Metric = cityblock    | k =  21 | AUC = 0.749.\n",
      "Metric = cityblock    | k =  23 | AUC = 0.750.\n",
      "Metric = cityblock    | k =  25 | AUC = 0.758.\n",
      "Metric = cityblock    | k =  27 | AUC = 0.775.\n",
      "Metric = cityblock    | k =  29 | AUC = 0.783.\n",
      "Metric = cityblock    | k =  31 | AUC = 0.783.\n",
      "Metric = cityblock    | k =  33 | AUC = 0.771.\n",
      "Metric = cityblock    | k =  35 | AUC = 0.772.\n",
      "Metric = cityblock    | k =  37 | AUC = 0.769.\n",
      "Metric = cityblock    | k =  39 | AUC = 0.763.\n",
      "Metric = correlation  | k =   1 | AUC = 0.602.\n",
      "Metric = correlation  | k =   3 | AUC = 0.695.\n",
      "Metric = correlation  | k =   5 | AUC = 0.740.\n",
      "Metric = correlation  | k =   7 | AUC = 0.780.\n",
      "Metric = correlation  | k =   9 | AUC = 0.788.\n",
      "Metric = correlation  | k =  11 | AUC = 0.790.\n",
      "Metric = correlation  | k =  13 | AUC = 0.772.\n",
      "Metric = correlation  | k =  15 | AUC = 0.794.\n",
      "Metric = correlation  | k =  17 | AUC = 0.796.\n",
      "Metric = correlation  | k =  19 | AUC = 0.796.\n",
      "Metric = correlation  | k =  21 | AUC = 0.801.\n",
      "Metric = correlation  | k =  23 | AUC = 0.797.\n",
      "Metric = correlation  | k =  25 | AUC = 0.779.\n",
      "Metric = correlation  | k =  27 | AUC = 0.791.\n",
      "Metric = correlation  | k =  29 | AUC = 0.791.\n",
      "Metric = correlation  | k =  31 | AUC = 0.787.\n",
      "Metric = correlation  | k =  33 | AUC = 0.784.\n",
      "Metric = correlation  | k =  35 | AUC = 0.786.\n",
      "Metric = correlation  | k =  37 | AUC = 0.788.\n",
      "Metric = correlation  | k =  39 | AUC = 0.779.\n",
      "Metric = cosine       | k =   1 | AUC = 0.635.\n",
      "Metric = cosine       | k =   3 | AUC = 0.639.\n",
      "Metric = cosine       | k =   5 | AUC = 0.697.\n",
      "Metric = cosine       | k =   7 | AUC = 0.722.\n",
      "Metric = cosine       | k =   9 | AUC = 0.739.\n",
      "Metric = cosine       | k =  11 | AUC = 0.744.\n",
      "Metric = cosine       | k =  13 | AUC = 0.733.\n",
      "Metric = cosine       | k =  15 | AUC = 0.730.\n",
      "Metric = cosine       | k =  17 | AUC = 0.731.\n",
      "Metric = cosine       | k =  19 | AUC = 0.732.\n",
      "Metric = cosine       | k =  21 | AUC = 0.734.\n",
      "Metric = cosine       | k =  23 | AUC = 0.738.\n",
      "Metric = cosine       | k =  25 | AUC = 0.735.\n",
      "Metric = cosine       | k =  27 | AUC = 0.732.\n",
      "Metric = cosine       | k =  29 | AUC = 0.733.\n",
      "Metric = cosine       | k =  31 | AUC = 0.739.\n",
      "Metric = cosine       | k =  33 | AUC = 0.739.\n",
      "Metric = cosine       | k =  35 | AUC = 0.739.\n",
      "Metric = cosine       | k =  37 | AUC = 0.745.\n",
      "Metric = cosine       | k =  39 | AUC = 0.749.\n"
     ]
    }
   ],
   "source": [
    "classifiers = {}            \n",
    "y_preds     = {}            \n",
    "# Fix a set of distance metrics to use\n",
    "d_metrics = ['euclidean', 'cityblock', 'correlation' , 'cosine']\n",
    "aurocs    = {}      \n",
    "\n",
    "for m in d_metrics:\n",
    "    aurocs[m] = []          \n",
    "    for k in k_range: \n",
    "        classifiers[m] = neighbors.KNeighborsClassifier(n_neighbors=k,metric=m) # TODO. Initialise a kNN classifier with n_neighbors=k and metric=m\n",
    "        y_preds[m]     = cross_validate(X_clf, y_clf, classifiers[m], cv_folds) # TODO. Cross validate on the data. Use cross_validate\n",
    "    \n",
    "        fpr, tpr, thresholds = metrics.roc_curve(y_clf, y_preds[m][:,1]) # TODO.\n",
    "        auc                  = metrics.auc(fpr,tpr) # TODO.\n",
    "        aurocs[m].append(auc)     \n",
    "        \n",
    "        print ('Metric = %-12s | k = %3d | AUC = %.3f.' %(m, k, aurocs[m][-1]))"
   ]
  },
  {
   "cell_type": "markdown",
   "metadata": {},
   "source": [
    "Now plot ROC curves for all the metrics together."
   ]
  },
  {
   "cell_type": "code",
   "execution_count": 39,
   "metadata": {},
   "outputs": [
    {
     "data": {
      "text/plain": [
       "<matplotlib.legend.Legend at 0x119124cc0>"
      ]
     },
     "execution_count": 39,
     "metadata": {},
     "output_type": "execute_result"
    },
    {
     "data": {
      "image/png": "iVBORw0KGgoAAAANSUhEUgAAAZcAAAEdCAYAAADATSqzAAAABHNCSVQICAgIfAhkiAAAAAlwSFlz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\nhmFEHFMuhmEYRsT5f/LjoUZnSO79AAAAAElFTkSuQmCC\n",
      "text/plain": [
       "<matplotlib.figure.Figure at 0x117c99198>"
      ]
     },
     "metadata": {},
     "output_type": "display_data"
    }
   ],
   "source": [
    "f = plt.figure()\n",
    "handles = [[] for i in range(len(d_metrics))]\n",
    "colours = ['blue', 'red', 'black', 'yellow'] \n",
    "for i in range(len(d_metrics)):              \n",
    "    handles[i], = plt.plot(k_range, aurocs[d_metrics[i]], color=colours[i])  # SOLUTION\n",
    "\n",
    "plt.xlabel('Number of nearest neighbors', fontsize=16)\n",
    "plt.ylabel('Cross-validated AUC', fontsize=16)\n",
    "plt.title('Nearest neighbors classification', fontsize=16)\n",
    "plt.legend(handles, d_metrics)"
   ]
  },
  {
   "cell_type": "markdown",
   "metadata": {},
   "source": [
    "# 2. Kaggle Challenge.\n",
    "\n",
    "Cross-validate a *k*-NN on the challenge's data and submit to the leaderboard. What scoring criterion are you using? How does the leaderboard performance compare to your cross-validated performance?"
   ]
  },
  {
   "cell_type": "markdown",
   "metadata": {},
   "source": [
    "# 3. Bonus: Implementating *k*-Nearest Neighbours"
   ]
  },
  {
   "cell_type": "markdown",
   "metadata": {},
   "source": [
    "In this section, you can write your own nearest neighbours classifier.\n",
    "\n",
    "Create a class to define a *k*-nearest neighbor classifier. The class must define certain functions (according to convention) - `fit`, `predict`, and `predict_proba`. `fit` takes as argument some data, and fits the classifier to it. `predict` and `predict_proba` also take some data, but predict class labels on this data based on the fitted classifier. These definitions are described below. `predict_proba` assigns a probability vector for each test point, representing its confidence in that test point belonging to each of the classes. "
   ]
  },
  {
   "cell_type": "code",
   "execution_count": null,
   "metadata": {
    "collapsed": true
   },
   "outputs": [],
   "source": [
    "from sklearn.metrics import pairwise_distances\n",
    "\n",
    "class kNNClassifier:\n",
    "    # To start, determine what members this class must have. \n",
    "    # Recall that Python does not have public and private class members. \n",
    "    \n",
    "    # Define the __init__ function. \n",
    "    def __init__(self, k=3):\n",
    "        self.k    = k\n",
    "        self.data = None\n",
    "    \n",
    "    # Define the fit function. You must also use an appropriate function prototype. \n",
    "    def fit(self, X, y):\n",
    "        self.data      = X\n",
    "        \n",
    "        # Fix class labels so that they are in [0, num_labels].\n",
    "        self.target    = y\n",
    "        self.classes   = np.unique(y)\n",
    "        self.n_classes = self.classes.size\n",
    "        d              = {}\n",
    "        for i in range(self.n_classes):\n",
    "            d[self.classes[i]] = i\n",
    "        # Now use self._target as a mapping.\n",
    "        self._target   = np.array([d[i] for i in self.target], dtype=np.int)  \n",
    "    \n",
    "    # Define the predict_proba function. You must use an appropriate function prototype. \n",
    "    def predict_proba(self, X):        \n",
    "        n_test, n_vars  = X.shape\n",
    "        n_train, n_vars = self.data.shape\n",
    "                \n",
    "        dists = # TODO: Find pairwise distances between each point in X and each point in self.data\n",
    "        top_k = # TODO: For each point in X, sort these distance and retrieve self.k closest points from self.data\n",
    "        # TODO: For each point in X, compute probabilities of it belonging to each class. The probability\n",
    "        #       of a point belonging to a class is simply the number of neighbours of that class in the top-k \n",
    "        #       divided by k.\n",
    "        return probs\n",
    "    \n",
    "    # Define the predict function. You must also use an appropriate function prototype. \n",
    "    def predict(self, X):\n",
    "        probs = self.predict_proba(X)\n",
    "        return self.classes[np.argmax(probs, axis=1)]\n",
    "        pass\n"
   ]
  },
  {
   "cell_type": "markdown",
   "metadata": {
    "collapsed": true
   },
   "source": [
    "Now that we have the class defined, we can use it. Define an instance of the `kNNClassifier` below with 3 neighbors, and fit the classifier to our design matrix `X`. But first we create cross validation folds. 10 sounds like a good-enough number."
   ]
  },
  {
   "cell_type": "code",
   "execution_count": null,
   "metadata": {
    "collapsed": true
   },
   "outputs": [],
   "source": [
    "cv_folds = stratifiedMFolds(y_clf, 10)   # SOLUTION."
   ]
  },
  {
   "cell_type": "markdown",
   "metadata": {},
   "source": [
    "Use this to obtain a prediction on the entire data. Use `k = 3`, as example."
   ]
  },
  {
   "cell_type": "code",
   "execution_count": null,
   "metadata": {
    "collapsed": true
   },
   "outputs": [],
   "source": [
    "knn_3       = # TODO\n",
    "y_pred_cv   = cross_validate( # TODO,\n",
    "                              # TODO,\n",
    "                              # TODO,\n",
    "                              # TODO\n",
    "                              )"
   ]
  },
  {
   "cell_type": "markdown",
   "metadata": {},
   "source": [
    "Calculate the area under the ROC curve for these two folds. "
   ]
  },
  {
   "cell_type": "code",
   "execution_count": null,
   "metadata": {
    "collapsed": true
   },
   "outputs": [],
   "source": [
    "from sklearn import metrics\n",
    "\n",
    "fpr, tpr, thresholds = # TODO\n",
    "cv_auc               = # TODO\n",
    "\n",
    "print 'AUC, 10-fold cross validation: %f' %(cv_auc)"
   ]
  },
  {
   "cell_type": "markdown",
   "metadata": {},
   "source": [
    "Try changing the value of `k` here. Try odd values from 1 to 29, inclusive. Compare their performances by plotting them."
   ]
  },
  {
   "cell_type": "markdown",
   "metadata": {},
   "source": [
    "**Question**: Why aren't we using even values here?\n",
    "\n",
    "**Answer**: "
   ]
  },
  {
   "cell_type": "code",
   "execution_count": 1,
   "metadata": {},
   "outputs": [
    {
     "ename": "SyntaxError",
     "evalue": "invalid syntax (<ipython-input-1-698cabd15095>, line 10)",
     "output_type": "error",
     "traceback": [
      "\u001b[0;36m  File \u001b[0;32m\"<ipython-input-1-698cabd15095>\"\u001b[0;36m, line \u001b[0;32m10\u001b[0m\n\u001b[0;31m    fpr, tpr, thresholds = # TODO\u001b[0m\n\u001b[0m                                 ^\u001b[0m\n\u001b[0;31mSyntaxError\u001b[0m\u001b[0;31m:\u001b[0m invalid syntax\n"
     ]
    }
   ],
   "source": [
    "aurocs      = []\n",
    "classifiers = {}\n",
    "y_preds     = {}\n",
    "\n",
    "# Calculate area under the ROC curves for different values of k.\n",
    "for k in range(1, 30, 2):\n",
    "    classifiers[k] = kNNClassifier(k)        \n",
    "    y_preds[k]     = cross_validate(X_clf, y_clf, classifiers[k], cv_folds)\n",
    "    \n",
    "    fpr, tpr, thresholds = # TODO\n",
    "    aurocs.append(metrics.auc(fpr, tpr))   \n",
    "    \n",
    "# Plot these values. \n",
    "f = plt.figure()\n",
    "plt.plot(range(1, 30, 2), aurocs, color='blue')\n",
    "plt.xlabel('Number of nearest neighbors', fontsize=16)\n",
    "plt.ylabel('Cross-validated AUC', fontsize=16)\n",
    "plt.title('Nearest neighbors classification', fontsize=16)"
   ]
  },
  {
   "cell_type": "markdown",
   "metadata": {},
   "source": [
    "Now compare the graph you get here, with the one you obtained using the `sklearn` implementation."
   ]
  },
  {
   "cell_type": "markdown",
   "metadata": {},
   "source": [
    "Notice that our implementation of the *k*-nearest neighbors classifier uses the Euclidean distance measure (`pairwise_distances` uses this metric by default). However, for some types of data, some other distance measures are more useful. \n",
    "Read the documentation of `sklearn.metrics.pairwise_distances` [here](http://scikit-learn.org/stable/modules/generated/sklearn.metrics.pairwise.pairwise_distances.html), and include another parameter in the definition of the class. This should subsequently be reflected in how the predict function of the class works as well. \n",
    "\n",
    "Define a new class `kNNClassifierMetric` that accepts, as argument, a distance measure to be used. "
   ]
  },
  {
   "cell_type": "code",
   "execution_count": null,
   "metadata": {
    "collapsed": true
   },
   "outputs": [],
   "source": [
    "class kNNClassifierMetric:\n",
    "    # To start, determine what members this class must have. \n",
    "    # Recall that Python does not have public and private class members. \n",
    "    \n",
    "    # Define the __init__ function. You must also use an appropriate function prototype. \n",
    "    def __init__(self, k=3, metric='euclidean'):\n",
    "        self.k      = k\n",
    "        self.data   = None\n",
    "        self.metric = metric\n",
    "    \n",
    "    # Define the fit function. You must also use an appropriate function prototype. \n",
    "    def fit(self, X, y):\n",
    "        self.data      = X\n",
    "        # Fix class labels so that they are in [0, num_labels].\n",
    "        # TODO. You can borrow this from the previous definition.\n",
    " \n",
    "    \n",
    "    # Define the predict_proba function. You must use an appropriate function prototype. \n",
    "    def predict_proba(self, X):        \n",
    "        n_test, n_vars  = X.shape\n",
    "        n_train, n_vars = self.data.shape\n",
    "        \n",
    "        # TODO.\n",
    "        \n",
    "    # Define the predict function. You must also use an appropriate function prototype. \n",
    "    def predict(self, X):\n",
    "        probs = self.predict_proba(X)\n",
    "        return self.classes[np.argmax(probs, axis=1)]\n",
    "        pass\n"
   ]
  },
  {
   "cell_type": "markdown",
   "metadata": {},
   "source": [
    "As previously, we again predict the class labels for our dataset - "
   ]
  },
  {
   "cell_type": "code",
   "execution_count": null,
   "metadata": {
    "collapsed": true
   },
   "outputs": [],
   "source": [
    "from sklearn import metrics\n",
    "\n",
    "classifiers = {}\n",
    "y_preds     = {}\n",
    "# Fix a set of distance metrics to use\n",
    "d_metrics = ['euclidean', 'cityblock', 'correlation' , 'cosine']\n",
    "for m in d_metrics:\n",
    "    classifiers[m] = kNNClassifierMetric(k=3, metric=m)    \n",
    "    y_preds[m]     = # TODO\n",
    "    \n",
    "    fpr, tpr, thresholds = # TODO\n",
    "    auc                  = # TODO\n",
    "    \n",
    "    print 'Metric %s. AUC, 10-fold cross validation: %f' %(m, auc)"
   ]
  },
  {
   "cell_type": "markdown",
   "metadata": {},
   "source": [
    "Do the same thing, but this time, try changing the parameter `k` as well. "
   ]
  },
  {
   "cell_type": "code",
   "execution_count": null,
   "metadata": {
    "collapsed": true
   },
   "outputs": [],
   "source": [
    "classifiers = {}    \n",
    "y_preds     = {}    \n",
    "# Fix a set of distance metrics to use\n",
    "d_metrics = ['euclidean', 'cityblock', 'correlation' , 'cosine']\n",
    "aurocs    = {}      \n",
    "\n",
    "for m in d_metrics:\n",
    "    aurocs[m] = []          \n",
    "    for k in k_range: \n",
    "        classifiers[m] = kNNClassifierMetric(k=k, metric=m)    \n",
    "        y_preds[m]     = # TODO\n",
    "        \n",
    "        fpr, tpr, thresholds = # TODO\n",
    "        auc                  = # TODO\n",
    "        aurocs[m].append(auc)     # SOLUTION.\n",
    "        \n",
    "        print 'Metric = %-12s | k = %3d | AUC = %.3f.' %(m, k, aurocs[m][-1])"
   ]
  },
  {
   "cell_type": "markdown",
   "metadata": {},
   "source": [
    "Now plot all the curves on the same graph. Also try adding a legend to the plot."
   ]
  },
  {
   "cell_type": "code",
   "execution_count": null,
   "metadata": {
    "collapsed": true,
    "scrolled": false
   },
   "outputs": [],
   "source": [
    "f = plt.figure()\n",
    "handles = [[] for i in range(len(d_metrics))]  \n",
    "colours = ['blue', 'red', 'black', 'yellow']   \n",
    "for i in range(len(d_metrics)):                \n",
    "    handles[i], = plt.plot(k_range, aurocs[d_metrics[i]], color=colours[i])  \n",
    "\n",
    "plt.xlabel('Number of nearest neighbors', fontsize=16)\n",
    "plt.ylabel('Cross-validated AUC', fontsize=16)\n",
    "plt.title('Nearest neighbors classification', fontsize=16)\n",
    "plt.legend(handles, d_metrics)"
   ]
  },
  {
   "cell_type": "markdown",
   "metadata": {},
   "source": [
    "Note the effect of choosing different distance metrics."
   ]
  },
  {
   "cell_type": "code",
   "execution_count": null,
   "metadata": {
    "collapsed": true
   },
   "outputs": [],
   "source": []
  }
 ],
 "metadata": {
  "kernelspec": {
   "display_name": "Python 3",
   "language": "python",
   "name": "python3"
  },
  "language_info": {
   "codemirror_mode": {
    "name": "ipython",
    "version": 3
   },
   "file_extension": ".py",
   "mimetype": "text/x-python",
   "name": "python",
   "nbconvert_exporter": "python",
   "pygments_lexer": "ipython3",
   "version": "3.6.1"
  }
 },
 "nbformat": 4,
 "nbformat_minor": 1
}
