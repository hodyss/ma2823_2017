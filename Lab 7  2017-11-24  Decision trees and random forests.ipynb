{
 "cells": [
  {
   "cell_type": "markdown",
   "metadata": {},
   "source": [
    "#  2017-11-24  Tree-based methods\n",
    "\n",
    "The goal of this lab is to explore and understand tree-based models on classification problems.\n",
    "\n",
    "We will focus successively on decision trees, bagging trees and random forests. The first Bonus part guides you in implementing these algortihms yourself. The second Bonus part shows you how to use tree-based methods for feature selection."
   ]
  },
  {
   "cell_type": "markdown",
   "metadata": {
    "deletable": true,
    "editable": true
   },
   "source": [
    "### Import required libraries"
   ]
  },
  {
   "cell_type": "code",
<<<<<<< HEAD
   "execution_count": 1,
   "metadata": {},
=======
   "execution_count": null,
   "metadata": {
    "collapsed": false,
    "deletable": true,
    "editable": true
   },
>>>>>>> f1df0ad3a881f47d2535f6051b09ef6a693523e5
   "outputs": [],
   "source": [
    "# import required libraries\n",
    "import numpy as np\n",
    "import time\n",
    "import math\n",
    "import pandas as pd\n",
    "import matplotlib.pyplot as plt\n",
    "from sklearn import metrics\n",
    "%matplotlib inline"
   ]
  },
  {
   "cell_type": "markdown",
   "metadata": {
    "deletable": true,
    "editable": true
   },
   "source": [
    "### Classification data\n",
    "We will use the same data as in Lab 4: the samples are tumors, each described by the expression (= the abundance) of 3,000 genes. The goal is to separate the endometrium tumors from the uterine ones."
   ]
  },
  {
   "cell_type": "code",
<<<<<<< HEAD
   "execution_count": 2,
   "metadata": {},
   "outputs": [
    {
     "data": {
      "text/html": [
       "<div>\n",
       "<style>\n",
       "    .dataframe thead tr:only-child th {\n",
       "        text-align: right;\n",
       "    }\n",
       "\n",
       "    .dataframe thead th {\n",
       "        text-align: left;\n",
       "    }\n",
       "\n",
       "    .dataframe tbody tr th {\n",
       "        vertical-align: top;\n",
       "    }\n",
       "</style>\n",
       "<table border=\"1\" class=\"dataframe\">\n",
       "  <thead>\n",
       "    <tr style=\"text-align: right;\">\n",
       "      <th></th>\n",
       "      <th>ID_REF</th>\n",
       "      <th>1554530_at</th>\n",
       "      <th>1553185_at</th>\n",
       "      <th>1554340_a_at</th>\n",
       "      <th>1556202_at</th>\n",
       "      <th>1553957_at</th>\n",
       "      <th>1555469_a_at</th>\n",
       "      <th>1553660_at</th>\n",
       "      <th>1554681_a_at</th>\n",
       "      <th>1554938_a_at</th>\n",
       "      <th>...</th>\n",
       "      <th>1553967_at</th>\n",
       "      <th>1553362_at</th>\n",
       "      <th>1553002_at</th>\n",
       "      <th>1556194_a_at</th>\n",
       "      <th>1556420_s_at</th>\n",
       "      <th>1555855_at</th>\n",
       "      <th>1554508_at</th>\n",
       "      <th>1555097_a_at</th>\n",
       "      <th>1556371_at</th>\n",
       "      <th>Tissue</th>\n",
       "    </tr>\n",
       "  </thead>\n",
       "  <tbody>\n",
       "    <tr>\n",
       "      <th>0</th>\n",
       "      <td>117722</td>\n",
       "      <td>10.8</td>\n",
       "      <td>13233.7</td>\n",
       "      <td>27.2</td>\n",
       "      <td>167.8</td>\n",
       "      <td>450.7</td>\n",
       "      <td>283.8</td>\n",
       "      <td>6.4</td>\n",
       "      <td>8.6</td>\n",
       "      <td>26.7</td>\n",
       "      <td>...</td>\n",
       "      <td>165.2</td>\n",
       "      <td>43.7</td>\n",
       "      <td>77.0</td>\n",
       "      <td>42.2</td>\n",
       "      <td>154.8</td>\n",
       "      <td>266.6</td>\n",
       "      <td>444.0</td>\n",
       "      <td>66.9</td>\n",
       "      <td>50.6</td>\n",
       "      <td>Endometrium</td>\n",
       "    </tr>\n",
       "    <tr>\n",
       "      <th>1</th>\n",
       "      <td>76638</td>\n",
       "      <td>12.6</td>\n",
       "      <td>4986.8</td>\n",
       "      <td>1.7</td>\n",
       "      <td>221.1</td>\n",
       "      <td>380.8</td>\n",
       "      <td>394.3</td>\n",
       "      <td>121.2</td>\n",
       "      <td>8.0</td>\n",
       "      <td>153.8</td>\n",
       "      <td>...</td>\n",
       "      <td>190.7</td>\n",
       "      <td>3.2</td>\n",
       "      <td>84.0</td>\n",
       "      <td>183.0</td>\n",
       "      <td>288.0</td>\n",
       "      <td>20.6</td>\n",
       "      <td>99.3</td>\n",
       "      <td>6.4</td>\n",
       "      <td>12.2</td>\n",
       "      <td>Endometrium</td>\n",
       "    </tr>\n",
       "    <tr>\n",
       "      <th>2</th>\n",
       "      <td>88952</td>\n",
       "      <td>16.6</td>\n",
       "      <td>6053.8</td>\n",
       "      <td>121.4</td>\n",
       "      <td>342.7</td>\n",
       "      <td>217.6</td>\n",
       "      <td>367.9</td>\n",
       "      <td>159.7</td>\n",
       "      <td>10.8</td>\n",
       "      <td>124.4</td>\n",
       "      <td>...</td>\n",
       "      <td>95.9</td>\n",
       "      <td>17.1</td>\n",
       "      <td>72.3</td>\n",
       "      <td>292.9</td>\n",
       "      <td>209.5</td>\n",
       "      <td>11.6</td>\n",
       "      <td>51.3</td>\n",
       "      <td>33.8</td>\n",
       "      <td>33.4</td>\n",
       "      <td>Endometrium</td>\n",
       "    </tr>\n",
       "    <tr>\n",
       "      <th>3</th>\n",
       "      <td>76632</td>\n",
       "      <td>9.9</td>\n",
       "      <td>6109.1</td>\n",
       "      <td>23.0</td>\n",
       "      <td>139.3</td>\n",
       "      <td>501.8</td>\n",
       "      <td>289.9</td>\n",
       "      <td>101.7</td>\n",
       "      <td>9.7</td>\n",
       "      <td>204.8</td>\n",
       "      <td>...</td>\n",
       "      <td>235.1</td>\n",
       "      <td>37.9</td>\n",
       "      <td>81.5</td>\n",
       "      <td>109.3</td>\n",
       "      <td>537.7</td>\n",
       "      <td>58.7</td>\n",
       "      <td>73.9</td>\n",
       "      <td>58.9</td>\n",
       "      <td>15.4</td>\n",
       "      <td>Endometrium</td>\n",
       "    </tr>\n",
       "    <tr>\n",
       "      <th>4</th>\n",
       "      <td>88966</td>\n",
       "      <td>13.1</td>\n",
       "      <td>8430.9</td>\n",
       "      <td>17.4</td>\n",
       "      <td>29.4</td>\n",
       "      <td>449.1</td>\n",
       "      <td>248.2</td>\n",
       "      <td>104.1</td>\n",
       "      <td>11.2</td>\n",
       "      <td>94.5</td>\n",
       "      <td>...</td>\n",
       "      <td>125.0</td>\n",
       "      <td>59.9</td>\n",
       "      <td>186.8</td>\n",
       "      <td>122.5</td>\n",
       "      <td>355.2</td>\n",
       "      <td>65.1</td>\n",
       "      <td>139.9</td>\n",
       "      <td>14.1</td>\n",
       "      <td>11.2</td>\n",
       "      <td>Endometrium</td>\n",
       "    </tr>\n",
       "  </tbody>\n",
       "</table>\n",
       "<p>5 rows × 3002 columns</p>\n",
       "</div>"
      ],
      "text/plain": [
       "   ID_REF  1554530_at  1553185_at  1554340_a_at  1556202_at  1553957_at  \\\n",
       "0  117722        10.8     13233.7          27.2       167.8       450.7   \n",
       "1   76638        12.6      4986.8           1.7       221.1       380.8   \n",
       "2   88952        16.6      6053.8         121.4       342.7       217.6   \n",
       "3   76632         9.9      6109.1          23.0       139.3       501.8   \n",
       "4   88966        13.1      8430.9          17.4        29.4       449.1   \n",
       "\n",
       "   1555469_a_at  1553660_at  1554681_a_at  1554938_a_at     ...       \\\n",
       "0         283.8         6.4           8.6          26.7     ...        \n",
       "1         394.3       121.2           8.0         153.8     ...        \n",
       "2         367.9       159.7          10.8         124.4     ...        \n",
       "3         289.9       101.7           9.7         204.8     ...        \n",
       "4         248.2       104.1          11.2          94.5     ...        \n",
       "\n",
       "   1553967_at  1553362_at  1553002_at  1556194_a_at  1556420_s_at  1555855_at  \\\n",
       "0       165.2        43.7        77.0          42.2         154.8       266.6   \n",
       "1       190.7         3.2        84.0         183.0         288.0        20.6   \n",
       "2        95.9        17.1        72.3         292.9         209.5        11.6   \n",
       "3       235.1        37.9        81.5         109.3         537.7        58.7   \n",
       "4       125.0        59.9       186.8         122.5         355.2        65.1   \n",
       "\n",
       "   1554508_at  1555097_a_at  1556371_at       Tissue  \n",
       "0       444.0          66.9        50.6  Endometrium  \n",
       "1        99.3           6.4        12.2  Endometrium  \n",
       "2        51.3          33.8        33.4  Endometrium  \n",
       "3        73.9          58.9        15.4  Endometrium  \n",
       "4       139.9          14.1        11.2  Endometrium  \n",
       "\n",
       "[5 rows x 3002 columns]"
      ]
     },
     "execution_count": 2,
     "metadata": {},
     "output_type": "execute_result"
    }
   ],
=======
   "execution_count": null,
   "metadata": {
    "collapsed": false,
    "deletable": true,
    "editable": true
   },
   "outputs": [],
>>>>>>> f1df0ad3a881f47d2535f6051b09ef6a693523e5
   "source": [
    "# load the endometrium vs. uterus tumor data\n",
    "endometrium_data = pd.read_csv('data/small_Endometrium_Uterus.csv', sep=\",\")  # load data\n",
    "endometrium_data.head(n=5)  # adjust n to view more data"
   ]
  },
  {
   "cell_type": "code",
<<<<<<< HEAD
   "execution_count": 3,
   "metadata": {},
=======
   "execution_count": null,
   "metadata": {
    "collapsed": true,
    "deletable": true,
    "editable": true
   },
>>>>>>> f1df0ad3a881f47d2535f6051b09ef6a693523e5
   "outputs": [],
   "source": [
    "# Create the design matrix and target vector\n",
    "X = endometrium_data.drop(['ID_REF', 'Tissue'], axis=1).values\n",
    "y = pd.get_dummies(endometrium_data['Tissue']).values[:,1]"
   ]
  },
  {
   "cell_type": "code",
<<<<<<< HEAD
   "execution_count": 4,
   "metadata": {},
=======
   "execution_count": null,
   "metadata": {
    "collapsed": true,
    "deletable": true,
    "editable": true
   },
>>>>>>> f1df0ad3a881f47d2535f6051b09ef6a693523e5
   "outputs": [],
   "source": [
    "## make folds\n",
    "from sklearn import model_selection\n",
    "skf = model_selection.StratifiedKFold(n_splits=5)\n",
    "skf.get_n_splits(X, y)\n",
    "folds = [(tr,te) for (tr,te) in skf.split(X, y)]"
   ]
  },
  {
   "cell_type": "markdown",
   "metadata": {
    "deletable": true,
    "editable": true
   },
   "source": [
    "### Cross-validation procedures"
   ]
  },
  {
   "cell_type": "code",
<<<<<<< HEAD
   "execution_count": 5,
   "metadata": {},
=======
   "execution_count": null,
   "metadata": {
    "collapsed": true,
    "deletable": true,
    "editable": true
   },
>>>>>>> f1df0ad3a881f47d2535f6051b09ef6a693523e5
   "outputs": [],
   "source": [
    "def cross_validate_clf(design_matrix, labels, classifier, cv_folds):\n",
    "    \"\"\" Perform a cross-validation and returns the predictions.\n",
    "    \n",
    "    Parameters:\n",
    "    -----------\n",
    "    design_matrix: (n_samples, n_features) np.array\n",
    "        Design matrix for the experiment.\n",
    "    labels: (n_samples, ) np.array\n",
    "        Vector of labels.\n",
    "    classifier:  sklearn classifier object\n",
    "        Classifier instance; must have the following methods:\n",
    "        - fit(X, y) to train the classifier on the data X, y\n",
    "        - predict_proba(X) to apply the trained classifier to the data X and return probability estimates \n",
    "    cv_folds: sklearn cross-validation object\n",
    "        Cross-validation iterator.\n",
    "        \n",
    "    Return:\n",
    "    -------\n",
    "    pred: (n_samples, ) np.array\n",
    "        Vectors of predictions (same order as labels).\n",
    "    \"\"\"\n",
    "    pred = np.zeros(labels.shape)\n",
    "    for tr, te in cv_folds:\n",
    "        classifier.fit(design_matrix[tr,:], labels[tr])\n",
    "        pos_idx = list(classifier.classes_).index(1)\n",
    "        pred[te] = (classifier.predict_proba(design_matrix[te,:]))[:, pos_idx]\n",
    "    return pred"
   ]
  },
  {
   "cell_type": "code",
<<<<<<< HEAD
   "execution_count": 6,
   "metadata": {},
=======
   "execution_count": null,
   "metadata": {
    "collapsed": true,
    "deletable": true,
    "editable": true
   },
>>>>>>> f1df0ad3a881f47d2535f6051b09ef6a693523e5
   "outputs": [],
   "source": [
    "def cross_validate_clf_optimize(design_matrix, labels, classifier, cv_folds):\n",
    "    \"\"\" Perform a cross-validation and returns the predictions.\n",
    "    \n",
    "    Parameters:\n",
    "    -----------\n",
    "    design_matrix: (n_samples, n_features) np.array\n",
    "        Design matrix for the experiment.\n",
    "    labels: (n_samples, ) np.array\n",
    "        Vector of labels.\n",
    "    classifier:  sklearn classifier object\n",
    "        Classifier instance; must have the following methods:\n",
    "        - fit(X, y) to train the classifier on the data X, y\n",
    "        - predict_proba(X) to apply the trained classifier to the data X and return probability estimates \n",
    "    cv_folds: sklearn cross-validation object\n",
    "        Cross-validation iterator.\n",
    "        \n",
    "    Return:\n",
    "    -------\n",
    "    pred: (n_samples, ) np.array\n",
    "        Vectors of predictions (same order as labels).\n",
    "    \"\"\"\n",
    "    pred = np.zeros(labels.shape)\n",
    "    for tr, te in cv_folds:\n",
    "        classifier.fit(design_matrix[tr,:], labels[tr])\n",
    "        print(classifier.best_params_)\n",
    "        pos_idx = list(classifier.best_estimator_.classes_).index(1)\n",
    "        pred[te] = (classifier.predict_proba(design_matrix[te,:]))[:, pos_idx]\n",
    "    return pred"
   ]
  },
  {
   "cell_type": "markdown",
   "metadata": {
    "deletable": true,
    "editable": true
   },
   "source": [
    "# 1. Decision Trees\n",
    "A decision tree predicts the value of a target variable by learning simple decision rules inferred from the data features.\n",
    "\n",
    "In scikit-learn, they are implemented in [tree.DecisionTreeClassifier](http://scikit-learn.org/stable/modules/generated/sklearn.tree.DecisionTreeClassifier.html) for classification and [tree.DecisionTreeRegressor](http://scikit-learn.org/stable/modules/generated/sklearn.tree.DecisionTreeRegressor.html) for regression."
   ]
  },
  {
   "cell_type": "code",
<<<<<<< HEAD
   "execution_count": 7,
   "metadata": {},
=======
   "execution_count": null,
   "metadata": {
    "collapsed": true,
    "deletable": true,
    "editable": true
   },
>>>>>>> f1df0ad3a881f47d2535f6051b09ef6a693523e5
   "outputs": [],
   "source": [
    "from sklearn import tree\n",
    "from sklearn.tree import DecisionTreeClassifier"
   ]
  },
  {
   "cell_type": "markdown",
   "metadata": {
    "deletable": true,
    "editable": true
   },
   "source": [
    "## 1.1 Toy dataset\n",
    "In order to better understand how a decision tree processes the feature space, we will first work on a simulated dataset. "
   ]
  },
  {
   "cell_type": "code",
<<<<<<< HEAD
   "execution_count": 8,
   "metadata": {},
=======
   "execution_count": 1,
   "metadata": {
    "collapsed": false,
    "deletable": true,
    "editable": true
   },
>>>>>>> f1df0ad3a881f47d2535f6051b09ef6a693523e5
   "outputs": [
    {
     "name": "stderr",
     "output_type": "stream",
     "text": [
      "/Library/Frameworks/Python.framework/Versions/3.6/lib/python3.6/site-packages/ipykernel_launcher.py:5: RuntimeWarning: covariance is not positive-semidefinite.\n",
      "  \"\"\"\n"
     ]
    },
    {
     "data": {
      "text/plain": [
       "<matplotlib.legend.Legend at 0x10513a208>"
      ]
     },
     "execution_count": 8,
     "metadata": {},
     "output_type": "execute_result"
    },
    {
     "data": {
      "image/png": "iVBORw0KGgoAAAANSUhEUgAAAT4AAAEyCAYAAABj+rxLAAAABHNCSVQICAgIfAhkiAAAAAlwSFlz\nAAALEgAACxIB0t1+/AAAIABJREFUeJztnX2UFOWV/793XpiZHulhGcYRlBePr/ATVphByUayTkY2\nskw0skdko3PWJOe0mbyRRZejyw5uYHPMoOPu5mQPrifmRUVxYtZEDa6K3S5qAjJGIDAGRUMUlREx\nUVFAZub+/njmoZ6uru6u7q7u6u66n3P6VFfVU1XPNPS3733ufe5DzAxBEIQgUeF3BwRBEAqNCJ8g\nCIFDhE8QhMAhwicIQuAQ4RMEIXCI8AmCEDhE+ARBCBwifIIgBA4RPkEQAkeVHw+dMGECT5s2zY9H\nC4JQxrzwwgvvMnNTuna+CN+0adPQ39/vx6MFQShjiOiPbtqJqysIQuAQ4RMEIXCI8AmCEDhE+ARB\nCBwifIIgBA7PhI+IKonoRSJ61Kt7CoIg5AMvLb5lAF7y8H6CIAh5wRPhI6LTACwC8EMv7lfOrF0L\nxGLxx2IxdVwQhMLglcX3HwBWABhJ1oCIIkTUT0T9Bw8e9OixpcfcucCSJZb4xWJqf+5cf/slCEEi\nZ+Ejog4A7zDzC6naMfOdzNzKzK1NTWlnlPhGvi2ytjagr0+J3apVatvXp44LglAYvLD4Pg3gMiLa\nB2ADgM8S0b0e3NcXCmGRtbUBXV3AmjVqK6InCIWFvFxekoguBnADM3ekatfa2srFPFdXi11XF7Bu\nnfcWWb7vn2+OHz+O/fv34+jRo353peSpra3Faaedhurqar+7UhYQ0QvM3JqunS9FCood0yLr7s6P\n6Gmxa2srPXd3//79GDt2LKZNmwYi8rs7JQsz49ChQ9i/fz9OP/10v7sTKDxNYGbmp9NZe6VALKYs\nse5utbWP+eXCtm3xIqfH/LZt8+4Z+ebo0aNobGwU0csRIkJjY6NYzj4gFp+NfFtkK1YkHtPPKSVE\n9LxBPkd/kClrNsrBIhMEITUifDZWrEi0vtranC01oXT4yU9+gosuusjvbghFggifIOSBH/zgB2ht\nbUVNTQ2uvfZav7sj2BDhEwpC0KbqTZo0Cf/yL/+CL3/5y353RXBAhA/B+1L6QaGm6r3xxhtYvHgx\nmpqa0NjYiG984xuO7ZYtW4bJkycjHA6jpaUFzzzzzIlzzz//PFpbWxEOh9Hc3Izly5cDUNHsa665\nBo2NjRg3bhzmzp2LwcFBx/svXrwYX/jCF9DY2OjtHyh4gggfZP5sISjEVL3h4WF0dHRg6tSp2Ldv\nH958800sXbrUse3cuXOxfft2vPfee/jiF7+IK6+88kRaybJly7Bs2TJ88MEHePXVV7FkyRIAwE9/\n+lO8//77eOONN3Do0CHccccdqKur8+4PEAqGCB+8+VKK1ZiefE/Ve/755/HWW2/h1ltvRX19PWpr\na5MGNLTlVlVVheuvvx7Hjh3Dnj17AADV1dXYu3cv3n33XZx00kmYN2/eieOHDh3C3r17UVlZiZaW\nFoTDYW//CKEgiPCNkuuXMhOrMagimc/EcEC5uVOnTkVVVfr01Ntuuw3Tp09HQ0MDxo0bh/fffx/v\nvvsuAOCuu+7Cyy+/jHPPPRdz587Fo4+q2rqdnZ343Oc+h6VLl2LSpElYsWIFjh8/7u0fIRQGZi74\nq6Wlhf2mp4c5GrXe9/YyNzQwt7czT5ig9nt6MrtnNKqu7e5WW33/ZO30eft+sTMwMJDxNYX4m3/9\n619zU1MTHz9+POHcj3/8Y/70pz/NzMybN2/mpqYm3rlzJw8PDzMz87hx4/jJJ5+Mu2Z4eJh/9rOf\ncU1NDR8+fDju3B/+8AeePn06//CHP0zZp5UrV/I//MM/pGyTzecpOAOgn11oUGAtPtNCq6oCbrgB\nOH4cWLkSuOkm4PrrgX374q9JZ5W5tRqDWJqqEInhF1xwASZOnIgbb7wRH330EY4ePYrnnnsuod2H\nH36IqqoqNDU1YWhoCKtXr8YHH3xw4vy9996LgwcPoqKiAuPGjQMAVFRUIBaL4Xe/+x2Gh4cRDodR\nXV2Nigrnr9DQ0BCOHj2K4eFhDA8P4+jRoxgaGvLujxVyw406ev0qBouP2bI62tuZq6uZ6+sta62r\ni7mmhjkSiW+bykJxa/FpuruZAbUtJYrZQvnjH//Il19+OY8fP54bGxv5m9/8JjPHW3xDQ0P8pS99\niceOHcunnHIK9/T08NSpU09YfFdffTU3NTVxfX09z5gxgx966CFmZr7vvvv47LPP5lAoxCeffDJ/\n85vfdLQumZlvvvlmBhD3uvnmmx3bFvPnWWrApcUXWOHTrq4Wn85OJXRaiKJR5fqGw+6ELFNXLlOR\nLCbki+ot8nl6hwhfGuzCFgqpT6OmhrmuTp0zhTGdVWaOGZrPcBonTCaSkYj7e/iJfFG9RT5P73Ar\nfGU7xucmcsoMEKmxvCNHgFBIjbcdOQJ88gnw4ovxUcjrrkt+z0zm+CYb7wIkn1AQCoIbdfT6VQiL\nL53r6eTq9vZa43z19cr6M68Phy1L0OmeXva7mF1gsVC8RT5P74C4uulFxDyv3V7dJhKJFzndPhLJ\nvzAVe9BDvqjeIp+nd7gVvrIuROpUQn7tWst11GkkAPD448CePcCGDWr/v/8bWLrUSrfYts1yZ5ub\n81OWHkhM8i3FIqWCUOyU7Rgf4DxTQOfv3XijytcD1P755wNf/CKwfXv8ONurr8aPs+Vz9oFZ/Xn1\naivXz+sZDoIQeNyYhV6//B7j0+N1oZDl3vb2MhOpbTTKXFurxvhM91ePAeZrjC+TyLCfiGvmLfJ5\negeCHtVNNVOgrQ1Ytgz4+GNgaEhZVLfcAtx2m9rGYirie+wYcPnlqn0spqy81avzN/tAqj8LQoFw\no45ev/zO4zNnbJhJy8wquguoXL7OTmUFdnYWb4TVD0rRQjFnbhQbpfh5FisoB4svH1VMzHG0ujpl\n1dXUAN//PvC1rwH33ANUVABjxgBf+hJwzTXq2JQp2QUZglqJJcgcO3YMX/nKVzB16lSMHTsW559/\nPh577DG/uyUYFLXw5aNAqHaBAeCZZ4D6eqCyEmhqUsGKigoliKtWAVdcAfz850oYd+/OLsggRU5H\nGVgLDNo+wMGYOl5mDA0NYfLkyfi///s/vP/++/i3f/s3LFmyBPvsVS8E/3BjFnr9ysTVzVdCb0+P\nysnr7bWmq1VXMy9apI7X1jJXVamtGRDRRQsyoRSSkjMhK9fsQJT5wQlq67TvEa+//jpfccUVPGHC\nBB4/fjx//etfZ+ZEV/db3/oWn3baaTx27FieM2cOb968+cS5rVu3cktLC48dO5ZPPvlk/sd//Edm\nZj5y5AhfffXVPH78eG5oaODW1lY+cOCAq37NnDmTH3zwQcdz4up6B8opgTmThN5M58w2NDCPGaPu\nP2aMlbQ8Zw6fmNFhts1G+DL9G4qdrL+oWux2dOdF9IaGhnjWrFn87W9/mw8fPsxHjhzhZ555hpkT\nhe+ee+7hd999l48fP8633XYbNzc385EjR5iZed68eXz33XczM/OHH37Iv/nNb5iZ+Y477uCOjg7+\n6KOPeGhoiPv7+/n9999P/2cfOMA1NTX80ksvOZ4X4fOOggkfgFoAzwPYAWA3gO+kuyafFl8mVVKi\nUWXtETHPn6+2oZCyAidMsAIdCxYk3jOTFBOx+Ax2dDOvh9p6zK9//WueMGFC2kKkTowbN463b9/O\nzMzz58/nVatW8cGDB+Pa3HXXXfypT32Kd+zY4bpPn3zyCbe3t3MkxS+mCJ93FFL4CMBJo++rAWwF\nMC/VNW6FLxMRMy093a6zMz7vzm4NRiLqvGnd1ddb7i2zEj2A+cwzLZfXzAdMJ4ClXm3ZiWK1+B54\n4AFO9n/LLny33norn3vuuRwOh7mhoYGJiDdt2sTMzC+//DIvXbqUGxsbubW1lR955BFmViL2r//6\nrzx9+nSeOHEi/9M//RN/8sknSfszPDzMV111FS9cuDBlOxE+7/DF1QUQAvBbABemaudW+HIp9aSt\nNe2qOrW54AIlcmbNvQsvVMfN9lr8TFfYrYCVSlJyJhTrGF8xlZ4fGRnha6+9li+++GL++OOPU/Zb\nhM87Cip8ACoBbAdwGEBPkjYRAP0A+qdMmZKXP9q09JLl35luZ329+gT0+hpdXfGzN8wxPS2kY8aU\nj8uaLVl9UXf3JIrcgag67hF6jO/6668/Mcb37LPPMnO88P3qV7/iiRMn8ttvv83Hjh3j73znO1xR\nUXFC+O655x5+5513mJn5ySef5JqaGv744485Go3yzp07eWhoiA8dOsSzZs3iH/3oR459ue666/jC\nCy/kDz/8MG2/Rfi8wy+LbxyAGIDzUrXLZwKz3dJzssx0oOGMM5TYmWJ52WXMCxcqwaupsURQt6mq\n4rIJUmRLMX9Ri6H0/L59+xgA19TUcH19/YnXvffe69jnYv48Sw3foroAVgG4IVWbfAmfDlbYLT3T\ntXQqRWUGMUxLsbc3vgZfby+fqNJszuENGvJF9Ra/P89yGo4pZHCjCcC40fd1AJ4B0JHqmnwIn5vC\nozpaq491dFgWnI7qTpoUb9GZARDTDdZ1+YIofn5/UcsNvz/PcgrAFVL4ZgF4EcBOALsArEp3jVfC\nZ18b1x5ptb/XqSp6X4/xnXWW2ra08IlEZm3RRaOWONoDJZFIaf4q5orfX9Ryoxg+z3JJuSqrBOZk\nZJruoi0+/Y+7aBHzvHnqUzj9dLW97DLLyquqUtv6+vgSVqX8i+gFxfBFLSeK5fMshyT7QAgfs/tf\nKjNAoa03PX6n01VaWqyxvepqy/rTYldfr/btJekLSgGio+koli9quVAMn6dYfCUmfMzuf6l0sVE9\nntfRET9Lg0iJYG1tvMWnha+uTj2nvd3T7mdGgea8pmJgYIBHRkYK9rxyZmRkxHfhkzG+EhS+TC0+\nHbzo7LSiul1dKoXFzNWzV2oOhVT7ovhFzPMMiHS89tprfPDgQRG/HBkZGeGDBw/ya6+95ms/ghjV\nJdW2sLS2tnJ/f3/O9zFr6+kqyea+ydq1wObNwFNPAUePqnJUbW1qTY2XXlKLEv3sZ8DkyWp/40Z1\nftUqtbBQdbVakCjdczxlYC3QOBdoNh4yGAMObQOGDgO71gDndQOzVuexE4kcP34c+/fvx9GjRwv6\n3HKktrYWp512Gqqrq/3uyomFuMz/07GYtdBWKUBELzBza9qGbtTR61c+orqaVFPa9JienqFRUcEn\nAhpOpr52g9vbE/P2CvKLmMytHej11eITypNycHkRFFfXLWa6y4QJzJMnq7++udlZQHWdPt//E9jd\nWi16Po7xCeVLqQc53ApfUVdg9hK9kE9bGzB7NvDGG8qtfecdoKoq0WUdGgIefTR/Cwu5prkNOKtL\nubVndQE8BFzUZ7m/zW1q/1ChOyaUI+Za1F1dZbymsxt19Prl52JDXV0cV2PPLExQlPgcyBCCRaYW\nX7EFRlAOrm6uH6r9ej0LY948a1+L38KF7u5ZUIogdUUIDtmM8RXbuGBZCF+uH6q9fSTiU5AiHcmS\nkqMLfU9WFoqTfFha2d6zmMYFy0L4mHP/UIvpHyUpYtkJGVJsllaxTHcrG+Fjzu5DNX+99PWdnUVg\n3SVjS4S5ryF+LE+sOyEFXv+oB8niK/qobiym1rvt7lZbt2vb6vVsb79dXdfZCdx7r4rg5o1s144d\nWAsceQsYPmJFb997EYgtBA6/mr/+CiWNGYFduDAx8TjTReszWQN67Vp13p7Mv3hx/D2KFjfq6PXL\nizG+ZL9OCxdax/Xc3AUL4ldPy9svUrYu64Eo8wP1avWx+8cw31+j3m+oF3dXSIpZeMPMTMjF7c10\nCmgkklixSKK6OQpfKtM7mSia4tbTY1VeMUvR5/UfJZv0kwNR5r6wEr/7qpTorYdKVhYEB+z///WP\nvNM6M5nidmipmFxcTVkIXzqSffD2X0Iv/jNkRKZrx+qo7nOdluitr2SOLYo/b4756ff63O4eNU5o\ntjsQZd4akXHCMsTJKHBaWZDZ3Y+9fWaTXpohxXLAzFw8QQ1NIISPOfkH72bRobyQbcLxQC/zelJu\n7oYQ8/21ltV3IKoCH31hS9genKCETk9hG+hVbe6vUdfqfX2NUNbk6vaac9mjUSV4oZAq0WbeSwuk\n3tbXp17jptAEQvhSWXy+/IO4HeOz5+0diKqxvfuqLWHra1ACdn+NEtG+sHPU15y/+9QCJZb3VSnx\nFNELBF65vTrPtbs7vqCHOT7udisJzHkSPjdjfE7t8orb6sh2QdwaUQJnjulpN3VTu+U2O7nQ+l5P\nzFfnHp1puctuXW2hpEnl9iZzQZONn7e3W9dFo0r0nFYfNIOIF1xgrW4YCikBtc+GSmZ0LFyYOF1U\n3z8byl743ER1zeNFl7/nxiU22zhZfBo9NvjozFF3eYxYfAHGTdDByXDQhXnN6+bMUSoxc6Y1dBQO\nx4/96WVXtWDq+fBdXc7PMtHWqRY/+36mlL3wlQVOFpwZyNACN9Cr3F77GJ8+t56YNy2wxgj7GuLH\n/OzRYUmMLlsymdFhD2TU1KjlGCIRa03p2lolRADzKaeo93o5BvM+oZBqU1Wl2nR1uY/42peEyKVg\niAhfsZPM4tPHtxoR2g0hK8hhRnW3Rqxzu3uYYx1K7GKLrAhvrEPlA+o2Mh2urMl09oV2bdvbleA0\nNCixq65WW720qn7ZF9syhXX+fEv8otHMIr762vnzc/v7RfiKGSdxMwMWWyPxoqjb2e+RrIjBlki8\nuGmr8LnOzESvCFZ0E/KHdm/r6iwx09aXrk5eWakswZoaS/h6ey0h1UJrt9rmzROLT4TPjpM7axcs\n7QY/15nY7rELlGWnRWl3j2XRaQZ6laWnxVOPA2YS8JDiCWWLfaaFXlQrHLbG9fSrslJZf+3t1jig\nKX72cblSGOMr+rm6ZcmMFapysq6e/OwSNad3//+ofQB4ZR0wrRPYdy/w/NeAyVcCm68Anl4EfLAb\nGD4KbL9RtaUq4MUb1BYYnR98CzB5sZr7O3Eh8PZjamGiV9YlzidOhtm/navU1qz+LJQs27ZZ82vb\n2oBly4CPPwbOPBPYs8dqV1EBDA+rBbrOPhu46iq1/8//bM3h3bQJuO02YPlytT9tmppDvG+f2k9V\nvdx+7fLlan/Tpnz95aO4UcdULwCTAcQADADYDWBZumsCY/G5dRXNIIc9tWWg15jNUaG2OpCxIZS4\nFod9/7lO1VbfLxurLdOZKEJJYU9+rq1VL8AKbFRX84mobiikUliKERTQ4hsCcD0zzwAwD8DXiWiG\nB/ctfRrnWtYcoLZPd1iWmT625/tAc7uyxj5+S53ftVqdGz8bIL304AgQmgwMPgmc+VVg+vVWNZfp\ny621OSYuVBbfRX3AuPOA2bep/cFY5mt0DMZUvzK1FoWCoSulmFx3nXqZOFVs0dVVFi8G6uqARYuU\ng/vd7wILFqj3RKrtnDnAPfeo99/7Xn7+lkKRc5EmZn4bwNuj7z8kopcAnAplAQYb01U8q0sJx6w1\nSoTGz1ZtNl8BgIHzVqr9Z5eodXJ3fUeJ5MgxgIeBihpg5Djw8RtA/enAaz8GKsdYglQ9zhKol3rV\nc7Q7DajnHdpmHXPjrg7G4t3b5jZxd4sQXU7KXF96wwYlWEuXJq4FbaJdXsA6P2mSWmN661Zg5kzg\nd78DRkaAnTuBUCjPpd0KhRuz0O0LwDQArwMIO5yLAOgH0D9lypQ8G7xFhukq6kDEgxPUrIy+cHxg\nQrvC+pr1YL6vkjl2mXJZtbt7X7Vyi5mtqK3dnU0WDXYblZWobslg5uTV16vgQKYFB3R7XdFIrzfd\n0mIFOvSMjmKpxmIHhQ5uENFJAH4O4NvM/IGDwN7JzK3M3NrU1OTVY4sfu6tIVcrim7gQGHwKOPVy\ntd84OlLc3Kbe7/lP5eJW1ACoAN56GGi+BKgeC9RNVstMjj1HXcNDwKRFwId7rHtc1Kfc5qc/b3O1\nPx/vauvjTsVSdRDGpLlNHReKCrMo6eLFwC23qOP62EcfAeecE3+N3fXdtk0VNH3ySaClBXj4YWDq\nVGDHDqC6Wll6t9+urElfllr1EjfqmO4FoBrA4wCWu2kfmOBGsnSQrV3KQntifrylptvcX6tq8+n0\nlfsqLUtPBxgGelUeX6pnbQipZ8XlBHbFFziVFJWywD5NTc+8CIVUnl59ffxCW/ZCoszW1LOWFhXM\nOPtsK51Fz+aoqYlPYC42UKg8PgAE4G4A/+H2msAIn5OrqPPrdF7dpgXxwrMlwvzwufHzbLd2qbYb\n56QWKXM2iCl6+llPLbBmcchavWWD0zS1cNhKOtbuqdNcXLO4R30981/9lbpGi144zHHrUPtdYTkd\nhRS+iwAwgJ0Ato++/jbVNUUnfIUcyzLH+HSqydauxOlk+n2m6Shm4rNpXeqqLVu74ttJikrJ4zRN\nbdEiJXx2kTOrr2jsVVi06J1yimUBOhU4zWZxonwvQF4w4cvmVXTCV8gZCvZ768DExjmJ1VS0pfZc\nZ+I9nETZPv/XLnrauhSLr6xJVqigo0NZfXYx7Omx5tXqwEZTkyV6OscvFEosTuD1AuS5CqMIX6Zk\nWzk5U8xS8foZWuDur1GuLnPi/Np0EdpkY3wbW9S9n5hvjPGFZIyvjHESj95elZSsx/lM11fXsNQ1\n/LTFd/rpfCK667TODXN2626kuiYbMTUR4cuGQrp/9urJWvweqHd2b3U9vmSC5eSu67FBLZ6xDqss\nvdmPLbIuR7njtKZGOKxcYnNxLj3G19ISP+ZnLz9vks26G6muyUZMNSJ8mVIoi8/EbtUN9DJvqEvu\n3m6JuO+jWc5K7/eFVXBD5/+JtRdItOi0t8dHdaNRNS547rlWRWVdWy+Zq+m1xWfvY6aLGInwZYIf\nVUh29ygBMqum6IKjm9qTP9+tVZosYJOJeAplh93iM1NTIhEr0dlcrMtcYMjpXl6O8dn7KBZfPvFj\nhsKBqLUKmk4/SRe99coqlYhuIEmW9mIGPPR6GeYaG11diVWXmfMT1ZUxvnLHHLfb0a0sPTPooNuk\nCl5kKn5mKo1ZxUXG9wKBmwWGdBKznq5mTl8rRO6eRHXLHW1l2guO2ufs2tubZGqV2uf02veFwGF3\nK02LTy8wpAMdxTpbw8St8JVDnYXSYWCtmoer57vqklR/MVsVHP2L863jugqKxml+rNsqKxoeskpU\nHf+zmjs8+zZ1XAgcZsUWXZBU7+/dq+bsTp4M/Pa3qjhoWxkV5BHhKyS6Pp8WNF2Sak4v8N6Lqory\nn7arasn5KP2kxfP4n1XdvvO6VR0/IZCYVZgBq1Jyb6+qgKxLUi1YoIoezJ5dPuInpecLiVmfb9d3\nATDwmV+o49OXA9OuAfbdo2r35avenRQWFUZZscJZyGIx4KtfBd5+G+jsVCJ45ZWJ1VicCqA6FTst\nRkT4Ck1zmxK2waeAc5ZZAjcYy25djEwwXehZq+PX+xAEKHFbs0YVIu3rA+6+W7m5d99trbGh0QVQ\ntfhp19nerihxMxDo9SvQwQ2nlJRC5RFKYVHBBZlEVnPJucsHcBncINW2sLS2tnJ/f3/Bn+s79lLu\nen/yYmDq0nj3djCmSsVL0U+hyFm1SlmJ3d3A6tX+9oWIXmDm1nTtxNUtJIe2xQct9JjfSWdkV+l4\nYG2im5qsmrIg5IFYDFi3ToneunWJY37FighfIfG6lLvTKm7PLrHK2JuISAoeY6bDrF6ttuaYXzEj\nwlfKZLLgdyYiKQguSJYOUwprccgYXzmwc5WVlzcrxSCLFju91KUsEymUGTLGFxQyycvTqTR6EXIR\nPSELSjl/TyPCV8pkmpcnycuCB5R0/t4oInylTLIo8SGHQRZJXhY8Qo/lLVmiUlnM+b6lgszVLWUy\nKVyQSiTF5RUyxFzAvLu7tEQPEOELDl5UdxGEUez5e7q6S6kgrm65Ifl6Qp4p5fw9jQhfuSH5ekKe\nKeX8PY3k8ZUjkq8nBBTJ4wsykq8nCCnxRPiI6EdE9A4R7fLifkKOSL6eIKTEK4vvJwAu9eheQi5I\nvp4gpMUT4WPmzQDe8+JeQo5kktQsCAGlYHl8RBQBEAGAKVOmFOqxwUPy9QQhLQULbjDznczcysyt\nTU1NhXqsIAhCAhLVFQQhcIjwCYIQOLxKZ7kfwG8AnENE+4noK17cVxAEIR94Etxg5r/34j6CIAiF\nQFxdQRAChwifIAiBQ4RPEITAIcInCELgEOETBCFwiPAJghA4RPgEQQgcInyCIAQOET5BEAKHCJ8g\nCIFDhE8QhMAhwicIQuAQ4RMEIXCI8AmCEDhE+ARBCBwifIIgBA4RPkEQAocInyAIgUOETxCEwCHC\nJwhC4BDhEwQhcIjwCYIQOET4BEEIHCJ8giAEDhE+QRAChyfCR0SXEtEeItpLRDd6cU9BEIR8kbPw\nEVElgP8CsBDADAB/T0Qzcr2vIAhCvvDC4rsAwF5mfo2ZPwGwAcDlHtxXEAQhL3ghfKcCeMPY3z96\nTBAEoSgpWHCDiCJE1E9E/QcPHizUYwVBEBLwQvjeBDDZ2D9t9FgczHwnM7cyc2tTU5MHjxUEQcgO\nL4RvG4CziOh0IhoDYCmAhz24ryAIQl6oyvUGzDxERN8A8DiASgA/YubdOfdMEAQhT+QsfADAzBsB\nbPTiXoIgCPlGZm4IghA4RPgEQQgcInyCIAQOET5BEAKHCJ8gCIFDhE8QhMAhwicIQuAQ4RMEIXCI\n8AmCEDhE+ARBCBwifIIgBA4RPkEQAocInyAIgUOETxCEwCHCJwhC4BDhEwQhcIjwCYIQOET4BEEI\nHCJ8giAEDhE+QRAChwifIAiBQ4RPEITAIcInCELgEOETBCFwiPAJghA4RPgEQQgcOQkfEV1JRLuJ\naISIWr3qlCAIQj7J1eLbBWAxgM0e9EUQBKEgVOVyMTO/BABE5E1vBEEQCkDBxviIKEJE/UTUf/Dg\nwUI9VhAEIYG0Fh8RbQJwisOplcz8S7cPYuY7AdwJAK2trey6h4IgCB6TVviY+ZJCdEQQBKFQSDqL\nIAiBI9cCO0pPAAAVUElEQVR0liuIaD+ATwH4FRE97k23BEEQ8keuUd2HADzkUV8EQRAKgri6giAE\nDhE+QRAChwifIAipGVgLDMbijw3G1HE354sQET5BEFLTOBd4doklboMxtd841935IkSEr8CsXQvE\nbD+OsZg6LghFSXMbcFGfErOdq9T2oj513H7+qUuAzV+IP1+E1p8IX4GZOxdYssQSv1hM7c8t3h9H\nQVAidlYXsGuN2mpRs58ffAoYPmYdH4wpITz8amH7mwYRvgLT1gb09SmxW7VKbfv61PFMEetRKBiD\nMeCVdcB53WrrNKb3yjpgWicw8gnw9OeVdbj5CwAImLrUl24nQ4TPB9ragK4uYM0atc1G9AD31qMI\npJATeszuoj5g1mrLrbWP6U1eDJzxJWD2bcDwR8o6HD4GTLkq0UL0GRE+H4jFgHXrgO5utbWLklvc\nWo/iXgs5MXArMOOm+DG9GTep4wBwaJsSw6lLlQACQEWN2o4cA8LnFL7P6WDmgr9aWlo4qEQizA0N\nzNGo2o9GmWtrmTs64ttFo8w9Pe7u2d3NDKhtMqJR5gkTVJsJE6znC0JaDkSZH5ygtk77JgO9zOvB\nfH8N84Y65gfqmfvCzm3zAIB+dqFBYvH5ANuKclVUAJs2ZWeRubUevXKvhQCSLqpr8sEeZe2NHAOm\n3wD89SMACNi3oeDdToUIX55INq52xhnAL34R754++iiwcWPmAQ8tkH19wOrVltvrJH5euddCgDAT\nk82o7ri/TD5mRwAqa6wgCAB85iFg7BkF6bJr3JiFXr+C4Opq19J0ac19J/fUjcuq6elRbrPpskaj\n6pjdRU7XF6GM2d2T6GYeiKrj6TBd2gNR5r4G5b72NVj3MO99IKrc2q2RxOsLBFy6uiJ8eSTZuJrT\n8UzH4DIRs56exOOZjCEKJUwm43PJru8LM28IWWN1+h6xDksEmZm3RNSY3paIJYqmyLoV3BwQ4SsS\n7Fack2CFw4kBj0zEz4uAhYhjGaOFakd3atFLZh3+8kwVsNjRHX98a0SJYV+DOtfXkCiO2Qpulojw\nFQFOwuTkokYiKqprioxb0UnnHrsVNHGHy5xN7c7iZVpgTmJlCpuTcB2IKvd3PdTW7vq6EVwPEeHz\nmVRCkupcJpaXG4svE0GTlJcyxWl8LpkFZopVX5j5/lqVomKeG+iNd183hEaFL5R4vx3diYKbR0T4\nfEYLmClk5n4kEi8y2gq0C6Ru5ySGXgma2UdtQXZ2iptbFiQEKGzjdU5osdrUrkTOFMiBXub7qtVW\nC2pfmPm5TiWS5pifWHzBED4na623lzkUso5HImpMLxJR4qJFxjwejaoxv7q6+LG/dM9K5R6ncom1\nMPb2qm1nJzOR2hdKHPu4nSlqTmN6A73MG+rjxcouYFoMY4uU6On9gV4rqitjfMERvmRWmBaU7m4r\nkNHVpcRlwQK17epSx8Nh1a6uLrlQ2Ukngm5c2N5e1Y/Ozvg+i7tbRiQTMNOaW0+Jru2BaOIY4YGo\nmp2xcU6iwO3uyS2NJgdE+HwimciYFpcWGS16etvba7ULhbxJbXHrEvf0WBaoGYEWd7cEcCMydotr\nS0S5pVr8dnQrIYstSryPjt7aU1r02F6Bxu/cIMLnI8lSWLSQXXCBEjuAef58tV2wQB0Ph5XohcPO\nwpXMurOPGaZrnyyqK4GNEsSNW5kq2Vi7v07BiQNR5fqaY3ob6tR43n2VamzPyeLLBg+sRBE+n7AL\niN1ljEaVsDlZfKFQ8iCH3W11suDsgmuKnn5vv5c+LqksJU42gQRTyJIFPKILmbd2WffUIrke1nFz\njC+XcTwPxgVF+HzASUDq660gQU+Pet/QwDxvnhK7lhb1rzBvnhXISCVS5nPa2xMtw85OK5hiPt9M\nlO7tjY8WS/JymZBp6oiZg7ej21lozBSWvrByh9dDWXxm4OO5TmUZ5hq8yDESLMLnA26CDKGQEp6e\nHsvdXbAgMf0lnQVmjgVqq9K+jUbVe/2MhgbVXr8ikcJ8LkIBSCcYTm5krIN5fQXzUwuUxafd2ViH\nsvTM+bh9Yeb7qpToPdcZL5LZ5OqlcmtzyP0T4fMBN5aTaZmZUVSn60KhxPP28bxwWNXz0+1MV3nh\nQrXVVuXMmcw1NZZgiitbJujgg33GxVbjl81uzekIbuwy563p3jKr6O16MD8xPz7NZUskOwstmVtr\nBluK1eIDcCuA3wPYCeAhAOPcXFeuwud2rExHT+fMST2eZ+b56fvplBczL1CLWXe31UYLYH29Onf6\n6WoLqPbmPYQSR0do44SvQR03Ma1CHbBgtkTwF6crcXtqgYNIgnnTgnhx2toV795mUwAhVXpNsY7x\nAfgbAFWj73sA9Li5rlyFjzl9dFRbcrNnM1dXK2HSgtfRoaw3LVpOlqF9nq9OjZkzx3Jz9VieFs7a\nWksctdsrAYwyw+3YWDI38on56vhDkxPz9TaEEgMZW7usGRz2fmQS1TX7U4pRXQBXAFjvpm05Cx9z\n8lkSdstOW2P19ZbA6WCEKUp2y89+P6cZF7oPCxZYydA1Nda4og54SACjjHASNVNMkgUitMX36Ex1\n/cYW1W5LRL303FxtSW6cUxSBDCf8EL5HAFyT4nwEQD+A/ilTpuT8BxYrqSw++xigFr+KCkuY7FFW\nfb85c5TlZl4fiVgBCnOOrTkGWFurXub0N/s0OqEMSCYi9rEzPSVNW3Bbu6yxvQ31o2N8UNu+BnUs\nLmm5LrPAQzIrbmskL1PaPBM+AJsA7HJ4XW60WTk6xkduHlquFl82+XDamgOU62vOj7WP15l1+5xm\nZ5jBDm3RNTSo/a6u+BQWsfbKiHT5b9pd1cnGpgg+fM7oWF3Iclu1G/tcp0pfOVFvL02Jqkz6tiWS\nlyltBbP4AFwL4DcAQm6vKVfhyzQfTo/P1dQoi6y2Nr44gC5cYAppOKzy95ympPX0qHHCUMgSzN5e\ndcwcSxTBKzPcjI3Z3eB0bqbZ3mlmRyYWWh5c2mQUKrhxKYABAE2ZXFeuwpcJ0agSPFOQtLVWU5M8\nOJJqdoY55qeXsXSq8CIJywEjmfAkC3SY7e+vUe7upvZ4l1eLrVsLrUB1+QolfHsBvAFg++jrDjfX\nifClXiyovZ1TBkfcFB5NVeFFpqgFCLf5crqUlJkTGOtQ83HXQ73X83b1rI1M+1AuFl+2LxG+5CQT\nt0zEyk2FFzciKpQBpmVmRnH1mJ45M6OvwVpAaKBXCdz9NaPbWjXmt55UG7d4MP82E9wKn6yrW0Sk\nWid327b4tXbb2oDFi4ENo+s063V8b79dvQ+FACJgcNB5vV1ZYLxMMdfCBYAZK9T28KtqIfCt16lF\nv2etAQZuARpHV62fuhSYchVwaAtw6mXAizcAU64EKmuByjGq3b57gGnXABc/4r4/h7bFLz6uFyc/\ntM2bvzdb3Kij169ytPi8GDfL9B72IgS66suFF6qAhj0K7DR1Tiy+MiOVhWVWY0m29oYei9MJzTu6\nRy09xE9XK1Igrm5h8WvczKyc7JSz5yScMsZX5qQaUzsRoa1LnvOnXVqd6Kzfe1F6Ks+I8PlAJlaU\nl5FVnQs4f767kvUS1Q0ATlHUuLm6Ief0lrj1MxpUPp+epWG2yXMJ+WwR4fOJdOvcaryyuvR1upJz\nqlQYISA4WXwJLq+tlLxTEGRLxIr2mstJFqnoMYvw+UKm42a5jrOZeXvhsBI9nQAt7mtASTdTwi6A\n9qljJY4IX4HJ1oJzYyEmc00XLrQKFOicQHMerrivASTdLA6fVj8rFCJ8BSabcTO3BQ1My85eoVnG\n64SUlLnQ2RHhK3LSWYj2ffu6t9m6sCKUASPbBGI3glmEoirC5wOZiEomZeq1RWhf9zYbJJUlgGQz\nZcyNYJrHdvc4V1AusAiK8PlAPkTFrLPnVcKxJC8HkGyKBLgRTHvuny5tleepackQ4fMJL0VF38us\nrGwe90JQc7EehRIhlyIBbgRTt9FJzgUoRpAMET4fyUVUzDV1tbhFImoKmt2azHZcTiy+AJFLkQB7\nwrPT+hr2Vdb09LY8l59KhgifT3iVm2cuE+ll1WQZ4wsY2QYg7AKp1+UwXVld0UUnOes2z3UmLm9Z\nINwKX5UvlRHKFLO6Slubepn7bmhrs6qpNDcD69YlVmXJBacqL3196rhUaClDdHUWk+Y2q1pKMg5t\nAyYvtvanL1fbHSuBtzYCf96hKrpMXaqOb74CAAOzb1PVX0DAHzeo8+me5QMifB7ilaiYJaO6u70V\npBUO3wMt0oJwghkrVHmrZ5dYZaXGzwaoAhh8CjivG5i12mo/5Srg9QeA438G9v8P8JmH1PFD24pS\n+EhZh4WltbWV+/v7C/7cpAysVfXGzH+gwZj6R3P6xcwz2nLs6kq0+AShoGjxO6sL2PN9AAycswx4\nZV18nT0A2LkK2LUmURQLCBG9wMyt6dpJIVJAid6zS6wCjvofWxdpLCCpipEKQkEwi5k2tynR27UG\nGPoI+MwvlKhd1Jf4nXllnRK9V9bFF0MtQoLr6ppWnq4Ku/kLwPi5avzC/mtWIGQMTvAdbQhc1Kf2\n9/wnQNVAxRirjb2SsukSN7fF7xchwXV1//dC4IPdwF8/ov5xBmPAU5cAGIk31X10eQXBNwZjKmAx\n8okSPD1m5yRoRTRUJK6uE6YJP/UqZbrHLlWCF/0bACMAKoCBW1W7l24Hnu5Q6xXYTffBmLqfIJQj\nzW3A+FZg+AhwzrfiPSP7ehkzViRads1tRW0sBEv4zLG86cuBSZepX7TBpwAeUr9slXUqchVbqBZc\nmbVGheSLZAxQEArCYEwN+djH7Ipc0NwSLOHTv1jPLlERqINPI/4jqAAqqoDxLcDIMaB6vBJE+3VF\nPn4hCDlhprE4BTLKgGAJH6DM9NCU0SjVEQAjQPU4dW7kKFB5EnDwGQAVwPH3AKqyxit0dOusLhE9\noXwp1iUhPaT8o7r2gVeqAv70W/WejwPh/6eCHKgEMAwcfXP0whHgzC5g12oADEy9GvjDTy3T3032\nuyCUItnO9ighcrL4iGgNEe0kou1E9AQRTfKqY57ROBd4+vMqUDEYA3Z9B6ist85/sFuJodN43as/\nBIY+BsIzgL2jYlempr8gBIlcXd1bmXkWM58P4FEAqzzok7dosXrxBuC5awAeHk1VqbTa8BBwaGvi\ntXwcqDpJmfhV9UDzZ5UFWYamvyAEiZyEj5k/MHbrARQ+KdAN05cD064Bjr4FDB9TAYqKalsjs+tk\nvT3+J7WduRoYuAU4vA+I/W3ZRLcEIYjkHNwgou8S0RsArkYKi4+IIkTUT0T9Bw8ezPWxmTEYA95+\nDGiar6y74Y+U5Ud28dMwUDXW2B9WVSlOOhPYewdwyiWF6LUgCHki7cwNItoE4BSHUyuZ+ZdGu5sA\n1DLzzekeWtCZGydy7uapaO1JZ1jBDRAyNlJn91olegRBKCo8m7nBzJcw83kOr1/amq4H8HfZdjhv\nHNoGzLhpNEWFgWlXA5Wh0ZMZil5FnSV6MnNDEEqWXKO6Zxm7lwP4fW7dyQMzVij39jMPAefdrIIc\nk/8uhZubgpEjwPNfk5kbglDi5DrG9z0i2kVEOwH8DYBlHvTJe/RcQh5SQY599wDjZo6mtVDaywEo\nF7eiVqW1PP15mbkhCCVMrlHdvxt1e2cx8+eZ+c30V/lI41wV5JjWCfzpxVHxq3Nn/e1cBUy5Ur2v\nmyiiJwglTHCmrJnzD8edB5z5VeDQFoAImPi5+FpjJ6hQhQxQoSLBrz+gZm4c/7MkLwtCCVP+U9Y0\n5vzD5jYVmJi0CKg7FRh7hmozGANAwPBh4KSzgVMuVlHg5r8GdtwEjDtfJT+XQKFFQRCSExyLz14z\nbMYK4OJHgQv/W7nAh7YoUauqVa7w4VeAsedYwZG2/wUuHZ3dITM3BKGkCY7Flwqd8jJwi2XF/cX5\nwM5utbJUACZtC0KQCI7Flwpt1Zmu6/TlyiIUq04Qyg6x+DRi1QlCYBCLTxCEwCHCJwhC4BDhEwQh\ncIjwCYIQOET4BEEIHCJ8giAEDhE+QRAChwifIAiBI23p+bw8lOhDAHsK/mB3TADwrt+dSIL0LTuk\nb9lRin2bysxN6S72a+bGHjd18f2AiPqlb5kjfcsO6Vt25No3cXUFQQgcInyCIAQOv4TvTp+e6wbp\nW3ZI37JD+pYdOfXNl+CGIAiCn4irKwhC4BDhEwQhcPgqfER0PRExEU3wsx8mRLSGiHYS0XYieoKI\nJvndJw0R3UpEvx/t30NENM7vPmmI6Eoi2k1EI0RUFCkQRHQpEe0hor1EdKPf/dEQ0Y+I6B0i2uV3\nX+wQ0WQiihHRwOi/Z9GslU1EtUT0PBHtGO3bd7K9l2/CR0SToRYhf92vPiTh1tF1gs8H8CiAVX53\nyOBJAOcx8ywALwO4yef+mOwCsBjAZr87AgBEVAngvwAsBDADwN8T0Qx/e3WCnwC41O9OJGEIwPXM\nPAPAPABfL6LP7RiAzzLzXwI4H8ClRDQvmxv5afH9O4AVAIoqusLMHxi79Sii/jHzE8w8NLq7BcBp\nfvbHhJlfYuZimo1zAYC9zPwaM38CYAOAy33uEwCAmTcDeM/vfjjBzG8z829H338I4CUAp/rbKwUr\nDo/uVo++svp++iJ8RHQ5gDeZeYcfz08HEX2XiN4AcDWKy+Iz+TKAx/zuRBFzKoA3jP39KJIvcKlA\nRNMAzAaw1d+eWBBRJRFtB/AOgCeZOau+5W3KGhFtAnCKw6mVAP4Zys31hVR9Y+ZfMvNKACuJ6CYA\n3wBwc7H0bbTNSiiXZH2h+uW2b0J5QEQnAfg5gG/bvCBfYeZhAOePjm8/RETnMXPGY6V5Ez5mvsTp\nOBHNBHA6gB1EBCh37bdEdAEzH8hXf9z0zYH1ADaigMKXrm9EdC2ADgDtXOAkzAw+t2LgTQCTjf3T\nRo8JaSCiaijRW8/M/+N3f5xg5j8TUQxqrDRj4Su4q8vMv2Pmk5l5GjNPg3JB5hRK9NJBRGcZu5cD\n+L1ffbFDRJdCjYtexswf+92fImcbgLOI6HQiGgNgKYCHfe5T0UPKGrkLwEvMfLvf/TEhoiadyUBE\ndQAWIMvvp+TxJfI9ItpFRDuh3PGiCecD+AGAsQCeHE23ucPvDmmI6Aoi2g/gUwB+RUSP+9mf0SDQ\nNwA8DjVA38fMu/3sk4aI7gfwGwDnENF+IvqK330y+DSATgCfHf0/tp2I/tbvTo0yEUBs9Lu5DWqM\n79FsbiRT1gRBCBxi8QmCEDhE+ARBCBwifIIgBA4RPkEQAocInyAIgUOETxCEwCHCJwhC4Pj/oRUA\nDBeritEAAAAASUVORK5CYII=\n",
      "text/plain": [
       "<matplotlib.figure.Figure at 0x112b133c8>"
      ]
     },
     "metadata": {},
     "output_type": "display_data"
    }
   ],
   "source": [
    "plt.figure(figsize=(5, 5))\n",
    "\n",
    "x1 = np.random.multivariate_normal([2,2], [[0.1,0],[0,0.1]], 50)\n",
    "x2 = np.random.multivariate_normal([-2,-2], [[0.1,0],[0,0.1]], 50)\n",
    "x3 = np.random.multivariate_normal([-3,3], [[0.1,0.1],[0,0.1]], 50)\n",
    "X1 = np.concatenate((x1,x2,x3), axis=0)\n",
    "\n",
    "y1 = np.random.multivariate_normal([-2,2], [[0.1,0],[0,0.1]], 50)\n",
    "y2 = np.random.multivariate_normal([2,-2], [[0.1,0],[0,0.1]], 50)\n",
    "y3 = np.random.multivariate_normal([-3,-3], [[0.01,0],[0,0.01]], 50)\n",
    "X2 = np.concatenate((y1,y2,y3), axis=0)\n",
    "\n",
    "plt.plot(X1[:,0],X1[:,1], 'x', color='blue', label='class 1')\n",
    "plt.plot(X2[:,0], X2[:,1], 'x', color='orange', label='class 2')\n",
    "\n",
    "\n",
    "plt.legend(loc=(0.4, 0.8), fontsize=12)"
   ]
  },
  {
   "cell_type": "markdown",
   "metadata": {
    "deletable": true,
    "editable": true
   },
   "source": [
    "**Question:** What do you expect the decision boudaries to look like ? "
   ]
  },
  {
   "cell_type": "markdown",
   "metadata": {
    "deletable": true,
    "editable": true
   },
   "source": [
    "__Answer:__"
   ]
  },
  {
   "cell_type": "markdown",
   "metadata": {
    "deletable": true,
    "editable": true
   },
   "source": [
    "__Question:__ Fill-in the following code to train a decision tree on this toy data and visualize it. \n",
    "\n",
    "Change the splitter to random, meaning that the algorithm will consider the feature along which to split _randomly_ (rather than picking the optimal one), and then select the best among several _random_ splitting point. Run the algorithm several times. What do you observer?"
   ]
  },
  {
   "cell_type": "code",
   "execution_count": 21,
   "metadata": {
<<<<<<< HEAD
=======
    "collapsed": false,
    "deletable": true,
    "editable": true,
>>>>>>> f1df0ad3a881f47d2535f6051b09ef6a693523e5
    "scrolled": true
   },
   "outputs": [
    {
     "data": {
      "text/plain": [
       "<matplotlib.legend.Legend at 0x11b6ebe10>"
      ]
     },
     "execution_count": 21,
     "metadata": {},
     "output_type": "execute_result"
    },
    {
     "data": {
      "image/png": "iVBORw0KGgoAAAANSUhEUgAAAXYAAAD8CAYAAABjAo9vAAAABHNCSVQICAgIfAhkiAAAAAlwSFlz\nAAALEgAACxIB0t1+/AAAIABJREFUeJzt3Xt029d14PvvAQgQIAGQ4FMESYki9aBly7ISPew4tFI3\nblI3N2nTV5zrXjltxjNtcm/nTme6ksntpJ2uzKRN02ln2rXu8m2buOOM+4rb5GbcOO51IrOOo0iO\nLUuWSEmUKPEJPgCQAAGQIHDuHz/+fgJI8A2KJLg/a2lJBIEfjiRi42CfffZRWmuEEEIUD9tmD0AI\nIURhSWAXQogiI4FdCCGKjAR2IYQoMhLYhRCiyEhgF0KIIiOBXQghiowEdiGEKDIS2IUQosiUbMaT\neiurdG2gaTOeWqySLXhts4ewIpMz9XiafZs9DCE21M0rF8e01rXL3W9TAnttoIkvfO3FzXhqsUrl\nX3pss4ewIi/1/xve+8c/udnDEGJDffxdzbdWcj9JxQghRJGRwC6EEEVGArsQQhSZTcmxCyEEgF1n\nCNhiuFR6s4eypSS1ncGMh7Ra29xbArsQYtMEbDEaa6vwVvpRSm32cLYErTXRSBhGQ/TptVV6SSpG\nCLFpXCotQX0epRTeSv+6PsVIYBdCbCoJ6gut999EArsQQhQZCexCCDHP733hd/mTP/rDDbn2F377\nP3D/gTb21FVtyPVBArsQYpt49rVezt0M5dx27maIZ1/r3ZwBrdEHHv8pvnPmnzf0OSSwCyG2hUMB\nH5/5+ttWcD93M8Rnvv42hwLr6xH01197jkdOvJtTJ4/xq7/yiQXf/8uv/Dnv73gPp04e46mP/yLx\neByAb7zwdd577CinTh7jQz/x4wB0Xb7MY488zPsePM4jJ95Nz/WFvZaOnTjJroaGdY15OVLuKITY\nFo7vreKLP3s/n/n62/zcu5v4uzf6+eLP3s/xvWtPaXRdvsyXf/8/84//3xmqa2oIh0IL7vOhD/80\n/9snfgWA//Q7n+drz36Ff/Grn+IP/vMX+NtvfouGQCMTkQgAX/3zZ3j61z7Nz3/sCWZmZkinN6c+\nX2bsQoht4/jeKn7u3U38WedNfu7dTesK6gCdZ77LR37mZ6muqQHAX7Xwelcuv8OHHnuUjuPv4u/+\n+nm6rlwG4MRDD/Hppz/JX37lz60AfuzEg/zRH/we//XLf0Df7Vu43e51jW+tJLALIbaNczdD/N0b\n/XyyYy9/90b/gpz7Rvjf/+Un+eKX/4jOcz/i3332/2I6OQ3Al//rn/LvP/87DPT38+PvfYjQ+Dg/\n94sf47m/+Tout4uPffQjvPq97274+PKRwC6E2BbMnPoXf/Z+fvXH9llpmfUE945TP8Y3/v7rhMbH\nAfKmYmKxGPW7dpFKpfi7v37euv3mjR7effwEn/2tz1NdU8NAfz+9N2/QsreVp3/t0/zkT/0vXL50\ncc1jWw8J7EKIbeHy4GROTt3MuV8enFzzNdsPHeLf/LvP8OEPvJ9TJ4/xW5/5zQX3+cxvfZ4PvO+9\nPP7j72P/wYPW7b/9uc/ScfxdvPfYUU6cfJD77r+fb3z967z3+FHe9+Bxui6/wy9+/MkF1/vtz32W\nw/tbicfjHN7fyu994XfXPP7FKK11wS+6nNZD92s5aGN7kIM2xEbabwuzd//B5e+4A9281s21jD/n\nto+/q/kNrfWx5R5bsBm7UsqulHpTKfWtQl1TCCHE6hUyFfPrwJUCXk8IIcQaFCSwK6WagJ8C/qwQ\n1xOFcebKCD3BWM5tPcEYZ66MbNKIhBB3Q6Fm7H8E/CaQKdD1doSNDrxNVWU8/3qv9Rw9wRjPv95L\nU1VZQa4vhNia1h3YlVIfAka01m8sc7+nlVLnlVLno+GNrz3dDjY68LbVe3jioRaef72Xly8O8/zr\nvTzxUAtt9Z6CXF8IsTUVoqXAw8CHlVKPAy7Ap5R6TmudU+ejtX4GeAaMqpgCPO+2lx14T7bVcLZn\nrOCBt63ew8m2Gl65HOTRQ/US1IXYAdY9Y9daf1Zr3aS1bgE+BrwyP6iLxWUH3pNtNQUPvD3BGGd7\nxnj0UD1ne8YWpH6EEAttVNveeDzOxz76ER48epiHjz3Af/ytzxX8OUA2KG26jQy8ZmrniYdaeOzw\nLuvTgQR3sR25zv43Sm7ltrstufXPuM7+t00a0dp86tf/T37w5kW++/0f8sMfvM4/vfTtgj9HQQO7\n1vp7WusPFfKaxWyjA29/KJ6T2jFTP/2heEGuL8TdNLvrKN5vftIK7iW3/hnvNz/J7K6j67ru3Wzb\nW1ZWRsep9wHgdDq5/8gDDA4OrGv8+Ujb3k20VOAtRErm1D11C25rq/dInl1sS7N73kv0w3+G95uf\nJPnAU7je+irRD/8Zs3veu+Zrbmbb3olIhJf+8X/y9Kc+vebxL0ZSMXdZdonjqXvqaKv35JQ4ttV7\n8gZkIYQR3JMPPEXZ618m+cBT6wrqsHlte2dnZ3n6qV/iX/zqp2jZ27quv0M+EtjvMqktF2LtSm79\nM663vkr8od/A9dZXF+TcN8JGtO39N5/+NVr37eNfffr/2JAxS2C/ywpRW76ajU2y+1QUCzOnHv3w\nn5Ho+IyVlllPcN+Mtr3/6Xc+z+TkBF/4/S+vedzLkcB+F2QHVzOgHtjls0ocs29fidXM+uUTgigW\nJcNv5uTUzZx7yfCba77m3W7bOzjQzx/+/hfp7rrCo+85yfsePM5//+pfrHn8i5G2vXdBdvULwF+c\n6SGj4egeP1cGJ0ilNcf2VuEvd1r59Z5gjP5QfNF8u3nNlWxsWs1955O2vWIjSdvexW2Jtr1icf2h\nOKfa63n+9V7euBkiM/deGpxIAqCAsz3j2JQCVjarXs3Gpo3eBCWE2FoksBfAcnnspqoyznQFObDL\nx5u3wuyr91BiUwxGEuyqcFNiVxxs8HKmK2jl3Q81Vix4nuxrrmZj02L3lfy7EMVJAnsBLJfHbqv3\ncKq9njdvhWmpKed6MIZS0FJTTu/YFPcEKnjqkdacWfWR3f5Fr7majU1L3Vfy72Ir2Ix08Fa33n8T\n2aBUAIs188re4XmmK8jRPX7evBVGzd02PJGwbnOW2LjUH7Fm1a11izcIO3NlZMUbm5baBHXqnroN\nb0ImxFKS2k40EsZb6UcptfwDdgCtNdFImKS2r/kaEtgLZLEuis+/3ou/3Ml9TZVcuB3GNvezm85o\nypx23r23CmeJjbM94xxs8NJa5yGaTFmz7HzXXM2O0uXuK90fxWYazHhgNIRrbHSzh7KlJLXd+LdZ\n43udBPYCmZ/Hbq3zWLPjZztv0B9K4LArfvlUGy+9PUhfKEGD30iFuB12SuYivhnQa70uvn1hkHB8\nZsE178a4hbgb0spGn/aBZGMWWscHGMmxF8BSeey2eg+7q8sB0BpujMQITc1wsq2a68NRKtwOxmIz\naDS3xqaskshXLg8zFpve0M6M0v1RiOIkgZ31V4cslcfuCcYYnkgQqHQxm9HW4ujh5krSGc1gJElL\nTTnpjJGeeeNmiGc7b3C4uZInH9676s6Mq/m7SPdHIYqTpGK4U9ViBrn5G4qWs1geG+6kVjq7RyBi\n1K2/2jXCma4gGuPTVu/YFPvqPdwcjfHmrTBH9/g5stu/YDF0JZ0ZV/N3OXVPHb848QfYvvHHCy90\n1fjtm7Qv/w8ghNhSJLCz9iPqzlwZoamqLOd+2TtGzRkxwK2xKRx2RTqjmZ3boWRTYLcptIbrc7Ns\nuw0u9Ue4MjjBkw/v3fC/y7eeeQkkeAtRVCQVM2c1uzPNdEd2HXhPMMYL5/qsOvDsoN8fivPkw3t5\nV0uVtesUoMrj5HRHK4ebK63b9tZ6SGc06bk7mmmU1aSGZKepEDubBPY5q9nJaQZ0gCceauG5127y\nbOcNLvZFrNlxdtA/dU8dnd0jc20DjGvYbTART9HZPcKl/gmO7vFTYlNcD8ZorfNgtyk6u0d4/vVe\nbEqtauOQnHMqxM4mgZ3VV4dkpztujMRIZzSptOY9+2sXLESa7XmvDkcBI/XSVudBoUilNVeHopzu\n2Et8ZpaM1lZwb6oqo3vIqJo50xVc8cYhqXQRQkhgZ23VIdnpDiDv7Dj7PlXlTgAUCp/bYeXZm6rc\nDIYTdA9FsdsUP3G4gUCl22g7AAxGkqtKp0ili9gOpE/RxpLAzp0j6rLNP6Ju/g9iTzBGZ/eItQBq\ntgB4tvMmnV2j1n3O9oxxdI+fUGyG9oAPjebNW2HsNqMiJhJP8fKlIR4/EuB0RyvffnuQoUgCmzL2\nbBzd4+f710Z54Vxfwf4uQmw26VO0saQqZoWyywgBnnvtJlrDB+8PEPC776Q/7tvFt98eYjw2zaX+\nCKfa6znTFeRgwEfX4KS1mUyhUEoTTc6yr95DRmsGwwlrcdWm4PH7A7xyeZhMBi72RTiy2y8LoaIo\nrLUSTayMBPYVyv5B3FVhHFD71COt1g9idmMtgBcvDLKv3sOZriCn2ut55fIwNgUZbQRtMxUT8Lu4\nHowRn5llZGIah11R6y1lMJLkrVvGMV1H9lTmrWvfaPv8UcJJJ+OJUuu2avc0ftcM18PeuzYOUZyk\nT9HGkVTMKpg/iD0jsZyFUvN7ZlDvaK/l6B4/14MxnCU2znQF2VNTjrPERqPfnTMrH5mYJuB3MRhO\nktGa0x2tPP5AI3abkV+/J1DBR483b0o6JZx0cqwhTLXbOLy32j3NsYYw4aTzro5DFCep3to4EthX\nYaU/iD3BGJf6I3hcdsJTKSrKHOyt9VDrczEQTlDtcVJiU2Q01PlKmYinqPY4yWh442aI5167icNu\n4+geP5f6J+7KD/w+f9QK4NmGYi6ONYQ5WD3JsYYw54f8OTN4IdbCzKkfaqzIaVFt7gmRRdT1kcC+\nQistIzTv966WKmLJNNUeB4PhJN+7EqRvPE57wMfPHGumxK7mTlFKcqq9nn/7U/dYvdln05onH97L\nLzy4m9Mde+9KueJis/OBqJveiTIOVsfonSiToC4KwqzeMg+UASOdeeF2WBZRC0By7Cu0VBlhdkrG\nPN/0TFeQx48EONMVxOWwkUxl8LjsvPdALc+/3suTD+/lwu0wk4kUZ7qMksmrw5MEKt0EJxPW9eY/\nz8+ff5Ff/++FO5DgA03G7+OJUs4P+TnWEKZ3ooyWijjnh4yDdFsq4nSPe2ipiDMWL5XgLtYtO62Y\nvYh6eWBCFlELQAL7nOX6vix3YIX5+FP31FknHAG4HHbGYzOUl9qJJdN0dt85/ch8bGfXKC9fGuJ0\nR+uCxl3m/cz7lgz8Sz7QtDG9XcYTpdbsvHvceL7s9MtYvFTSMaLgVruIutxrVUgqxrLeutr5LQQA\nvvJqD+OxGfbN/QCebKumeyjKYDiR81hz0fRubCrKl0uvdk9bt2fPzhu98Zwgbs7q/a6Zgo9LbH0b\ntalotYuoUgO/PAnsc+a3AMieMa/l8Wad+8m2an7lfW088VALl/ojxgEbwWjOY+/mpqJw0snJxhCt\nlcaLwsylu0vSnGwMcX7IT/e4j/NDfho8CxdTxxOlUuq4Q21EQF1LC4z1vlZ3AknFZFlLXW32x8L5\nLQSefLg57yz8p481rXusa60x97tm6Jtwc2/tJHXlSSpKZxmMuthdEef2RBl+1wzjidKc2bmkXQTc\n+Rl+tvMG9zVVcnV4Mqfv/1pSIa92jXCqvT7ndXKqvZ5Xu0YWvP4We621yXGOC8iMPctiHwkX+wj6\nlTM3rM6LZpmW2WYgPjO74PqFnIWvtcY8nHQS8CaJJEuoK58hlYGWSiOoB7zJnMfL7FzM11bv4b6m\nSt68FebALl/OmtBaZu6PtNdxpiuY8yngTFeQR9oXvk7mt8n+/rVRHHbFQDguNfDzyIx9zvwFy9Y6\nj/X1YqcSmdUvp9rree61m6TSGdIZePxIbpuBjZhNLFbFstzsejxRyrWQh3trJ0nOKjzODNOz0ORL\n8MPBqpz8uTn7Nz8JANanhH3+KGWOWWIzDmxKW/dr9CaIp+zyhlCkeoIxrg5PWqW5YBwM89h9Date\nzDRn4NlVMd+/Nsrh5sq8rxnzE8NXXr2BAkrsitMdrYDR4uNwcyUfPd5c0L/vdiUz9jnLlTPmy+l1\ntNfyxEMtnOkK4nbYSWeMpl0d7bV3patidhXLYjXm8xdLq93THKyOMpWy4SrRJGcVpSVgU8Z22HDS\nyYlAiOOBEOGk0/okUOaYJaOV9SkhnHTS7E1wb+0kGa2odk9zIhAi4E3IztQilT35+YUHd1vBfU9N\n+YJZ90pm8NnnGphplVQ6Y13D/D37oJm2eg/1PuP84HsCFZKCWYQE9jnLLWAudipRW72HA7t8hOMp\nWmrKuTo8af1QbnQbgPlVLPl2js5P2TR6Eyg05Y4MI1NOSu2acKIEm4ITgXFqyqats1hryqat8saB\naBn7q2JcC3k41hBmty+OzQaZDLTXTHKycRwNnBuskpx8kcqe/GTP3G+NGXs3llvMnJ/SNPPpX3m1\nh87uEew2SGdgOJLgudeMLqnmQTPPvXaT8dg0PcEYE4kZvK4S3rwV5m9+cJvnX+/lcHMlNqX4ypkb\n1vUXq9j5ypkbVgdWU2fXaM5jtzsJ7Cu0WP69s2vUOoB6NJq0fsA3OudnzqSzq1iyA7gpO2VzsHqS\ngDeBUtAbKaOidJZ3Rn2UOTL0Rsqw2+BgdYybkXJuRMpzPgmY19lfFSM6Y6e5IkH/pJvrEQ8lNiix\nwUTSkXec+/zRBbeL7cec/MyfuZ/u2MuZriAHdvmWPI4xX1XNSxeH0BpSac39zX4ePxKgL5Qgmcrw\n4oVBKtwOXrk8TDqjmUyk7nxaPmhMmMxcv00pzvaM458792CpTw376r28eGHQCu6dXaNzTfuKJ30o\nOfYVWCz/fqq9npcvDfP4kQAd7bU5ufeN7sTod80sWmM+f8acnbIZnXJyNeS1Hu93zXAt5MHjnGU2\no5hIOmirjKEUC3abjidKCU452V2RZCzuYJcniU1p0hmjd3yla4YTgRDd415sSlufFswdrKI45Etb\nmq8Fc+LTmqdSpa3ew6HGCp577Sbv2V/L2Z4xApVu+kJxfC47b94K4yyxWV1QwWiEZ7eBw27D53bk\nPK/DbpxCZub6T7ZVc6k/QnlpyZJtgDvaawGjA+vlgQl6x6as13CxkBn7CiyWf78eNI61M38gzNsz\nWm/4DrjrYW/eAJ5v0bLaPU1b5RS3J1z4SmetxwOUOdIcqI7S6E1wbrCKtFbYbaA1jMWNN4vjgRD3\n10VorYzR7EsSSZRQ6ZrFhp47EETRN1GGTYFCc2/tJB5natW7VJfaPCW2jvlpS7OS5XTH3mVr0Y/s\n9pPOaF65bMzwR6NG4J5Mpqn2ODnbM47WuY9JZ+DRQ7usLqfmBOp0RystNeWA0Sn1cHPlig9x72iv\npaWmnN6xKVpqyosqqIPM2FdkuXYCK7l9s5gpm65xb06O/FrIw/6qmDWbbvbGafZNUVc2TUZD17iP\nRm8CX+kMdqXZ5UlQouCdUR8A95ROomxGSsftSNNSGWc07qTaPcNEsoTdFUm6xz2ryrdnz/DHE6U5\n6Saxda20j5LJPnei+4XbYew2xSceaeN7V4Jcn3sjMNd4suP7K5eHAWOXNhj9ZQbDCSsw945N8dLb\ng4SmZpb81GDq7BrNeWxn12hRBfd1B3alVDPwl0A9xv/FM1rrP17qMbbgNcq/9Nh6n3pH+ib5+8Tk\n27B0f10EX+mdlM3EtIMTgRBTKTvtNVHODlSxzx9lNO5iIOZid0WSUMKO35XmUO0kGW28wGwK4qkS\nrowZQf1YQ5grYz4OVEfxOGfxlc7SP+mmuSJB34SbuvLpNTUNW2sJp9hcK534mDPtJx/ey42RGK9c\nDmIHBsMJhiIJnHbFTFrnBHWbAqUUM7MZvv32IL98qo22eo+VFzdTKP9wvp+zPeOcbKvmscO7csqV\n549j/mPNr4GiCe6FSMXMAr+htT4EPAh8Sil1qADXFauQb8NSwJvA60zn3E8pTaVrlp5wOeOJUkbj\nLu6tnaTBk+T2hAu/y7i/wlgQtc0ttJY70jlVMjciHm5GyqktnyE45aSufJq+CTdNvgTXQp4lF3SX\nspISTrH58m3ae+Fc34KzebMrU8yZPcDZnjHa6owjIb9zcYiqciczaY3LYWNeJoa9teVkNDT63VaQ\nvh6M5uTF/eVOTrZVE54y9lssVW48/7Ed7bU8fiSwoNXHdrbuGbvWeggYmvtzVCl1BWgELq/32mLl\n8s12B6MuYjMO67a9lVOAYnTKYc2mJ6YdzGaMIF7tNl4USmHlOTXGm0F210e/a4aK0hQtFXFuT7ho\n9iXpjZRRUzZNb8Qoi5yYduB3zTAYdbHPH7UC9HJtD+aXcEqb4K1p/qa9F8718dYtI7Vins371Vdv\n0BOM8dQjxiaiU/fU5XQyvXA7TO+oQivNQNg4wD2ZyuQsnpY57VwPxthX78mpWvnEqdac8awmXTr/\nsWAE92KZrUOBF0+VUi3AUeBsnu89rZQ6r5Q6P5lcuN1erN/82a5Zez4yVcrB6hh2pclouBryWm8C\njd44A9EyJqdLKHcam0PMF9VM2pi5N/sS7K2csoKtuyTNvbWTXAt5iM046I2U0VJpBOGAN8m1kBH8\nM1rN5d5dwPJtD1Zawik23/xNexf7IthtikcP7eL513v5mx/cpnsoiso6OqAnGOPlS8PWLtUju/04\nShSg8Jc7rZ87MD4pAsSm0+yqcHFrLC7dG1ehYIFdKeUBvg78a6315Pzva62f0Vof01of87lkzXYj\nzJ/tAlwLeWjyJZiaMcrIBibdOXXpAD5nCl/prPXCUhgzdocNQgkHNgWxmRIr2Db7EtbM3G7TBLxJ\nojN23I60Vetut2naa6JEZ2zsr4qt6Gi9pUo4xdaTvWnvPftrefJho5691uuy9nac7mjN2bh0umMv\nGa3pCcZoq/dwuLmSTEYzHpux1nMyGlwOIzQpYHgiybta/Hdlf0ixKEhgV0o5MIL617TWLxTimsVq\no0r68s12jwdCHKyO0jfpotyZYWTKQUtlnBOBcWsMTb4kfneK6IwNrWEmbUyVbDbon3Qzm1H0RspI\nzd0+nijl7GAViVl7zqeD2xPl1JdPU1Gasm63K83tCc+Kc+arKeEUm2/+pj2AA7t8VrXJ1eFJLtwO\nL9i4ZFOKZztv0hOMUet15eTUbUqhgPhMhmqPg1KHjYMNXi71R6yuj6vtCb+SPvIb1Wt+s6w7sCul\nFPDnwBWt9R+uf0jFba1dGZeTb7Y7GHUznnAS8Exze8JFpStNb6SM2rJpHmwc58HGcSan7fRGyii1\nw0DURWmJRgPTs4pdniTXw14ujlZydrDGegMaT5QSTjpzPh1MTDt4Z9THvbWT7K+KoTWktfFmsFzb\nA7H95Ouj/mznjQW7sC/cili3ne0Zo7NrlDNdQR67bxfPvXaT71wcsq6pgdmMRimo9jgYj6W4J1DB\nU4+0WvtDHmmvW3VP+JX0kS+2wzsKMWN/GPgl4FGl1Ftzvx4vwHWL0vwt/oU6ai7fbHcg6sbvStE1\n7qW+3NhhGvAmGU84sc/9z4/GXVZefJdnmtkMzGYU10JeNHAiEKLaPZ3zBrRYLhyMF6dRHmmz+r6b\nVTLXQh5ONoYkuBeB+bXrYKTvDjZ4+YUHd/PEQy28cnkYjeZgg5erw5Mc2OXjxQuD3NdUSUd7LVXl\npcxmNAG/i+xTfMtdJYzHUuyr93CpP2KlbcyNUas9ZGMljym2wzsKURXzz5Dz/yKWMf9s0Y2q+pjf\nNmB/VYyJZAm15TOMTDmpKZvhYHWMvgk3+6tiDEbdDETdgFGrfnXcy4HqKAeqovhKZ603oH3+aN5c\n+P11ERQwFndQ7U6xuyJOb6QMm9JUu6fZXxWja8wrh3cUgflVKP2hOE89knu84+HmSgA+eryZly8O\n88rlIPvqPfyoN0S1p5TRaJJ99R5rY5IpmpjlZFs1h5sruXA7vCDIruVAnJU8Zi3X3apkFXMT3K2S\nvuzc9LGGMJGknXrPDMGYA787RUYrMloT8Ca4MubjRuTOD7L5hnBzrhlY9htQvpx3RWkKjzPNO6PG\ndVorY9xbO0mzL05PxCOHYBe5fOWGZm/0+bn4d7VU8eKFQY7u8XNlcMLakGQunNoUvHEzxPmbIT7x\nSCtHdvtzdrHOv95SO0xNK3nMWq67VUmvmLtsM0r6zMM16spTTCTt1JWnsCk4O1DF2YFq+iaNGXv2\nGPLl0ZcaY21Z0grqYPR3742UkUzbrYVTQPq+7DD5cvE/6g2xr97Dm7fCNPrLONDgtT7yO+zGn2Yz\nmkClywro5hvHWs5IXclj1nLdrUwC+112t0r6sqtvzDTIaNxJhSvN1IzdKm0cT5QyEC1jKFaaM4bV\nvgGdHazJmfGHk06afAmc9gzd4x72Vk5xYu7wDrFz5Osj89h9Ddwai/PooXqGJxK01XkpsSsyGqrK\nS61Z+2h0esHi5VJ9aVYzhvmPWct1tzJJxdxl+dIYZl15IWU31DJ3gLZUxhmJOaktn6E3UmYF8nxp\nktW0BV6M2cwJFjZ1KrQPNP0hj5/fuGf422NSD7AW81M02Z0gzRbYz3be5LH7Grg6PMn1YIwKt4OJ\nRIo9NeUFSYWsZFfqanaubgcS2ItUdvVNcMpJsy+5IP/dP+mmzT+VN/e93jcgv2uGc4NV1JRNWzn6\nsXjphi6cvvjd/7Ih1wX4eSS4F0K+mfHpjr10do9wPRhjV4WL4QljUbU/FLcqYkyLnT9s9qARBknF\nFDGz+mZ3RZK+SZeVKrkR8VjdGDeq0Zb5xjB/J6xsNtrZ8h1BCXBjJMbJtmqiyRRH9/i5HoxxX1Pl\nglRIsZUlbhQJ7EUsu/qmvnwmJ+ee3Vp3JQu3q90xK31fxEr1h+I8dl8Dl/oj1nF7jx8J8KPecN4N\nQoudPyzukMBepBYLrK2VsTUF3NXsmN3nN05kmp/imb9AKwQYs/iM1jkz7472Wk537M27eLnY+cPi\nDsmxF6nFFj8X21y0XO57NYdghJNO2vxha7NT9puM1LGLfFZ7WMf884clHZNLAnuRWs3i50oXRVe6\nY1ZOQhLyYltPAAAej0lEQVSFdubKCE1VZTmLrz3BmPX1Rh8ev91IKkas2Pwds0ulb+QkJFFIZjVM\nU1VZTjWM+fVGHx6/3ciMXazI/HTKWLx0yfSKnIQkCim7GuZkWw1ne8Yk/bIEmbGLFVkqZz9/5t5a\nGeNkY0gqYkRBSTXMyklgFyuy1CEY86tl2qujdI158y7QCrFWUg2zcpKKEeuSb6H07GBV3jcBScWI\ntZJqmNWRGbtYN1koFRut2Jp0bTSZsYt1k4VSsdGKrUnXRpMZu1gXaR0gxNYjM/Yd5MMHuvh/n/r9\ngl7Tf/H7vFETINTQggJCwBtDvfjHBgkdfk9Bn2sz/W1YOjuK7UMC+xb0oac/wF9X/NuCX/d5gHBh\nr3mh6QnjD1nXjbngVlPhn0sIsTKSihFCiCIjgV0IIYqMBHYhhCgyEtiFEKLISGAXQogiI4FdCCGK\njAR2IYQoMhLYhRCiyEhgF0KIIiOBXQghiowEdiGEKDIS2IUQoshIYBdCiCIjgV0IIYqMBHYhhCgy\nEtiFEKLISGAXQogiI4FdCCGKTEECu1Lqg0qpbqXUdaXUZwpxTSGEEGuz7sCulLIDfwr8JHAIeEIp\ndWi91xVCCLE2hTjM+gRwXWt9A0Ap9VfAR4DLBbi2EJvuiW80882r7Zs9DCFWrBCpmEagL+vr/rnb\nhBBCbIK7tniqlHpaKXVeKXV+Mjl7t55WCCF2nEIE9gGgOevrprnbcmitn9FaH9NaH/O5CpEBEkII\nkU8hAvs5YL9Saq9Sygl8DPhmAa4rhBBiDdY9ddZazyqlPg28BNiBv9Bav7PukQkhhFiTguREtNYv\nAi8W4lpCCCHWR3aeCiFEkZHALoQQRUYCuxBCFBkJ7EIIUWQksAshRJGRwC6EEEVGArsQQhQZCexC\nCFFkJLALIUSRkcAuhBBFRgK7EEIUGQnsQghRZCSwCyFEkZHALoQQRUYCuxBCFBkJ7EIIUWQksAsh\nRJGRwC6EEEVGArsQQhQZCexCCFFkJLALIUSRkcAuhBBFRgK7EEIUGQnsQogtZ58/SrV7Oue2avc0\n+/zRFX1/p5PAXsTOXBmhJxjLua0nGOPMlZFNGpEQKxNOOjnWELaCd7V7mmMNYcJJ54Lv7/NHaa2M\n5Xx/pwd5CexFrKmqjOdf77WCe08wxvOv99JUVbap4xJiOeOJUs4P+TnWEOZg9STHGsKcH/Iznihd\n8P0GT4J7aye5FvIwniil2j3N8UCIMkd6k/8Wm0cCexFrq/fwxEMtPP96Ly9fHOb513t54qEW2uo9\nq77WSmf/8ilBFMp4opTeiTIOVsfonSizgnr29yenS/C7Z8loOFAd5WD1JCcD49iVZiDq3qSRbz4J\n7EWurd7DybYaXrkc5GRbzZqCOqx89i+fEkQhmOmVloo43eMeWiritFbGctIr1e5pKlwpZjOQ0WBX\nmoPVMew2uDLmW/BGsJOUbPYAxMY5c2UEm1Kc7Rnj0UP1nO0ZYyAcx+d28NHjzdb9eoIx+kNxTt1T\nt+i1smf/J9tqONszlnf2v9L7CbGUjFbcWzvJO6M+bkQ8pNI262u4k3M/N1gFwMnAODZlPhYmph2b\nNfQtQWbsRWCx9MfN0RgvXhjkVHs9jx3exan2erqHoly4FVnTjHqls/9CfUoQO49Z7WJTmndGfeyv\ninG0Pkx7TZR3Rn3YlAbA75rJybkrZfyamrGR0YrjgdCCqpmdRGbsRcBMf5gzYzNYH2qs4PEjAc50\nBUmm0pztGePxIwFGo8lVz6jzzf5dDjsZrRfM9HuCsZz7tdZ5JLjvIPv8UcJJZ04qpNo9jd81w/Ww\nd8nHmtUuZtCuKE3RXJGgb8LNjYgn7/Xb/DFsCsKJEsocGbrHvRysjtLoje/YdIwE9iKwXPojmUrz\nyuUgjx6qp6O9FgCvy2HdtpKga1OKFy8M8viRAB3ttbgcduvrbOabivn8rXWeBYu2Z66M0FRVlvO8\nK0kHie1hfnA20ybnh/wL7js/SI8nSrkW8nCyMcRgtJQmX5K+CTd15dPWm0NGq5zr1ZZNozHSLwNR\nB/urYnSPe7EpveI3lGIjqZgisVj644VzfXz/2qg1e+4JxujsGqWzO/e25WS0tmb/L18c5kxXkMeP\nBMhobd3nzJURLtwOL/gEcKixgv5Q3PpaFliLm1mKeLIxxNH68IIgn70Amq9efX9VjFDcwe6KJH2T\nLt4M+q3SxoxW7K+KcS3k4VhDmHtrJ7ApuDzqYyBaZn3PprR1bbO2fSeRGXuR6AnG6Owe5egev5X+\nAHjrVhitobXOmD0/23mDVFpzsq2axw7vIppM8dxrN3n00C4rrZJv9mz+Od/s39RUVUZn9whHdvut\nMS02W8/+hPH9a6Mcbq6UdE0RGU+UMhR1WWmUxWbu2fXovRNltFTECSdLqC2b4faEi/ryGSvoD8VK\nsSlt3T86Y6emLJWTpsm+1vza951EZuzbVPaCqRlA39Xi51J/hFPt9Tz/ei//8EYfYMzmn3vtJjdG\nYmQy4HOXcOF2mBfO9XFkt590RvOdi0M0VZUtOXuenzufP9NfSd28OVsHrE8Y6Yy23gxEcah2T1NX\nPk3fhJsmX4IH6kMcawgzFMsfZCenSzhYHSM45aTanSKtFRlt41rIw4lAiAcbx4nNOAgnnfhdMwSn\nnNSUpZiasVlpGli+9n2nkMC+TWWnM/pDcU6113OpP8Jj9zVwpivIgV0+IlMp7DZFW52XdEbzyuUg\nNhu894Ax+77YF+HGSAy7TVFiV9wYWTjDNmUvyLbW3QngPcFYzgak5SpizOD/3Gs36ewewWFX2M06\nNbFtLNWrJXtm/mbQT9+ki90VSYJTTgaiZQtSL8cDISpdKbrHPQQ803SPezk3WEXAm6C9ZhLQjMZL\nOVAd5UQghLskTbMvSToDTru20jLVbiPAZ9e+79TKGEnFbFNLLZhmp0ta6zx85dUezFR4RmteuTzM\no4d20T00ad0PyLuYaqZO+kNxnnioBYDnXrvJ4eZKnniohQu3w1wemLC+t9KKmHRGk0pra4zr2RUr\n7r6lFkizSxGr3dPUlxtplUZvkslpZ066pLXSqGj5wUA144lSxuKl1sw+GDNSObMZY2G0pmwGG5o9\nFXFmM/DDwWoAjgdChBJOGr0JGjxJ67nNay2VjllPBc9WJoF9G8ueHZsBeX5gdTnsKBRprdlV4WJ4\nIglkePnS0Nxs3kNn9wh2m8pbxmh+MjjUWJGTnrnYF2E2rbnUH+F0Ryv9oTiD4QRnuoLWrN7lsPNs\n501Od+wFsPL2F26HsdsUHQfrrOD/xEMt9IfiEti3iXy5cTOAmkEyO9gb2/9j1iYjM12S0cbCZ3ZV\nzFCsFJ9zFr/byJ83eBPWfeMzNjylGfonXNYbhwKSszbiKXvefjJ+18yigX01FTzbiQT2bSxfED/T\nFbSC5Kn2er5zcQilYF+9h+vBGJ5SO7HpNFppTne0MhhO0DNi5MrNYJxdxpidOnnrlhGQn3x4L2/c\nDPHmrTBH9/itYPxs5w1a6zxMJlI823kDu03x2H276Ow21gOOtvjpCca4PDDBkw/vXVAOKaWO20t2\nPrt73LMgeO7zR63GXAA3Ih7KHbMcqp1Ea0hn7uwSba2MUVuW5HrYi6skg9+dojdSRqMvgU2B1sYv\nZ4nm9oSLZl8SRZi68ml+OFi1aODOfqPJNzsHGIq58r5BbWfryrErpb6klOpSSr2tlPp7pVRloQYm\nlvbCuT6ee+0mTzzUwmOHd/HEQy28NLcA2lbvoamqjFcuD2NTitY6D/2hODYFsek01eUOnCXGf71Z\nxqg1vPjWQE4Zo5k7b6v38J79taTSmtm0toJ6oNLFpf4IL5zro63ewwN7/FwPRrk6HCWV1qQzmqvD\nk3QPRVEKjuz2Wykd883AfOPILocUW99KerlcD3vZXxXLyac3+RJoDXabsWAKipOBce6tnSSeKuFY\nQ5jkrI13Rn3s9sUpsWlsCiLJEtBgU0a7gf5JN80VCUamSlcchBdrBTwQdRfdgut6F09fBu7TWt8P\nXAU+u/4hibVy2BU+t9Ejo63ew+HmSmw2GJ2cJpnKYFOKo3v8TCbTHNnt5x/e6OPGSIyO9loON1cy\nGElyYJePjvZaKwVjVsqc7Rnj6B4/sxltzdQf2FNFKq1561aYnmCMWq+LdAbrhTub1lwPGjnU0x2t\ntNV7OHVPXd4FVZmtby9mL5drIQ/d4z6uhTzcWztJRt9ZCM/Xenc84SCjFSNTTipds0ynFXYbTKVs\nBLxGfvztET83Ih7iszZsCiaSdrylaW5PlpHR4CrJWBU3Dd7kihdIF2sFDBTdguu6UjFa6+9kffkD\n4OfWNxyxUh893syR3f6cxVMzvZF9H3OHKcBsRtNQ6aah0s2LFwYBONFaQ08wxtXhSY7u8fPmrTAA\nV4cnrQVRM1UC8HZfhHRGc7EvwpXBCR4/EuCVy8N893KQgXAch914Yc+mNebWJal6KT7ZvVwc9gwt\nFXHeGfVRW5ZkYtqRk+cemSrlYHXM2kFqpk5O7Q5S4UqTSoPHmaF73IPfNQNAwJPA48wQjDmoK08x\nlbLTUhmnN1JmvQGMJ0q5PTm9YIF0uQXR7PQRkPP4lSy4bgeFLHf8ZeAfF/umUupppdR5pdT5yeRs\nAZ9251qutNCcabfVeebKCuHFC4N8+20jqNd4jR15ZuD+hQd3s6/ew5u3wlTMzfznV8O8q8VvzdzT\nGU3A76bRX0bPSIx0xsjb76kpzwrqWI9dyQ5XsT1cD3u5EfHkpDBuRDxcD3tz0h2tlTGafAkiyRIC\n3oSVc2+tjOErTTM9CyU2I9/eWjlFRitONoasIH497COjweNMMxp3UuaYXXSB1LTU6UvzyyEbvfFl\nr7cdLRvYlVL/pJS6lOfXR7Lu8zlgFvjaYtfRWj+jtT6mtT7mc8mabSEstWEoe9fnJ3+sjdMdrdiU\nMXPOaGipKeen393My5eGONVuVNR0do1yPRhjX72HkclpnnvtppWzv3DbmMnXel1cHZ6kbW5na2f3\nCAPh+FzuU/PS24NcnxtHiU2xr96L3aZIZ7R1DVEc8tWMZ6c7HqgPWVUw74xWkNaKg9VRDtdGuLd2\nknTG6EHUGynDpkChaa+ZxIYmo2EmY+N4IGSkbmJOqt3GjDvfgRvZpYlLpVzMP3eP+zg/5KfBszDt\nMv9629GyEVZr/f6lvq+Uegr4EPDjWmc1DhEbarlmW/MXKQGrr4tNQe/YFIPhBKc7Wnn+9V6GIgne\nvBW2mnz1BGM899pNnnvtJu/ZX8vlgQkePbTLqroB+MvOm3QPRa0KmhcvDNIXMqoYPnh/gIDfzfOv\n97KnphyAak9pzvil6df2Nb+UcX4Kw5zJ355wWdv9zw1WcTwQIuA1atOjMw4Go25sStMbKaO2fBqP\nM01yVuGwGYdmzGagb6KM5ooEV8Z8K06T5KvY2eePrroccrtab1XMB4HfBD6stZayhrtoueqS7EXK\nnmCMZztvkM7A40cC/PKpNhx2o1vjYDjBybYaa0HU7P/SVu/hyYf30ugvs1I9Ga2t52yr93BkTyVO\nu43uoUnOdAUJVBpHke2t9dDRXmuNyed20B+KW3Xw0vRr+5vfDz07SJoz+dEpJ7s8udv9h2OllJZo\nbkQ8XBkzcvQZrWjyJSi1p0lnoNSu5z4BGgGqpTJO15iR+llpmiTfp4mVzPaLxXpzIn8ClAIvK+Nj\n/g+01v9q3aMSy8o30zUD7nz9oTj1FS7ub74TuE93tNLZPcLbfWHCUzM56ZzsawxPJKzv+cud2JSi\nrd7DmStGs6/w1AzXgzGO7vFzZXCCtjoPwxMJ6zrWm8C8hV7ZZbq9ZQfD+YuVxxrCXAt58DhnqXSl\neDAwzpVx4+SjZl+S2xMu9lZOUWrPcH7Iz4lACJsygvnolJPaciNwR6dLqHDNks7cOREpuy59Mct9\nmtgJ1lsVs69QAxErt9p+5qfuqVtwu/nYxdI5+b73bOcNXgwZC69NVWV85dUe0hkI+F28eSuMw674\nsbn2BPNbBOTbJSuKQ/buTb9rhmshD/urYpwf8jMQdXOyMcSh2kkU8M6oj4lpBw2eaQLeBANRN5Gk\ng9ryGcbiDuo8M/RNuCm1p6nzGLdVlM6u6tCMpT5N7JTALk3AtqHV9jNf7Oi8V7tGFk3n5Ev1nO5o\n5WCDlxcvDPKtNwdIZ4yqF7ejJKeZV75NR8t1hhTbV/Zipd2mraBuzq57wuVWasVhz3CsIcwPB6s4\nN1hFozeOr3SWvgk31e4UtydcNHgS1M71l/E603SPe2nISuksZyelXBYjgX0bWkl73GyLvRE80r74\nZqHFNhI99UgrLTXlDE8k2VXh4lR7PT0jMToO1vHkw3utYJ696Sh7odfcJZs9HrH9LdYuNzvXrWHB\n9xs801wLeagrn+adUR8NnmmUMsof+ybLOT/ktw7P2O4liHeT1B1uU6tJbSx3dF625dI8nV2j9I5N\n0VJTTu/YFOOx6ZxOjvlSQUst9EpKpjhkB/A2/xSptI2JaYeVoqkoTQEwm4G9lVOMxUutlEl26sTj\nTAGKgajb2lBk3mcnzbjXS2bs29RqUxvLbWYy0zXZs/ueYIwXzvVZaZ7OrlGrQdj779uFw65IpTUu\nh33RWbicb1r8shcru8d9dI15ubd2kra58sKK0hT31k7SNebj7EA1g1G3tWHITJGY5YgD0TLeHqm0\nbp/fQnepPvDiDgns25BZvniqvT4ntdHZNWodeJHvMUu9EWSfbGR2c3y28wYX+yLWbPt6MGrVufeH\n4pzuaOXxIwGuB6OLNvOS802L3/zFyhsRD++M+qhxp6gpm6a9Jso7oz5uRIx68rdHKvOWLS61YzTf\nfcxGZNn3kSBvkFTMNtQfilsnJQX8biOf3V7Py5eGrd7n2ZbbzAQL0zXmQRgdB+/k2j9xqtW6pjnb\nbqv35NS+L3ZikpQ6Fq98KZIbEQ8Oe8baIGRuUjLlK1tcqsd7vvuMTJXS5Evwzlw/92LppV4IEti3\nITOomjs7zYB5umNv3oC5WI771a47x9mZvx/Y5eOVy0EcdrXsKUgrJaWOO8/8DUJj8ZW1181ehB2d\nci74vpmaMe/TN+HOaUS2k2rVlyKpmG1suby5abEKl0fa63LSJJ1do7x5K0yJzShdnH+26VpJqePO\nMj/nbs6wV1KueH9dhL2VU3SPe6hwpTgRCFl93s3rZrSirXKK2xMu6sqnCU45rYOwpXLGIIF9G1tv\nwMxOk/zND27z4oVBDjZ4eeqRVp58eG9Ozn2tB2FIqePOs9QGoaVUu41NSwoYi5dybrAK0NxbO4nH\nmbJ2tO6vitE17qW+fIbBqHGaUjDmoNmXzOkHv5NJKuYuW8nhud965iWeOPDHS17n++nDfCn1Gf4f\nxxd5z42LfD9zmE9/7zP8ieOLvMd+Me9jnv9I34Lbsmf9R/f4+YUHd1vfs47YyzPjXykpddx58uXc\nl2sFsM8fpcwxOxfMjbYEwSnn3EEbJeyuSNI97sGmdM6bxr21k4zGnVSXpaz+8Nn94HcqCewbbH4g\nDyedHA+EiM3YuTJWAdxpJZod4L95tX3J6/6T92E+PvM/GJtO8U3agRQfL/0f/JXzYcaiqbyPeeIb\nzQuCe75Zf3YQXm/wXU1PG7FzhZNO2vxTDESNzUvBKSe7K5KMxJxUuGatXH12ULcpbR2RZy7QTkw7\ndlTrgMVIYN8gZkAPJ5081DTOrUgZgzE3jd44dqWpcM7yUOM4aa344WAVFaUp2quj9EfdVl9r0/wZ\nPcD7o99b8JwHpns4MN2z4jGupFpGiLthYbWLEdRry2esUsn5zbzMN4P5C7Q7PaiD5Ng3jFlvC3Ar\nUkZLZZyHGsdp9CYZmSrFZsP4pTTNviljA8e4l4G5zRtL1fIWihwsLbYS8xi95ooE/ZNuxhKlVnol\n+xAPszXwWhdodwKZsW8Q84fwZCDEYKwUrY1Ank5rdnmmMY8kUQp2VySJTduwKb2iWt5CkTSJ2Eqq\n3dM0eJPW2ai3J420THZ6xfy1kw7NWAsJ7AU0P5/ud80wOWNjd0USrWEmDU47aG0E9LQ2znvUGsqd\nGTJaUe2eptEbZ3K6JOf0FyGKmTkDPztQtWCzUb70yloWaHcSCewFVOaYZX9VzDqF3V2Sxu9KW7Nz\nh+1OUNca7HO/AyRnFffUTBqnxsxVbI1OOVe1uUOI7Up6qBeWBPYCGoiWEfAmOREIMZWyU1E6awRu\nBYo7AT07DQPG164S4wBfu824bzoDV0PGrGSnnf4idh6ZgReWLJ4W0HjC2FShlKbSNQvASNxJKq2s\noK5UbkDPDvJmUNfA5EwJFaUpK5coO+qEECslgX0DmKmUjIZa9wxOu7YCuMkM7tlB3vxaASW2zNzm\nC9ddGbMQonhIYC+gavc0JwIhMhnjQAHmKmFU1i7n+QHenMWbfza/73VmrPMhN6rcUQhRnCTHXkCN\n3gQa+OFgNQAPNo4Dxsx9sRx7vny7eXtFaSrn/EghhFgJmbEXUDxl59xcRQwYuXLz/EYzoM/Psc8P\n9gCJlHGH5opEzvmQQgixEhLYCyj7dPRGbxytFX0TbkpsEEk6yOjFZ+yZzJ0/mxUyWkNbZUx20wkh\nVkUC+waodk/T4Jnmh4NVRGdK6I2U4Xen0CjCyRImp+3AnRl7RoOyQSjhIJEy/kumUnbeGfUxOVMi\nW6WFEKsiOfYNkL3Zwtz+HJwqJTlrYyBaxslAiOFYKXVl08xkbLhKMvRGykjMGgE/oxU2pbkRMTrW\nmU3AJCUjhFgJCewbYP5mi+thLxj9wNjnj9I17mV/VYwfDFYzniiltTJGe3WUs1n5+WyyUUMIsRqS\nirnLroe9Cw4LuBHxcHawSjYhCSEKQmbsm0C2TwshNpLM2IUQoshIYBdCiCIjgV0IIYqMBHYhhCgy\nEtiFEKLISGAXQogiI4FdCCGKjAR2IYQoMhLYhRCiyEhgF0KIIlOQwK6U+g2llFZK1RTiekIIIdZu\n3YFdKdUM/ARwe/3DEUIIsV6FmLH/F+A3MU6CE0IIscnWFdiVUh8BBrTWFwo0HiGEEOu0bNtepdQ/\nAbvyfOtzwL/HSMMsSyn1NPA0QG2ZdAsWQoiNsmyE1Vq/P9/tSqnDwF7gglIKoAn4kVLqhNZ6OM91\nngGeAdhX7Za0jRBCbJA1T5211heBOvNrpVQvcExrPVaAcQkhhFgjqWMXQogiU7Bkt9a6pVDXEkII\nsXZK67uf7lZKjQK37sJT1QBbOTW0lccnY1u7rTw+GdvabYXx7dFa1y53p00J7HeLUuq81vrYZo9j\nMVt5fDK2tdvK45Oxrd1WH182ybELIUSRkcAuhBBFptgD+zObPYBlbOXxydjWbiuPT8a2dlt9fJai\nzrELIcROVOwzdiGE2HF2TGDfij3jlVK/q5R6Wyn1llLqO0qpwGaPKZtS6ktKqa65Mf69Uqpys8dk\nUkr9vFLqHaVURim1JSoVlFIfVEp1K6WuK6U+s9njyaaU+gul1IhS6tJmj2U+pVSzUuq7SqnLc/+n\nv77ZYzIppVxKqR8qpS7Mje13NntMK7EjAvsW7hn/Ja31/VrrB4BvAf9hswc0z8vAfVrr+4GrwGc3\neTzZLgEfBV7d7IEAKKXswJ8CPwkcAp5QSh3a3FHl+Crwwc0exCJmgd/QWh8CHgQ+tYX+7aaBR7XW\nR4AHgA8qpR7c5DEta0cEdrZoz3it9WTWl+VsvfF9R2s9O/flDzAavW0JWusrWuvuzR5HlhPAda31\nDa31DPBXwEc2eUwWrfWrQGizx5GP1npIa/2juT9HgStA4+aOyqANsbkvHXO/ttTrNJ+iD+xbvWe8\nUuoLSqk+4H9l683Ys/0y8I+bPYgtrBHoy/q6ny0SnLYTpVQLcBQ4u7kjuUMpZVdKvQWMAC9rrbfM\n2BZTFI3RC9UzfiMsNTat9Te01p8DPqeU+izwaeDzW2l8c/f5HMbH5a9ttbGJ4qGU8gBfB/71vE+z\nm0prnQYemFtj+nul1H1a6y23VpGtKAJ7oXrG382x5fE14EXucmBfbnxKqaeADwE/ru9ybewq/u22\nggGgOevrprnbxAoopRwYQf1rWusXNns8+WitI0qp72KsVWzpwF7UqRit9UWtdZ3WumWu+2Q/8K67\nFdSXo5Tan/XlR4CuzRpLPkqpD2KsTXxYax3f7PFsceeA/UqpvUopJ/Ax4JubPKZtQRmzrj8Hrmit\n/3Czx5NNKVVrVoMppdzAY2yx12k+RR3Yt4EvKqUuKaXexkgXbZkyrzl/AniBl+dKMv/vzR6QSSn1\nM0qpfuAh4H8qpV7azPHMLTJ/GngJY/Hvb7TW72zmmLIppZ4HXgcOKqX6lVK/stljyvIw8EvAo3M/\nZ28ppR7f7EHNaQC+O/caPYeRY//WJo9pWbLzVAghiozM2IUQoshIYBdCiCIjgV0IIYqMBHYhhCgy\nEtiFEKLISGAXQogiI4FdCCGKjAR2IYQoMv8/bCYcrr/+ccQAAAAASUVORK5CYII=\n",
      "text/plain": [
       "<matplotlib.figure.Figure at 0x119c83f60>"
      ]
     },
     "metadata": {},
     "output_type": "display_data"
    }
   ],
   "source": [
    "# Training data\n",
    "X_demo = np.concatenate((X1, X2), axis=0)\n",
    "y_demo = np.concatenate((np.zeros(X1.shape[0]), np.ones(X2.shape[0])))\n",
    "\n",
    "# Train a DecisionTreeClassifier on the training data\n",
    "clf = DecisionTreeClassifier(splitter='random')\n",
    "clf.fit(X_demo,y_demo)\n",
    "\n",
    "# Create a mesh, i.e. a fine grid of values between the minimum and maximum\n",
    "# values of x1 and x2 in the training data\n",
    "plot_step = 0.02\n",
    "x_min, x_max = X_demo[:, 0].min() - 1, X_demo[:, 0].max() + 1\n",
    "y_min, y_max = X_demo[:, 1].min() - 1, X_demo[:, 1].max() + 1\n",
    "xx, yy = np.meshgrid(np.arange(x_min, x_max, plot_step),\n",
    "                         np.arange(y_min, y_max, plot_step))\n",
    "\n",
    "# Label each point of the mesh with the trained DecisionTreeClassifier\n",
    "Z = clf.predict(np.c_[xx.ravel(), yy.ravel()])\n",
    "Z = Z.reshape(xx.shape)\n",
    "\n",
    "# Plot the contours corresponding to these labels \n",
    "# (i.e. the decision boundary of the DecisionTreeClassifier)\n",
    "cs = plt.contourf(xx, yy, Z, cmap=plt.cm.Paired)\n",
    "\n",
    "# Plot the training data \n",
    "plt.plot(X1[:,0], X1[:,1], 'x', label='class 1')\n",
    "plt.plot(X2[:,0], X2[:,1], 'x', label='class 2')\n",
    "plt.legend()"
   ]
  },
  {
   "cell_type": "markdown",
   "metadata": {
    "deletable": true,
    "editable": true
   },
   "source": [
    "## 1.2 Tumor classification data\n",
    "\n",
    "Let us now go back to our tumor classification problem.\n",
    "\n",
    "**Question:** Cross-validate 5 different decision trees (with default parameters) and print out their accuracy. Why do you get different values? Check the documentation for help."
   ]
  },
  {
   "cell_type": "code",
   "execution_count": 22,
   "metadata": {
<<<<<<< HEAD
=======
    "collapsed": false,
    "deletable": true,
    "editable": true,
>>>>>>> f1df0ad3a881f47d2535f6051b09ef6a693523e5
    "scrolled": true
   },
   "outputs": [
    {
     "name": "stdout",
     "output_type": "stream",
     "text": [
      "0.590\n",
      "0.612\n",
      "0.612\n",
      "0.617\n",
      "0.579\n"
     ]
    }
   ],
   "source": [
    "from sklearn import tree\n",
    "from sklearn import metrics\n",
    "\n",
    "ypred_dt = [] # will hold the 5 arrays of predictions (1 per tree)\n",
    "for tree_index in range(5):\n",
    "    # Initialize a DecisionTreeClassifier\n",
    "    clf = DecisionTreeClassifier()\n",
    "    \n",
    "    # Cross-validate this DecisionTreeClassifier on the toy data\n",
    "    pred_proba = cross_validate_clf(X, y, clf, folds)\n",
    "    \n",
    "    # Append the prediction to ypred_dt \n",
    "    ypred_dt.append(pred_proba)\n",
    "    \n",
    "    # Print the accuracy of DecisionTreeClassifier\n",
    "    print(\"%.3f\" % metrics.accuracy_score(y, np.where(pred_proba > 0.5, 1, 0)))"
   ]
  },
  {
   "cell_type": "markdown",
   "metadata": {
    "deletable": true,
    "editable": true
   },
   "source": [
    "__Answer:__ Algo has random part"
   ]
  },
  {
   "cell_type": "markdown",
   "metadata": {
    "deletable": true,
    "editable": true
   },
   "source": [
    "**Question:** Compute the mean and standard deviation of the area under the ROC curve of these 5 trees. Plot the ROC curves of these 5 trees.\n",
    "\n",
    "Use the [metrics](http://scikit-learn.org/stable/modules/classes.html#module-sklearn.metrics) module of scikit-learn."
   ]
  },
  {
   "cell_type": "code",
   "execution_count": null,
<<<<<<< HEAD
   "metadata": {},
=======
   "metadata": {
    "collapsed": false,
    "deletable": true,
    "editable": true
   },
>>>>>>> f1df0ad3a881f47d2535f6051b09ef6a693523e5
   "outputs": [],
   "source": [
    "fpr_dt = [] # will hold the 5 arrays of false positive rates (1 per tree)\n",
    "tpr_dt = [] # will hold the 5 arrays of true positive rates (1 per tree)\n",
    "auc_dt = [] # will hold the 5 areas under the ROC curve (1 per tree)\n",
    "\n",
    "for tree_index in range(5):\n",
    "    # Compute the ROC curve of the current tree\n",
    "    fpr_dt_tmp, tpr_dt_tmp, thresholds =  metrics.roc_curve\n",
    "    # Compute the area under the ROC curve of the current tree\n",
    "    auc_dt_tmp = metrics.auc(fpr_dt_tmp, tpr_dt_tmp)\n",
    "    fpr_dt.append(fpr_dt_tmp)\n",
    "    tpr_dt.append(tpr_dt_tmp)\n",
    "    auc_dt.append(auc_dt_tmp)\n",
    "\n",
    "# Plot the first 4 ROC curves\n",
    "for tree_index in range(4):\n",
    "    plt.plot(# TODO\n",
    "            \n",
    "# Plot the last ROC curve, with a label that gives the mean/std AUC\n",
    "plt.plot(fpr_dt[-1], tpr_dt[-1], '-', \n",
    "         label='DT (AUC = %0.2f +/- %0.2f)' % (np.mean(auc_dt), np.std(auc_dt)))\n",
    "\n",
    "# Plot the ROC curve\n",
    "plt.xlabel('False Positive Rate', fontsize=16)\n",
    "plt.ylabel('True Positive Rate', fontsize=16)\n",
    "plt.title('ROC curves', fontsize=16)\n",
    "plt.legend(loc=\"lower right\")"
   ]
  },
  {
   "cell_type": "markdown",
   "metadata": {
    "deletable": true,
    "editable": true
   },
   "source": [
    "**Question:** What parameters of DecisionTreeClassifier can you play with to define trees differently than with the default parameters? Cross-validate these using a grid search with [model_selection.GridSearchCV](http://scikit-learn.org/stable/modules/generated/sklearn.model_selection.GridSearchCV.html). Plot the optimal decision tree on the previous plot. Did you manage to improve performance?"
   ]
  },
  {
   "cell_type": "code",
   "execution_count": null,
<<<<<<< HEAD
   "metadata": {},
=======
   "metadata": {
    "collapsed": false,
    "deletable": true,
    "editable": true
   },
>>>>>>> f1df0ad3a881f47d2535f6051b09ef6a693523e5
   "outputs": [],
   "source": [
    "from sklearn import model_selection\n",
    "\n",
    "# Define the grid of parameters to test\n",
    "param_grid = # TODO\n",
    "\n",
    "# Initialize a GridSearchCV object that will be used to cross-validate\n",
    "# a DecisionTreeClassifier with these parameters.\n",
    "# What scoring function do you want to use?\n",
    "clf = model_selection.GridSearchCV( # TODO\n",
    "\n",
    "# Cross-validate the GridSearchCV object \n",
    "ypred_dt_opt = cross_validate_clf_optimize(X, y, clf, folds)\n",
    "\n",
    "# Compute the ROC curve for the optimized DecisionTreeClassifier\n",
    "fpr_dt_opt, tpr_dt_opt, thresholds = metrics.roc_curve(y, ypred_dt_opt, pos_label=1)\n",
    "auc_dt_opt = metrics.auc(fpr_dt_opt, tpr_dt_opt)\n",
    "\n",
    "# Plot the ROC curves of the 5 decision trees from earlier\n",
    "fig = plt.figure(figsize=(5, 5))\n",
    "\n",
    "for tree_index in range(4):\n",
    "    plt.plot(fpr_dt[tree_index], tpr_dt[tree_index], '-', color='blue') \n",
    "plt.plot(fpr_dt[-1], tpr_dt[-1], '-', color='blue', \n",
    "         label='DT (AUC = %0.2f (+/- %0.2f))' % (np.mean(auc_dt), np.std(auc_dt)))\n",
    "\n",
    "# Plot the ROC curve of the optimized DecisionTreeClassifier\n",
    "plt.plot(fpr_dt_opt, tpr_dt_opt, color='orange', label='DT optimized (AUC=%0.2f)' % auc_dt_opt)\n",
    "\n",
    "plt.xlabel('False Positive Rate', fontsize=16)\n",
    "plt.ylabel('True Positive Rate', fontsize=16)\n",
    "plt.title('ROC curves', fontsize=16)\n",
    "plt.legend(loc=\"lower right\", fontsize=12)"
   ]
  },
  {
   "cell_type": "markdown",
   "metadata": {
    "deletable": true,
    "editable": true
   },
   "source": [
    "## 4.2 Bagging trees"
   ]
  },
  {
   "cell_type": "markdown",
   "metadata": {
    "deletable": true,
    "editable": true
   },
   "source": [
    "We will resort to ensemble methods to try to improve the performance of single decision trees. Let us start with _bagging trees_: The different trees are to be built using a _bootstrap sample_ of the data, that is to say, a sample built by randomly drawing n points _with replacement_ from the original data, where n is the number of points in the training set.\n",
    "\n",
    "Bagging is efficient when used with low bias and high variance weak learners. Indeed, by averaging such estimators, we lower the variance by obtaining a smoother estimator, which is still centered around the true density (low bias). \n",
    "\n",
    "Bagging decision trees hence makes sense, as decision trees have:\n",
    "* low bias: intuitively, the conditions that are checked become multiplicative so the tree is continuously narrowing down on the data (the tree becomes highly tuned to the data present in the training set).\n",
    "* high variance: decision trees are very sensitive to where it splits and how it splits. Therefore, even small changes in input variable values might result in very different tree structure.\n",
    "\n",
    "\n",
    "**Note**: Bagging trees and random forests start being really powerful when using large number of trees (several hundreds). This is computationally more intensive, especially when the number of features is large, as in this lab. For the sake of computational time, we suggeste using small numbers of trees, but you might want to repeat this lab for larger number of trees at home."
   ]
  },
  {
   "cell_type": "markdown",
   "metadata": {
    "deletable": true,
    "editable": true
   },
   "source": [
    "**Question** Cross-validate a bagging ensemble of 5 decision trees on the data. Plot the resulting ROC curve, compared to the 5 decision trees you trained earlier.\n",
    "\n",
    "Use [ensemble.BaggingClassifier](http://scikit-learn.org/stable/modules/generated/sklearn.ensemble.BaggingClassifier.html)."
   ]
  },
  {
   "cell_type": "code",
   "execution_count": null,
<<<<<<< HEAD
   "metadata": {},
=======
   "metadata": {
    "collapsed": false,
    "deletable": true,
    "editable": true
   },
>>>>>>> f1df0ad3a881f47d2535f6051b09ef6a693523e5
   "outputs": [],
   "source": [
    "from sklearn import ensemble\n",
    "\n",
    "# Initialize a bag of trees\n",
    "clf = # TODO\n",
    "\n",
    "# Cross-validate the bagging trees on the tumor data\n",
    "ypred_bt = cross_validate_clf(X, y, clf, folds)\n",
    "\n",
    "# Compute the ROC curve of the bagging trees\n",
    "fpr_bt, tpr_bt, thresholds = metrics.roc_curve(y, ypred_bt, pos_label=1)\n",
    "auc_bt = metrics.auc(fpr_bt, tpr_bt)\n",
    "\n",
    "# Plot the ROC curve of the 5 decision trees from earlier\n",
    "fig = plt.figure(figsize=(5, 5))\n",
    "\n",
    "for tree_index in range(4):\n",
    "    plt.plot(fpr_dt[tree_index], tpr_dt[tree_index], '-', color='blue') \n",
    "plt.plot(fpr_dt[-1], tpr_dt[-1], '-', color='blue', \n",
    "         label='DT (AUC = %0.2f (+/- %0.2f))' % (np.mean(auc_dt), np.std(auc_dt)))\n",
    "\n",
    "# Plot the ROC curve of the bagging trees\n",
    "plt.plot(fpr_bt, tpr_bt, color='orange', label='BT (AUC=%0.2f)' % auc_bt)\n",
    "\n",
    "\n",
    "plt.xlabel('False Positive Rate', fontsize=16)\n",
    "plt.ylabel('True Positive Rate', fontsize=16)\n",
    "plt.title('ROC curves', fontsize=16)\n",
    "plt.legend(loc=\"lower right\", fontsize=12)"
   ]
  },
  {
   "cell_type": "markdown",
   "metadata": {
    "deletable": true,
    "editable": true
   },
   "source": [
    "__Question:__ How do the bagging trees perform compared to individual trees?\n",
    "    \n",
    "__Answer:__"
   ]
  },
  {
   "cell_type": "markdown",
   "metadata": {
    "deletable": true,
    "editable": true
   },
   "source": [
    "**Question** Use cross_validate_optimize to optimize the number of decision trees to use in the bagging method. How many trees did you find to be an optimal choice?"
   ]
  },
  {
   "cell_type": "code",
   "execution_count": null,
   "metadata": {
<<<<<<< HEAD
=======
    "collapsed": false,
    "deletable": true,
    "editable": true,
>>>>>>> f1df0ad3a881f47d2535f6051b09ef6a693523e5
    "scrolled": false
   },
   "outputs": [],
   "source": [
    "# Number of trees to use\n",
    "list_n_trees = [5, 10, 20, 50, 80]\n",
    "\n",
    "# Start a ROC curve plot\n",
    "fig = plt.figure(figsize=(5, 5))\n",
    "    \n",
    "for idx, n_trees in enumerate(list_n_trees):\n",
    "    # Initialize a bag of trees with n_trees trees\n",
    "    clf = # TODO\n",
    "    \n",
    "    # Cross-validate the bagging trees on the tumor data\n",
    "    ypred_bt_tmp = cross_validate_clf(X, y, clf, folds)\n",
    "    \n",
    "    # Compute the ROC curve \n",
    "    fpr_bt_tmp, tpr_bt_tmp, thresholds = metrics.roc_curve(y, ypred_bt_tmp, pos_label=1)\n",
    "    auc_bt_tmp = metrics.auc(fpr_bt_tmp, tpr_bt_tmp)\n",
    "\n",
    "    # Plot the ROC curve\n",
    "    plt.plot(fpr_bt_tmp, tpr_bt_tmp, '-', \n",
    "             label='BT %0.f trees (AUC = %0.2f)' % (n_trees, auc_bt_opt))\n",
    "\n",
    "# Plot the ROC curve of the optimal decision tree\n",
    "plt.plot(fpr_dt_opt, tpr_dt_opt, label='DT optimized (AUC=%0.2f)' % auc_dt_opt)\n",
    "\n",
    "plt.xlabel('False Positive Rate', fontsize=16)\n",
    "plt.ylabel('True Positive Rate', fontsize=16)\n",
    "plt.title('ROC curves', fontsize=16)\n",
    "plt.legend(loc=\"lower right\", fontsize=12)"
   ]
  },
  {
   "cell_type": "markdown",
   "metadata": {
    "deletable": true,
    "editable": true
   },
   "source": [
    "## 3. Random Forest"
   ]
  },
  {
   "cell_type": "markdown",
   "metadata": {
    "deletable": true,
    "editable": true
   },
   "source": [
    "In practice, simply bagging is typically not enough. In order to get a good reduction in variance, we require that the models being aggregated be uncorrelated, so that they make “different errors”. Bagging will usually get you highly correlated models that will make the same errors, and will therefore not reduce the variance of the combined predictor.\n",
    "\n",
    "**Question** What is the difference between bagging trees and random forests? How does it intuitively fix the problem of correlations between trees ? "
   ]
  },
  {
   "cell_type": "markdown",
   "metadata": {
    "deletable": true,
    "editable": true
   },
   "source": [
    "__Answer:__"
   ]
  },
  {
   "cell_type": "markdown",
   "metadata": {
    "deletable": true,
    "editable": true
   },
   "source": [
    "**Question** Cross-validate a random forest of 5 decision trees on the data. Plot the resulting ROC curve, compared to the bagging tree made of 5 decision trees.\n",
    "\n",
    "Use [ensemble.RandomForestClassifier](http://scikit-learn.org/stable/modules/generated/sklearn.ensemble.RandomForestClassifier.html)"
   ]
  },
  {
   "cell_type": "code",
   "execution_count": null,
<<<<<<< HEAD
   "metadata": {},
=======
   "metadata": {
    "collapsed": false,
    "deletable": true,
    "editable": true
   },
>>>>>>> f1df0ad3a881f47d2535f6051b09ef6a693523e5
   "outputs": [],
   "source": [
    "# Initialize a random forest with 5 trees\n",
    "clf = # TODO\n",
    "\n",
    "# Cross-validate the random forest on the tumor data\n",
    "ypred_rf = # TODO\n",
    "\n",
    "# Compute the ROC curve of the random forest\n",
    "fpr_rf, tpr_rf, thresholds = # TODO\n",
    "auc_rf = # TODO\n",
    "\n",
    "# Plot the ROC curve of the 5 decision trees from earlier\n",
    "fig = plt.figure(figsize=(5, 5))\n",
    "\n",
    "for tree_index in range(4):\n",
    "    plt.plot(fpr_dt[tree_index], tpr_dt[tree_index], '-', color='grey') \n",
    "plt.plot(fpr_dt[-1], tpr_dt[-1], '-', color='grey', \n",
    "         label='DT (AUC = %0.2f (+/- %0.2f))' % (np.mean(auc_dt), np.std(auc_dt)))\n",
    "\n",
    "# Plot the ROC curve of the bagging trees (5 trees)\n",
    "plt.plot(fpr_bt, tpr_bt, label='BT (AUC=%0.2f)' % auc_bt)\n",
    "\n",
    "# Plot the ROC curve of the random forest (5 trees)\n",
    "plt.plot(fpr_rf, tpr_rf, label='BT (AUC=%0.2f)' % auc_bt)\n",
    "\n",
    "\n",
    "plt.xlabel('False Positive Rate', fontsize=16)\n",
    "plt.ylabel('True Positive Rate', fontsize=16)\n",
    "plt.title('ROC curves', fontsize=16)\n",
    "plt.legend(loc=\"lower right\", fontsize=12)"
   ]
  },
  {
   "cell_type": "markdown",
   "metadata": {
    "deletable": true,
    "editable": true
   },
   "source": [
    "**Question** What are the main parameters of Random Forest which can be optimized ?"
   ]
  },
  {
   "cell_type": "markdown",
   "metadata": {
    "deletable": true,
    "editable": true
   },
   "source": [
    "__Answer:__ "
   ]
  },
  {
   "cell_type": "markdown",
   "metadata": {
    "deletable": true,
    "editable": true
   },
   "source": [
    "**Question** Use cross_validate_clf_optimize to optimize \n",
    "* the number of decision trees \n",
    "* the number of features to consider at each split.\n",
    "\n",
    "How many trees do you find to be an optimal choice? How does the optimal random forest compare to the optimal bagging trees? How do the training times of the random forest and the bagging trees compare?"
   ]
  },
  {
   "cell_type": "code",
   "execution_count": null,
<<<<<<< HEAD
   "metadata": {},
=======
   "metadata": {
    "collapsed": false,
    "deletable": true,
    "editable": true
   },
>>>>>>> f1df0ad3a881f47d2535f6051b09ef6a693523e5
   "outputs": [],
   "source": [
    "# Define the grid of parameters to test\n",
    "param_grid = # TODO\n",
    "\n",
    "# Initialize a GridSearchCV object that will be used to cross-validate\n",
    "# a random forest with these parameters.\n",
    "# What scoring function do you want to use?\n",
    "clf = grid_search.GridSearchCV(# TODO\n",
    "\n",
    "# Cross-validate the GridSearchCV object \n",
    "ypred_rf_opt = cross_validate_clf_optimize(X, y, clf, folds)\n",
    "\n",
    "# Compute the ROC curve for the optimized random forest\n",
    "fpr_rf_opt, tpr_rf_opt, thresholds = metrics.roc_curve(y, ypred_rf_opt, pos_label=1)\n",
    "auc_rf_opt = metrics.auc(fpr_rf_opt, tpr_rf_opt)\n",
    "\n",
    "# Plot the ROC curve of the optimized DecisionTreeClassifier\n",
    "fig = plt.figure(figsize=(5, 5))\n",
    "\n",
    "plt.plot(fpr_dt_opt, tpr_dt_opt, color='grey', \n",
    "         label='DT optimized (AUC=%0.2f)' % auc_dt_opt)\n",
    "    \n",
    "# Plot the ROC curve of the optimized random forest\n",
    "plt.plot(fpr_bt_opt, tpr_bt_opt, \n",
    "         label='BT optimized (AUC=%0.2f)' % auc_bt_opt)\n",
    "\n",
    "# Plot the ROC curve of the optimized bagging trees\n",
    "plt.plot(fpr_rf_opt, tpr_rf_opt, l\n",
    "         abel='RF optimized (AUC = %0.2f' % (auc_rf_opt))\n",
    "    \n",
    "plt.xlabel('False Positive Rate', fontsize=16)\n",
    "plt.ylabel('True Positive Rate', fontsize=16)\n",
    "plt.title('ROC curves', fontsize=16)\n",
    "plt.legend(loc=\"lower right\", fontsize=12)"
   ]
  },
  {
   "cell_type": "markdown",
   "metadata": {
    "deletable": true,
    "editable": true
   },
   "source": [
    "**Question** How do your tree-based classifiers compare to regularized logistic regression models? \n",
    "Plot the corresponding ROC curves."
   ]
  },
  {
   "cell_type": "code",
   "execution_count": null,
<<<<<<< HEAD
   "metadata": {},
=======
   "metadata": {
    "collapsed": false,
    "deletable": true,
    "editable": true
   },
>>>>>>> f1df0ad3a881f47d2535f6051b09ef6a693523e5
   "outputs": [],
   "source": [
    "from sklearn import linear_model\n",
    "\n",
    "# Evaluate an optimized l1-regularized logistic regression\n",
    "param_grid = {'C': np.logspace(-3, 3, 7)}\n",
    "clf = grid_search.GridSearchCV(linear_model.LogisticRegression(penalty='l1'), \n",
    "                               param_grid, scoring='roc_auc')\n",
    "ypred_l1 = cross_validate_clf_optimize(X, y, clf, folds)\n",
    "fpr_l1, tpr_l1, thresholds_l1 = metrics.roc_curve(y, ypred_l1, pos_label=1)\n",
    "auc_l1 = metrics.auc(fpr_l1, tpr_l1)\n",
    "print('nb features of best sparse model:', len(np.where(clf.best_estimator_.coef_!=0)[0]))\n",
    "\n",
    "# Evaluate an optimized l2-regularized logistic regression\n",
    "clf = grid_search.GridSearchCV(linear_model.LogisticRegression(penalty='l2'), \n",
    "                               param_grid, scoring='roc_auc')\n",
    "ypred_l2 = cross_validate_clf_optimize(X, y, clf, folds)\n",
    "fpr_l2, tpr_l2, thresholds_l2 = metrics.roc_curve(y, ypred_l2, pos_label=1)\n",
    "auc_l2 = metrics.auc(fpr_l2, tpr_l2)"
   ]
  },
  {
   "cell_type": "code",
   "execution_count": null,
<<<<<<< HEAD
   "metadata": {},
=======
   "metadata": {
    "collapsed": false,
    "deletable": true,
    "editable": true
   },
>>>>>>> f1df0ad3a881f47d2535f6051b09ef6a693523e5
   "outputs": [],
   "source": [
    "# Plot the ROC curves\n",
    "fig = plt.figure(figsize=(5, 5))\n",
    "\n",
    "plt.plot(fpr_rf_opt, tpr_rf_opt, \n",
    "         label='RF optimized (AUC = %0.2f)' % (auc_rf_opt))\n",
    "plt.plot(fpr_bt_opt, tpr_bt_opt, \n",
    "         label='BT optimized (AUC = %0.2f)' % (auc_bt_opt))\n",
    "plt.plot(fpr_l1, tpr_l1,  \n",
    "         label='l1 optimized (AUC = %0.2f)' % (auc_l1))\n",
    "plt.plot(fpr_l2, tpr_l2,  \n",
    "         label='l2 optimized (AUC = %0.2f)' % (auc_l2))\n",
    "\n",
    "plt.xlabel('False Positive Rate', fontsize=16)\n",
    "plt.ylabel('True Positive Rate', fontsize=16)\n",
    "plt.title('ROC curves', fontsize=16)\n",
    "plt.legend(loc=\"lower right\", fontsize=12)"
   ]
  },
  {
   "cell_type": "markdown",
   "metadata": {
    "deletable": true,
    "editable": true
   },
   "source": [
    "# 4. BONUS: implementation of tree-based classifiers\n",
    "Remark: The decision tree tutorial is inspired by [link](https://machinelearningmastery.com/implement-decision-tree-algorithm-scratch-python/).\n",
    "\n",
    "For scalability purposes, we will work on the UCI Iris dataset, which you can load directly in scikit-learn via [datasets.load_iris](http://scikit-learn.org/stable/modules/generated/sklearn.datasets.load_iris.html). Read the documentation to learn more about the data."
   ]
  },
  {
   "cell_type": "code",
   "execution_count": null,
   "metadata": {
    "collapsed": true,
    "deletable": true,
    "editable": true
   },
   "outputs": [],
   "source": [
    "# load the iris data\n",
    "from sklearn import datasets\n",
    "iris = datasets.load_iris()\n",
    "X_iris, y_iris = iris.data, iris.target\n",
    "indices = np.union1d(np.where(y_iris==1),np.where(y_iris==2))\n",
    "X_iris = X_iris[indices,:]\n",
    "y_iris = y_iris[indices]\n",
    "y_iris[np.where(y_iris==2)] = 0"
   ]
  },
  {
   "cell_type": "code",
   "execution_count": null,
   "metadata": {
    "collapsed": true,
    "deletable": true,
    "editable": true
   },
   "outputs": [],
   "source": [
    "# Split the data into 5 folds\n",
    "from sklearn import model_selection\n",
    "kf = model_selection.KFold(n_splits=5)\n",
    "kf.get_n_splits(X_iris, y_iris)\n",
    "folds_iris = [(tr,te) for (tr,te) in skf.split(X_iris, y_iris)]"
   ]
  },
  {
   "cell_type": "markdown",
   "metadata": {
    "collapsed": true
   },
   "source": [
    "## 4.1. Decision trees"
   ]
  },
  {
   "cell_type": "markdown",
   "metadata": {
    "deletable": true,
    "editable": true
   },
   "source": [
    "For initializing the `DecisionTreeClassifier` class, we need to decide when to stop growing a tree.\n",
    "\n",
    "We can do that using the depth and the number of rows that the node is responsible for in the training dataset.\n",
    "\n",
    "* **Maximum Tree Depth**. This is the maximum number of nodes from the root node of the tree. Once a maximum depth of the tree is met, we must stop splitting adding new nodes. Deeper trees are more complex and are more likely to overfit the training data.\n",
    "* **Minimum Node Records**. This is the minimum number of training patterns that a given node is responsible for. Once at or below this minimum, we must stop splitting and adding new nodes. Nodes that account for too few training patterns are expected to be too specific and are likely to overfit the training data.\n",
    "\n",
    "These two approaches will be user-specified arguments to our tree building procedure."
   ]
  },
  {
   "cell_type": "code",
   "execution_count": null,
   "metadata": {
    "collapsed": true,
    "deletable": true,
    "editable": true
   },
   "outputs": [],
   "source": [
    "class DecisionTreeClassifier():\n",
    "    \"\"\"\n",
    "    Parameters:\n",
    "    -----------\n",
    "    class_values : tuple, labels distinguishing classes\n",
    "    min_node_size : int, expected number of instance into leaves\n",
    "        if None, the number of instance in nodes is not a criterion for stopping growing the tree\n",
    "    max_depth : int, expected depth of the tree \n",
    "        if None, the depth of the tree is not a criterion for stopping growing the tree\n",
    "        \n",
    "    attributes:\n",
    "    -----------\n",
    "    _tree : dict, stores the tree structure\n",
    "        tree is composed by nodes (including one top node, called the root) caraterized by \n",
    "            'index': index of the variables of the split\n",
    "            'value': value of the variables of the split\n",
    "            'left': indices of instances falling into the left child node\n",
    "            'right': indices of instances falling into the right child node\n",
    "    \"\"\"\n",
    "    def __init__(self, class_values=(0,1), min_node_size=2, max_depth=None):\n",
    "        self.classes_ = class_values\n",
    "        self.min_node_size = min_node_size\n",
    "        self.max_depth = max_depth\n",
    "        self._tree = None"
   ]
  },
  {
   "cell_type": "markdown",
   "metadata": {
    "deletable": true,
    "editable": true
   },
   "source": [
    "### 4.1.1 Create a split\n",
    "\n",
    "Creating a split involves 2 parts:\n",
    "\n",
    "* Splitting a Dataset: means separating a dataset into two lists of instances given the index of a feature and a split value for that feature. \n",
    "\n",
    "* Evaluating All Splits: Once we have the two groups, we can then use the Gini score to evaluate the cost of the split. A Gini score gives an idea of how good a split is by how mixed the classes are in the two groups created by the split. Given a dataset, we must check every value on each attribute as a candidate split, evaluate the cost of the split and find the best possible split we could make. Once the best split is found, we can use it as a node in our decision tree. This is an exhaustive and greedy algorithm."
   ]
  },
  {
   "cell_type": "markdown",
   "metadata": {
    "deletable": true,
    "editable": true
   },
   "source": [
    "##### Gini criterion\n",
    "\n",
    "For every resulting nodes of the split:\n",
    "\n",
    "`gini_index = [1.0 - sum_over_classes(proportion * proportion)] * (group_size/total_samples)`\n",
    "\n",
    "where `proportion = count(class_value) / count(instances in the node)`\n",
    "\n",
    "The gini indices are then added across each child node at the split point to give a final Gini score for the split point that can be compared to other candidate split points."
   ]
  },
  {
   "cell_type": "code",
   "execution_count": null,
   "metadata": {
    "collapsed": true,
    "deletable": true,
    "editable": true
   },
   "outputs": [],
   "source": [
    "# Calculate the Gini index for a split dataset\n",
    "def gini_index(self, labels, index_groups):\n",
    "    \"\"\"\n",
    "    Parameters:\n",
    "    -----------\n",
    "    labels: array, \n",
    "        indexed labels \n",
    "    index_groups: list,\n",
    "        list of list of indices, each list corresponds to one group of instances indexed by their list\n",
    "    \n",
    "    Return:\n",
    "    -------\n",
    "    gini: float,\n",
    "        gini score of the current split\n",
    "    \"\"\"\n",
    "    n_samples = float(sum([len(group) for group in index_groups]))\n",
    "    # sum weighted Gini index for each group\n",
    "    gini = 0.0\n",
    "    for group in index_groups:\n",
    "        size = float(len(group))\n",
    "        # avoid dividing by zero\n",
    "        if size == 0:\n",
    "            continue\n",
    "        score = 0.0\n",
    "        # score the group based on the score for each class\n",
    "        for class_val in self.classes_:\n",
    "            score += # TODO\n",
    "        # weight the group score by its relative size\n",
    "        gini += (1.0 - score) * (size/n_samples)\n",
    "    return gini\n",
    "\n",
    "# Make gini_index a method of the DecisionTreeClassifier class\n",
    "DecisionTreeClassifier._gini_index = gini_index"
   ]
  },
  {
   "cell_type": "markdown",
   "metadata": {
    "deletable": true,
    "editable": true
   },
   "source": [
    "##### Splitting a Dataset\n",
    "\n",
    "Splitting a dataset means separating a dataset into two lists of rows given the index of an attribute and a split value for that attribute.\n",
    "\n",
    "Below is a function named test_split() that implements this procedure."
   ]
  },
  {
   "cell_type": "code",
   "execution_count": null,
<<<<<<< HEAD
   "metadata": {},
=======
   "metadata": {
    "collapsed": false,
    "deletable": true,
    "editable": true
   },
>>>>>>> f1df0ad3a881f47d2535f6051b09ef6a693523e5
   "outputs": [],
   "source": [
    "# Split a dataset based on an attribute and an attribute value\n",
    "def test_split(self, value_feature, X_column, indices):\n",
    "    \"\"\"\n",
    "    Split a list of instances into 2 groups depending on their value for a specific feature.\n",
    "    parameters:\n",
    "    -----------\n",
    "    value_feature: float\n",
    "        split value\n",
    "    X_column: 1D array,\n",
    "        column of the design matrix corresponding to the current feature\n",
    "    indices: 1D array\n",
    "        list of indices to split\n",
    "    \n",
    "    Return:\n",
    "    -------\n",
    "    left, rigt: list of int\n",
    "        list of indices of instances \n",
    "    \"\"\"\n",
    "    left, right = [], []\n",
    "    for ind_instance in indices:\n",
    "        # Update left and right based on the value of the attribute of instance ind_instance\n",
    "        # TODO \n",
    "    return left, right\n",
    "\n",
    "# Make test_split a method of the DecisionTreeClassifier class\n",
    "DecisionTreeClassifier._test_split = test_split"
   ]
  },
  {
   "cell_type": "markdown",
   "metadata": {
    "deletable": true,
    "editable": true
   },
   "source": [
    "** Evaluating All Splits **\n",
    "\n",
    "We will use a dictionary to represent a node in the decision tree as we can store data by name. When selecting the best split and using it as a new node for the tree we will store the index of the chosen attribute, the value of that attribute by which to split and the two groups of data split by the chosen split point.\n",
    "\n",
    "Each group of data is its own small dataset of just those rows assigned to the left or right group by the splitting process. You can imagine how we might split each group again, recursively as we build out our decision tree.\n",
    "\n",
    "Below is a function `get_split()` that implements this procedure. You can see that it iterates over each features and then each value for that attribute, splitting and evaluating splits as it goes."
   ]
  },
  {
   "cell_type": "code",
   "execution_count": null,
<<<<<<< HEAD
   "metadata": {},
=======
   "metadata": {
    "collapsed": false,
    "deletable": true,
    "editable": true
   },
>>>>>>> f1df0ad3a881f47d2535f6051b09ef6a693523e5
   "outputs": [],
   "source": [
    "# Select the best split point for a dataset\n",
    "def get_split(self, X, y, indices):\n",
    "    \"\"\"\n",
    "    Split a list of instances into 2 groups depending on their value of a specific feature.\n",
    "    parameters:\n",
    "    -----------\n",
    "    X: array\n",
    "        design matrix\n",
    "    y: 1D array\n",
    "        labels\n",
    "    indices: 1D array\n",
    "        list of indices of instances to split\n",
    "    \n",
    "    Return:\n",
    "    -------\n",
    "    node: dict,\n",
    "        'index' contains the index of the feature used to split the current node, \n",
    "        'value' contains the value of the feature used to split the current node,\n",
    "        'groups' contains the list of instances of the 2 child nodes of the current node.\n",
    "    \"\"\"\n",
    "    # Best index, value, score, and groups\n",
    "    b_index, b_value, b_score, b_groups = 999, 999, 999, None\n",
    "    # Test each feature\n",
    "    for ind_feature in range(X.shape[1]):\n",
    "        # Test each value of the feature for the considered instances\n",
    "        for ind_instance in indices:\n",
    "            # Split the dataset (restricted to the considered instances)\n",
    "            groups = # TODO\n",
    "            # Compute the corresponding Gini Index\n",
    "            gini = # TODO\n",
    "            if gini < b_score:\n",
    "                # Update b_index, b_value, b_score, b_groups\n",
    "                # TODO \n",
    "    return {'index':b_index, 'value':b_value, 'groups':b_groups}\n",
    "\n",
    "# Make get_split a method of the DecisionTreeClassifier class\n",
    "DecisionTreeClassifier._get_split = get_split"
   ]
  },
  {
   "cell_type": "markdown",
   "metadata": {
    "deletable": true,
    "editable": true
   },
   "source": [
    "### 4.1.2 Building a tree"
   ]
  },
  {
   "cell_type": "markdown",
   "metadata": {
    "deletable": true,
    "editable": true
   },
   "source": [
    "Leaves nodes are used to make a final prediction.\n",
    "\n",
    "This is done by taking the group of instances assigned to that leaf and selecting the most common class value in the group. This will be used to make predictions.\n",
    "\n",
    "Below is a function named `leaf_value` that will select a class value for a group of rows. It returns the most common output value in a list of labels."
   ]
  },
  {
   "cell_type": "code",
   "execution_count": null,
<<<<<<< HEAD
   "metadata": {},
=======
   "metadata": {
    "collapsed": false,
    "deletable": true,
    "editable": true
   },
>>>>>>> f1df0ad3a881f47d2535f6051b09ef6a693523e5
   "outputs": [],
   "source": [
    "from collections import Counter\n",
    "\n",
    "# Create a leaf node value\n",
    "def leaf_value(self, labels):\n",
    "    \"\"\"\n",
    "    Parameters:\n",
    "    -----------\n",
    "    labels: list of int,\n",
    "        list of instances' labels in the current leaf node\n",
    "    \n",
    "    Return:\n",
    "    -------\n",
    "    leaf_value: tuple,\n",
    "        proportion of class 0 and class 1 instances in the current leaf node\n",
    "    \"\"\"\n",
    "    counter = Counter(labels.tolist())\n",
    "    return np.array([counter[0], counter[1]])\n",
    "\n",
    "# Make leaf_value a method of the DecisionTreeClassifier class\n",
    "DecisionTreeClassifier._leaf_value = leaf_value"
   ]
  },
  {
   "cell_type": "markdown",
   "metadata": {
    "deletable": true,
    "editable": true
   },
   "source": [
    "Once a node is created, we can create child nodes recursively on each group of data from the split by calling the same function again.\n",
    "\n",
    "Below is a function that implements this recursive procedure. It takes a node as an argument as well as the maximum depth, minimum number of patterns in a node and the current depth of a node.\n",
    "\n",
    "Recall, there are three reasons to stop growing the tree:\n",
    "    either left or right node is empty and if so we create a leaf node using what records we do have.\n",
    "    the current depth reached the maximum depth and if so we create a leaf node.\n",
    "    the size of the node reached the minimum size, if so we create a leaf node\n",
    "\n",
    "If none of these situations occur, we keep on growing the tree by splitting the branches."
   ]
  },
  {
   "cell_type": "code",
   "execution_count": null,
   "metadata": {
    "collapsed": true,
    "deletable": true,
    "editable": true
   },
   "outputs": [],
   "source": [
    "def split(self, X, y, node, depth):\n",
    "    \"\"\"\n",
    "    Create the tree structure by reccursively splitting\n",
    "    Parameters:\n",
    "    -----------\n",
    "    X: array,\n",
    "        design matrix\n",
    "    y: 1D array,\n",
    "        labels\n",
    "    node: dict,\n",
    "        current node\n",
    "    depth: int,\n",
    "        depth of the current node\n",
    "    \n",
    "    Return:\n",
    "    -------\n",
    "    either call _leaf_value or _get_split functions \n",
    "    \"\"\"\n",
    "    left, right = node['groups']\n",
    "    # As we work on these groups the node no longer requires access to these data\n",
    "    del(node['groups'])\n",
    "    # check for a no split, i.e.  we check if either left or right group of rows is empty \n",
    "    # and if so we create a terminal node using what records we do have.\n",
    "    if not left or not right:\n",
    "        # Update left and right branches\n",
    "        node['left'] = node['right'] = self._leaf_value(y[left + right])\n",
    "        return\n",
    "    # check for max depth\n",
    "    if self.max_depth is not None and depth >= self.max_depth:\n",
    "        # Update left and right branches\n",
    "        node['left'], node['right'] = # TODO\n",
    "        return\n",
    "    # process left child\n",
    "    if self.min_node_size is not None and len(left) <= self.min_node_size:\n",
    "        node['left'] = self._leaf_value(y[left])\n",
    "    else:\n",
    "        node['left'] = self._get_split(X, y, left)\n",
    "        self._split(X, y, node['left'], depth+1)\n",
    "    # process right child\n",
    "    # TO DO\n",
    "\n",
    "# Make split a method of the DecisionTreeClassifier class\n",
    "DecisionTreeClassifier._split = split"
   ]
  },
  {
   "cell_type": "markdown",
   "metadata": {
    "deletable": true,
    "editable": true
   },
   "source": [
    "Building the tree involves creating the root node and calling the `split` function that then calls itself recursively to build out the whole tree."
   ]
  },
  {
   "cell_type": "code",
   "execution_count": null,
   "metadata": {
    "collapsed": true,
    "deletable": true,
    "editable": true
   },
   "outputs": [],
   "source": [
    "def fit(self, X_tr, y_tr):\n",
    "    \"\"\"\n",
    "    Parameters:\n",
    "    -----------\n",
    "    X_tr: array,\n",
    "        training design matrix\n",
    "    y_tr: 1D array,\n",
    "        training labels\n",
    "    \n",
    "    Return:\n",
    "    -------\n",
    "    tree: tree structure (dict),\n",
    "    \"\"\"\n",
    "    # Get the first node (root)\n",
    "    self._Tree = self._get_split(X_tr, y_tr, np.arange(X_tr.shape[0]))\n",
    "    \n",
    "    # Get the tree structure\n",
    "    # TODO\n",
    "\n",
    "    return self._Tree\n",
    "\n",
    "# Make fit a method of the DecisionTreeClassifier class\n",
    "DecisionTreeClassifier.fit = fit"
   ]
  },
  {
   "cell_type": "markdown",
   "metadata": {
    "deletable": true,
    "editable": true
   },
   "source": [
    "### 4.1.3 Make a Prediction\n",
    "\n",
    "Making predictions with a decision tree involves navigating the tree with the specifically provided row of data.\n",
    "\n",
    "Again, we can implement this using a recursive function, where the same prediction routine is called again with the left or the right child nodes, depending on how the split affects the provided data.\n",
    "\n",
    "We must check if a child node is either a terminal value to be returned as the prediction, or if it is a dictionary node containing another level of the tree to be considered.\n",
    "\n",
    "Below is the `passing_tree` function that implements this procedure. The `predict` function wraps it. "
   ]
  },
  {
   "cell_type": "code",
   "execution_count": null,
   "metadata": {
<<<<<<< HEAD
=======
    "collapsed": false,
    "deletable": true,
    "editable": true,
>>>>>>> f1df0ad3a881f47d2535f6051b09ef6a693523e5
    "scrolled": true
   },
   "outputs": [],
   "source": [
    "def passing_tree(self, node, X_row):\n",
    "    \"\"\"\n",
    "    Parameters:\n",
    "    -----------\n",
    "    node: dict,\n",
    "        current node\n",
    "    X_row: 1d array,\n",
    "        features array for the current instance\n",
    "        \n",
    "    Return:\n",
    "    -------\n",
    "    leaf_value: tuple,\n",
    "        proportion of class 0 and class 1 instances in the leaf node in which the current instance falls into.\n",
    "    \"\"\"\n",
    "    if X_row[node['index']] < node['value']:\n",
    "        if isinstance(node['left'], dict):\n",
    "            return self._passing_tree(node['left'], X_row)\n",
    "        else:\n",
    "            return node['left']\n",
    "    else:\n",
    "        if isinstance(node['right'], dict):\n",
    "            return self._passing_tree(node['right'], X_row)\n",
    "        else:\n",
    "            return node['right']\n",
    "\n",
    "# Make passing_tree a method of the DecisionTreeClassifier class\n",
    "DecisionTreeClassifier._passing_tree = passing_tree\n",
    "\n",
    "def predict(self, X_te):\n",
    "    \"\"\"\n",
    "    Parameters:\n",
    "    -----------\n",
    "    X_te: array,\n",
    "        test design matrix\n",
    "    \n",
    "    Return:\n",
    "    -------\n",
    "    predicted_labels: list,\n",
    "        list of predicted labels for each instances in the test set\n",
    "    \"\"\"\n",
    "    predictions = np.zeros(X_te.shape[0])\n",
    "    i = 0\n",
    "    for row in X_te:\n",
    "        prediction[i] = # TODO\n",
    "        i += 1\n",
    "    return(predictions)\n",
    "\n",
    "# Make predict a method of the DecisionTreeClassifier class\n",
    "DecisionTreeClassifier.predict = predict\n",
    "\n",
    "def predict_proba(self, X_te):\n",
    "    \"\"\"\n",
    "    Parameters:\n",
    "    -----------\n",
    "    X_te: array,\n",
    "        test design matrix\n",
    "    \n",
    "    Return:\n",
    "    -------\n",
    "    predicted_probability_labels: list,\n",
    "        list of predicted labels probability for each instances in the test set\n",
    "    \"\"\"\n",
    "    predictions = np.zeros((X_te.shape[0],2))\n",
    "    i=0\n",
    "    for row in X_te:\n",
    "        predictions[i, :] = # TODO\n",
    "        i += 1\n",
    "    return(predictions)\n",
    "\n",
    "# Make predict_proba a method of the DecisionTreeClassifier class\n",
    "DecisionTreeClassifier.predict_proba = predict_proba"
   ]
  },
  {
   "cell_type": "markdown",
   "metadata": {
    "deletable": true,
    "editable": true
   },
   "source": [
    "**Question** Cross-validate the decision tree and display the accuracy."
   ]
  },
  {
   "cell_type": "code",
   "execution_count": null,
   "metadata": {
<<<<<<< HEAD
=======
    "collapsed": false,
    "deletable": true,
    "editable": true,
>>>>>>> f1df0ad3a881f47d2535f6051b09ef6a693523e5
    "scrolled": false
   },
   "outputs": [],
   "source": [
    "clf = DecisionTreeClassifier()\n",
    "pred = cross_validate_clf(design_matrix=X_iris, \n",
    "                          classifier=clf, cv_folds=folds_iris, labels=y_iris)\n",
    "print(metrics.accuracy_score(y_iris, np.where(pred > 0.5, 1, 0)))"
   ]
  },
  {
   "cell_type": "markdown",
   "metadata": {
    "deletable": true,
    "editable": true
   },
   "source": [
    "### 4.1.4 Possible extensions\n",
    "\n",
    "**Cross Entropy.** Another cost function for evaluating splits quality is cross entropy (logloss). \n",
    "\n",
    "**Categorical Dataset.** Our `DecisionTreeClassifier` class was designed for input data with numerical or ordinal input attributes, experiment with categorical input data and splits that may use equality instead of ranking.\n",
    "\n",
    "**Regression.** We can adapt the tree for regression using a different cost function (like the mean squared error) and method for creating leaves (like the mean of the values associated to the instances of the corresponding leaf)."
   ]
  },
  {
   "cell_type": "markdown",
   "metadata": {
    "deletable": true,
    "editable": true
   },
   "source": [
    "## 4.2 Bagging trees\n",
    "\n",
    "Fill in the blanks to create our own BaggingTreesClassifier class."
   ]
  },
  {
   "cell_type": "code",
   "execution_count": null,
<<<<<<< HEAD
   "metadata": {},
=======
   "metadata": {
    "collapsed": false,
    "deletable": true,
    "editable": true
   },
>>>>>>> f1df0ad3a881f47d2535f6051b09ef6a693523e5
   "outputs": [],
   "source": [
    "def get_tree(self, X_tr, y_tr):\n",
    "    \"\"\"\n",
    "    Parameters:\n",
    "    -----------\n",
    "    X_tr: array,\n",
    "        training design matrix\n",
    "    y_tr: 1d array,\n",
    "        training labels\n",
    "    \n",
    "    Returns:\n",
    "    --------\n",
    "    tree: tree structure (dict),\n",
    "        the tree structure learned on the bootstrapped data.\n",
    "    \"\"\"\n",
    "    # Create a bootstrap sample\n",
    "    boot = np.random.choice(np.arange(X_tr.shape[0]), size=X_tr.shape[0], replace=True)\n",
    "    # Train a tree on this bootstrap sample\n",
    "    local_tree = # TODO\n",
    "    return local_tree\n",
    "\n",
    "def get_pred(self, X_te, local_tree, pred_type):\n",
    "    \"\"\"\n",
    "    Parameters:\n",
    "    -----------\n",
    "    X_te: array,\n",
    "        test design matrix\n",
    "    pred_type: string,\n",
    "        either 'label' (for returnin predicted labels) or 'proba' (for returning labels probability)\n",
    "    \n",
    "    Returns:\n",
    "    --------\n",
    "    trees_prediction: list,\n",
    "        list of predictions\n",
    "    \"\"\"\n",
    "    if pred_type=='label':\n",
    "        predictions = np.zeros(X_te.shape[0])\n",
    "        i = 0\n",
    "        for row in X_te:\n",
    "            predictions[i] = # TODO\n",
    "            i += 1\n",
    "    elif pred_type=='proba':\n",
    "        predictions = np.zeros((X_te.shape[0], 2))\n",
    "        i=0\n",
    "        for row in X_te:\n",
    "            predictions[i, :] = # TODO\n",
    "            i += 1\n",
    "    return predictions\n",
    "\n",
    "def get_trees_prediction(self, X_te, pred_type):\n",
    "    \"\"\"\n",
    "    Parameters:\n",
    "    -----------\n",
    "    X_te: array,\n",
    "        test design matrix\n",
    "    pred_type: string,\n",
    "        either 'label' (for returnin predicted labels) or 'proba' (for returning labels probability)\n",
    "    \n",
    "    Returns:\n",
    "    --------\n",
    "    trees_prediction: list,\n",
    "        list of predictions\n",
    "    \"\"\"\n",
    "    trees_prediction = []\n",
    "    for n in range(self.n_trees):\n",
    "        trees_prediction.append( # TODO\n",
    "    return trees_prediction\n",
    "\n",
    "        \n",
    "class BaggingTreesClassifier(DecisionTreeClassifier):\n",
    "    def __init__(self, class_values=[0,1], min_size=1, max_depth=None, n_trees=5):\n",
    "        DecisionTreeClassifier.__init__(self, class_values, min_size, max_depth)\n",
    "        self.n_trees = n_trees\n",
    "        self._trees = []\n",
    "        \n",
    "    def fit(self, X_tr, y_tr):\n",
    "        self.n_features = X_tr.shape[1]\n",
    "        for n in range(self.n_trees):\n",
    "            self._trees.append(get_tree(self,X_tr,y_tr))\n",
    "    \n",
    "    def predict(self, X_te):\n",
    "        trees_prediction = get_trees_prediction(self, X_te, 'label')\n",
    "        return np.where(np.sum(trees_prediction, axis=0) > self.n_trees, 1, 0)\n",
    "    \n",
    "    def predict_proba(self,X_te):\n",
    "        trees_prediction = get_trees_prediction(self, X_te, 'proba')\n",
    "        return np.sum(trees_prediction, axis=0)/self.n_trees"
   ]
  },
  {
   "cell_type": "markdown",
   "metadata": {
    "deletable": true,
    "editable": true
   },
   "source": [
    "** Bonus question ** Add a parallelized implementation, using the [multiprocessing.Pool](https://docs.python.org/3.5/library/multiprocessing.html#module-multiprocessing) class"
   ]
  },
  {
   "cell_type": "code",
   "execution_count": null,
   "metadata": {
    "collapsed": true,
    "deletable": true,
    "editable": true
   },
   "outputs": [],
   "source": [
    "from multiprocessing import Pool\n",
    "\n",
    "def get_trees_prediction_parallel(self, X_te, pred_type):\n",
    "    if type(self.parallel) is not int:\n",
    "        trees_prediction = []\n",
    "        for n in range(self.n_trees):\n",
    "            trees_prediction.append(get_pred(self, X_te, self._trees[n], pred_type))\n",
    "    else:\n",
    "        n_cpu = self.parallel\n",
    "        p = Pool(n_cpu)\n",
    "        trees_prediction = p.starmap(# TODO\n",
    "    return trees_prediction\n",
    "\n",
    "class BaggingTreesClassifier_parallel(DecisionTreeClassifier):\n",
    "    \"\"\"\n",
    "    Parameters:\n",
    "    -----------\n",
    "    class_values: tuple\n",
    "        labels distinguishing classes\n",
    "    min_size: int\n",
    "        expected number of instance into leaves\n",
    "        if None, the number of instance in nodes is not a criterion for stopping growing the tree\n",
    "    max_depth: int\n",
    "        expected depth of the tree \n",
    "        if None, the depth of the tree is not a criterion for stopping growing the tree\n",
    "    n_trees: int\n",
    "        number of trees\n",
    "    parallel: int\n",
    "        number of CPU cores to use\n",
    "        if None, use sequential implementation.\n",
    "    \"\"\"\n",
    "    def __init__(self, class_values=[0,1], min_size=1, max_depth=None, n_trees=5, parallel=None):\n",
    "        DecisionTreeClassifier.__init__(self, class_values, min_size, max_depth)\n",
    "        self.n_trees = n_trees\n",
    "        self._trees = []\n",
    "        self.parallel = parallel\n",
    "        \n",
    "    def fit(self, X_tr, y_tr):\n",
    "        n_samples, self.n_features = X_tr.shape[0], X_tr.shape[1]\n",
    "        if type(self.parallel) is not int:\n",
    "            # Compute trees sequentially\n",
    "            for n in range(self.n_trees):\n",
    "                self._trees.append(get_tree(self, n_samples, X_tr, y_tr))\n",
    "        else:\n",
    "            # Compute trees in parallel\n",
    "            n_cpu = self.parallel\n",
    "            p = Pool(n_cpu)\n",
    "            self._trees = p.starmap(# TODO\n",
    "    \n",
    "    def predict(self, X_te):\n",
    "        trees_prediction = get_trees_prediction_parallel(self, X_te, 'label')\n",
    "        return np.where(np.sum(trees_prediction, axis=0) > self.n_trees, 1, 0)\n",
    "    \n",
    "    def predict_proba(self,X_te):\n",
    "        trees_prediction = get_trees_prediction_parallel(self, X_te, 'proba')\n",
    "        return np.sum(trees_prediction, axis=0)/self.n_trees"
   ]
  },
  {
   "cell_type": "markdown",
   "metadata": {
    "deletable": true,
    "editable": true
   },
   "source": [
    "**Question** Compute the predicted labels by a bagging trees classifier of 5 decision trees on the test data. Display the accuracy."
   ]
  },
  {
   "cell_type": "code",
   "execution_count": null,
<<<<<<< HEAD
   "metadata": {},
=======
   "metadata": {
    "collapsed": false,
    "deletable": true,
    "editable": true
   },
>>>>>>> f1df0ad3a881f47d2535f6051b09ef6a693523e5
   "outputs": [],
   "source": [
    "clf = BaggingTreesClassifier()\n",
    "pred = cross_validate_clf(design_matrix=X_iris, classifier=clf, cv_folds=folds_iris, labels=y_iris)\n",
    "print(metrics.accuracy_score(y_iris, np.where(pred > 0.5, 1, 0)))"
   ]
  },
  {
   "cell_type": "markdown",
   "metadata": {
    "deletable": true,
    "editable": true
   },
   "source": [
    "## 4.3 Random Forest"
   ]
  },
  {
   "cell_type": "markdown",
   "metadata": {
    "deletable": true,
    "editable": true
   },
   "source": [
    "**Question** Implement a new class called RandomForest inheriting from the class BaggingTreesClassifier."
   ]
  },
  {
   "cell_type": "code",
   "execution_count": null,
<<<<<<< HEAD
   "metadata": {},
=======
   "metadata": {
    "collapsed": false,
    "deletable": true,
    "editable": true
   },
>>>>>>> f1df0ad3a881f47d2535f6051b09ef6a693523e5
   "outputs": [],
   "source": [
    "class RandomForestClassifier(BaggingTreesClassifier):\n",
    "    def __init__(self, class_values=[0,1], min_size=1, max_depth=None, n_trees=10, max_features='auto'):\n",
    "        BaggingTreesClassifier.__init__(self, class_values, min_size, max_depth, n_trees)\n",
    "        self.max_features = max_features\n",
    "        # Number of features to consider per split:\n",
    "        self._features_per_split = None if type(max_features) is not int else max_features\n",
    "    \n",
    "    def fit(self, X_tr, y_tr):\n",
    "        if self.max_features == 'auto':\n",
    "            # As in sklearn, use the square root of the number of features\n",
    "            self._features_per_split = # TODO\n",
    "        # TODO train the random forest classifier\n",
    "        \n",
    "    # Select the best split point for a dataset\n",
    "    def _get_split(self, X, y, node_indices):\n",
    "        b_index, b_value, b_score, b_groups = 999, 999, 999, None\n",
    "        features = np.random.choice(np.arange(self.n_features), size=self._features_per_split, replace=False)\n",
    "        for ind_feature in features:\n",
    "            for ind_instance in node_indices:\n",
    "                # Split the dataset (restricted to the considered instances)\n",
    "                groups = # TODO\n",
    "                # Compute the corresponding Gini Index\n",
    "                gini = # TODO\n",
    "                if gini < b_score:\n",
    "                    # Update b_index, b\n",
    "        return {'index':b_index, 'value':b_value, 'groups':b_groups}"
   ]
  },
  {
   "cell_type": "code",
   "execution_count": null,
<<<<<<< HEAD
   "metadata": {},
=======
   "metadata": {
    "collapsed": false,
    "deletable": true,
    "editable": true
   },
>>>>>>> f1df0ad3a881f47d2535f6051b09ef6a693523e5
   "outputs": [],
   "source": [
    "clf = RandomForestClassifier(max_features=1)\n",
    "pred = cross_validate_clf(design_matrix=X_iris, classifier=clf, cv_folds=folds_iris, labels=y_iris)\n",
    "print(metrics.accuracy_score(y_iris, np.where(pred > 0.5, 1, 0)))"
   ]
  },
  {
   "cell_type": "markdown",
   "metadata": {
    "collapsed": true,
    "deletable": true,
    "editable": true
   },
   "source": [
    "# 5. BONUS: feature importance via RandomForest\n",
    "\n",
    "Based on the performance obtained by the l1-regularized logistic regression, on the endometrium-vs-uterus dataset, a subset of features can yield better predictive models of gene expression data. \n",
    "\n",
    "It is worth to notice that tree-based methods 'naturally' compute a measure of feature importance which can be directly use for selecting features. Indeed, at each split in each tree, the improvement in the split-criterion is the importance measure attributed to the splittings variables. Feature importance is accumulated over all trees in the forest.\n",
    "\n",
    "In scikit-learn, this feature importance is accessible via the `feature_importances_` attributes of random forests, and can be processed thanks to the meta-transformer [feature_selection.SelectFromModel](http://scikit-learn.org/stable/modules/generated/sklearn.feature_selection.SelectFromModel)."
   ]
  },
  {
   "cell_type": "code",
   "execution_count": null,
   "metadata": {
    "collapsed": true,
    "deletable": true,
    "editable": true
   },
   "outputs": [],
   "source": [
    "# Loading modules \n",
    "from sklearn.feature_selection import SelectFromModel\n",
    "from sklearn import pipeline\n",
    "\n",
    "#from sklearn import ensemble\n",
    "#from sklearn import linear_model\n",
    "#from sklearn.model_selection import GridSearchCV, StratifiedKFold"
   ]
  },
  {
   "cell_type": "code",
   "execution_count": null,
<<<<<<< HEAD
   "metadata": {},
=======
   "metadata": {
    "collapsed": false,
    "deletable": true,
    "editable": true
   },
>>>>>>> f1df0ad3a881f47d2535f6051b09ef6a693523e5
   "outputs": [],
   "source": [
    "# Reloading the data\n",
    "cancer_data = pd.read_csv('data/small_Endometrium_Uterus.csv', sep=\",\")  # load data\n",
    "X = cancer_data.drop(['ID_REF', 'Tissue'], axis=1).values\n",
    "y = pd.get_dummies(cancer_data['Tissue']).values[:,1]\n",
    "print X.shape, y.shape"
   ]
  },
  {
   "cell_type": "code",
   "execution_count": null,
   "metadata": {
    "collapsed": true,
    "deletable": true,
    "editable": true
   },
   "outputs": [],
   "source": [
    "# Creating folds\n",
    "skf = StratifiedKFold(n_splits=5)\n",
    "skf.get_n_splits(X, y)\n",
    "folds = [(tr,te) for (tr,te) in skf.split(X, y)]"
   ]
  },
  {
   "cell_type": "code",
   "execution_count": null,
<<<<<<< HEAD
   "metadata": {},
=======
   "metadata": {
    "collapsed": false,
    "deletable": true,
    "editable": true
   },
>>>>>>> f1df0ad3a881f47d2535f6051b09ef6a693523e5
   "outputs": [],
   "source": [
    "THRESHOLD_OPTIONS = ['mean', '1.5*mean', '2*mean', '5*mean']\n",
    "C_OPTIONS = np.logspace(-3, 3, 7)\n",
    "N_ESTIMATORS_OPTIONS = [10, 20, 50]\n",
    "\n",
    "param_grid = [\n",
    "\n",
    "    {\n",
    "        'feature_selection': [SelectFromModel(ensemble.RandomForestClassifier(n_estimators=50))],\n",
    "        'feature_selection__threshold': THRESHOLD_OPTIONS,\n",
    "        'classification': [ensemble.RandomForestClassifier()],\n",
    "        'classification__n_estimators': N_ESTIMATORS_OPTIONS,\n",
    "    },\n",
    "    {\n",
    "        'feature_selection': [SelectFromModel(ensemble.RandomForestClassifier(n_estimators=50))],\n",
    "        'feature_selection__threshold': THRESHOLD_OPTIONS,\n",
    "        'classification': [linear_model.LogisticRegression(penalty='l2')],\n",
    "        'classification__C': C_OPTIONS,\n",
    "    },\n",
    "]\n",
    "\n",
    "pipe = pipeline.Pipeline([\n",
    "  ('feature_selection', SelectFromModel((ensemble.RandomForestClassifier(n_estimators=50)))),\n",
    "  ('classification', ensemble.RandomForestClassifier())\n",
    "])\n",
    "grid = GridSearchCV(pipe, cv=folds, n_jobs=3, param_grid=param_grid, scoring='roc_auc')\n",
    "grid.fit(X, y)\n",
    "\n",
    "grid_l1_log_reg = GridSearchCV(linear_model.LogisticRegression(penalty='l1'), cv=folds, n_jobs=3, \n",
    "                               param_grid={'C':C_OPTIONS}, scoring='roc_auc')\n",
    "grid_l1_log_reg.fit(X,y)"
   ]
  },
  {
   "cell_type": "markdown",
   "metadata": {
    "deletable": true,
    "editable": true
   },
   "source": [
    "Let us now use a data_frame to display the results of our evaluation procedure"
   ]
  },
  {
   "cell_type": "code",
   "execution_count": null,
   "metadata": {
<<<<<<< HEAD
=======
    "collapsed": false,
    "deletable": true,
    "editable": true,
>>>>>>> f1df0ad3a881f47d2535f6051b09ef6a693523e5
    "scrolled": true
   },
   "outputs": [],
   "source": [
    "data_frame = {name:[] for i in range(len(grid.cv_results_['params'])) for name in grid.cv_results_['params'][i]}\n",
    "data_frame['score'] = []\n",
    "\n",
    "sorted_index_score = np.argsort(grid.cv_results_['mean_test_score'])[::-1]\n",
    "for ind in sorted_index_score:\n",
    "    data_frame['score'].append(grid.cv_results_['mean_test_score'][ind])\n",
    "    for name in data_frame.keys():\n",
    "        if name in grid.cv_results_['params'][ind]:\n",
    "            data_frame[name].append(grid.cv_results_['params'][ind][name])\n",
    "        elif name!='score':\n",
    "            data_frame[name].append(None)\n",
    "    \n",
    "pd.DataFrame(data_frame).head(10)"
   ]
  },
  {
   "cell_type": "code",
   "execution_count": null,
<<<<<<< HEAD
   "metadata": {},
=======
   "metadata": {
    "collapsed": false,
    "deletable": true,
    "editable": true
   },
>>>>>>> f1df0ad3a881f47d2535f6051b09ef6a693523e5
   "outputs": [],
   "source": [
    "data_frame = {name:[] for i in range(len(grid_l1_log_reg.cv_results_['params'])) \n",
    "                          for name in grid_l1_log_reg.cv_results_['params'][i]}\n",
    "data_frame['score'] = []\n",
    "\n",
    "sorted_index_score = np.argsort(grid_l1_log_reg.cv_results_['mean_test_score'])[::-1]\n",
    "for ind in sorted_index_score:\n",
    "    data_frame['score'].append(grid_l1_log_reg.cv_results_['mean_test_score'][ind])\n",
    "    for name in data_frame.keys():\n",
    "        if name in grid_l1_log_reg.cv_results_['params'][ind]:\n",
    "            data_frame[name].append(grid_l1_log_reg.cv_results_['params'][ind][name])\n",
    "        elif name!='score':\n",
    "            data_frame[name].append(None)\n",
    "    \n",
    "pd.DataFrame(data_frame).head(10)"
   ]
  },
  {
   "cell_type": "code",
   "execution_count": null,
<<<<<<< HEAD
   "metadata": {},
=======
   "metadata": {
    "collapsed": false,
    "deletable": true,
    "editable": true
   },
>>>>>>> f1df0ad3a881f47d2535f6051b09ef6a693523e5
   "outputs": [],
   "source": [
    "print('number of original features: ', X.shape[1])\n",
    "\n",
    "tree_based_feature_selection = SelectFromModel(estimator=ensemble.RandomForestClassifier(n_estimators=50), \n",
    "                                               threshold='mean')\n",
    "tree_based_feature_selection.fit(X, y)\n",
    "print('number of selected features by random forest:', len(tree_based_feature_selection.get_support(indices=True)))\n",
    "\n",
    "l1_clf = linear_model.LogisticRegression(penalty='l1', C=100)\n",
    "l1_clf.fit(X,y)\n",
    "print('number of selected features by log. reg. with L1 regularization:', len(np.where(l1_clf.coef_!=0)[0]))"
   ]
  },
  {
   "cell_type": "code",
   "execution_count": null,
   "metadata": {
    "collapsed": true,
    "deletable": true,
    "editable": true
   },
   "outputs": [],
   "source": []
  }
 ],
 "metadata": {
  "kernelspec": {
   "display_name": "Python 3",
   "language": "python",
   "name": "python3"
  },
  "language_info": {
   "codemirror_mode": {
    "name": "ipython",
    "version": 3
   },
   "file_extension": ".py",
   "mimetype": "text/x-python",
   "name": "python",
   "nbconvert_exporter": "python",
<<<<<<< HEAD
   "pygments_lexer": "ipython3",
   "version": "3.6.1"
=======
   "pygments_lexer": "ipython2",
   "version": "2.7.12"
>>>>>>> f1df0ad3a881f47d2535f6051b09ef6a693523e5
  }
 },
 "nbformat": 4,
 "nbformat_minor": 2
}
